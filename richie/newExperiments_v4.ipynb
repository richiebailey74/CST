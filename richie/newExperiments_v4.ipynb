{
 "cells": [
  {
   "cell_type": "markdown",
   "id": "79447356",
   "metadata": {},
   "source": [
    "# Cancer Data Experimental ML Analysis v4"
   ]
  },
  {
   "cell_type": "code",
   "execution_count": 1,
   "id": "5cd842bf",
   "metadata": {},
   "outputs": [],
   "source": [
    "#import useful libraries\n",
    "import pandas as pd\n",
    "import numpy as np \n",
    "import matplotlib.pyplot as plt \n",
    "from matplotlib.pyplot import figure\n",
    "import sys\n",
    "import umap.umap_ as umap\n",
    "import random\n",
    "from sklearn.preprocessing import StandardScaler\n",
    "from sklearn.decomposition import PCA\n",
    "from sklearn.feature_selection import SelectKBest\n",
    "from sklearn.feature_selection import mutual_info_classif\n",
    "from sklearn.svm import SVC\n",
    "from sklearn.naive_bayes import GaussianNB\n",
    "from sklearn.neighbors import KNeighborsClassifier\n",
    "from sklearn.ensemble import RandomForestClassifier\n",
    "from sklearn.linear_model import SGDClassifier\n",
    "from sklearn.pipeline import make_pipeline\n",
    "from sklearn.discriminant_analysis import LinearDiscriminantAnalysis\n",
    "from sklearn.model_selection import train_test_split\n",
    "from sklearn.metrics import balanced_accuracy_score\n",
    "from sklearn.metrics import f1_score\n",
    "from sklearn.metrics import precision_score\n",
    "from sklearn.metrics import recall_score\n",
    "from sklearn.decomposition import KernelPCA\n",
    "from sklearn.metrics import confusion_matrix\n",
    "from sklearn.metrics import ConfusionMatrixDisplay\n",
    "from sklearn.model_selection import KFold"
   ]
  },
  {
   "cell_type": "code",
   "execution_count": null,
   "id": "169deec8",
   "metadata": {},
   "outputs": [],
   "source": [
    "# import sys\n",
    "# !{sys.executable} -m pip install umap-learn\n",
    "# import umap.umap_ as umap"
   ]
  },
  {
   "cell_type": "code",
   "execution_count": 2,
   "id": "65e55566",
   "metadata": {},
   "outputs": [],
   "source": [
    "#import data (beware, it takes around 10 minutes)\n",
    "df = pd.read_csv('../clinical_TumorCompendium_v11_PolyA_2020-04-09.tsv', sep='\\t', header=0)\n",
    "df2 = pd.read_csv('../TumorCompendium_v11_PolyA_hugo_log2tpm_58581genes_2020-04-09.tsv', sep='\\t', header=0)"
   ]
  },
  {
   "cell_type": "markdown",
   "id": "9450a801",
   "metadata": {},
   "source": [
    "### Methods to Conduct Experiments"
   ]
  },
  {
   "cell_type": "code",
   "execution_count": 4,
   "id": "33e24a7e",
   "metadata": {},
   "outputs": [],
   "source": [
    "def experiments_BACs(X_train, X_test, y_train, y_test, k):\n",
    "    \n",
    "    #CST goes here\n",
    "    \n",
    "    \n",
    "    pca = PCA(n_components = k)\n",
    "    pca.fit(X_train)\n",
    "    X_train_trans = pca.transform(X_train)\n",
    "    X_test_trans = pca.transform(X_test)\n",
    "    pca_bacs = experiment_BACs_helper(X_train_trans, X_test_trans, y_train, y_test, k)\n",
    "    \n",
    "    selectKBest = SelectKBest(score_func=mutual_info_classif, k=4)\n",
    "    selectKBest.fit(X_train, y_train)\n",
    "    X_train_trans = selectKBest.transform(X_train)\n",
    "    X_test_trans = selectKBest.transform(X_test)\n",
    "    mi_bacs = experiment_BACs_helper(X_train_trans, X_test_trans, y_train, y_test, k)\n",
    "    \n",
    "    mapper = umap.UMAP(n_neighbors=(k*4)).fit(X_train, y_train)\n",
    "    X_train_trans = mapper.transform(X_train)\n",
    "    X_test_trans = mapper.transform(X_test)\n",
    "    umap_bacs = experiment_BACs_helper(X_train_trans, X_test_trans, y_train, y_test, k)\n",
    "    \n",
    "    kpca = KernelPCA(n_components = k, kernel = 'poly')\n",
    "    kpca.fit(X_train)\n",
    "    X_train_trans = kpca.transform(X_train)\n",
    "    X_test_trans = kpca.transform(X_test)\n",
    "    kpca_bacs = experiment_BACs_helper(X_train_trans, X_test_trans, y_train, y_test, k)\n",
    "    \n",
    "    return  pca_bacs, mi_bacs, umap_bacs, kpca_bacs\n",
    "    "
   ]
  },
  {
   "cell_type": "code",
   "execution_count": 5,
   "id": "73b3527f",
   "metadata": {},
   "outputs": [],
   "source": [
    "def experiment_BACs_helper(X_train_trans, X_test_trans, y_train, y_test, k):\n",
    "    \n",
    "    temp_BACs = np.zeros(6)\n",
    "    \n",
    "    neighbors = KNeighborsClassifier(n_neighbors=6)\n",
    "    neighbors.fit(X_train_trans, y_train)\n",
    "    temp_BACs[0] = balanced_accuracy_score(y_test, neighbors.predict(X_test_trans))\n",
    "    \n",
    "    svm = SVC(kernel='linear', C=1)\n",
    "    svm.fit(X_train_trans, y_train)\n",
    "    temp_BACs[1] = balanced_accuracy_score(y_test, svm.predict(X_test_trans))\n",
    "    \n",
    "    gnb = GaussianNB()\n",
    "    gnb.fit(X_train_trans, y_train)\n",
    "    temp_BACs[2] = balanced_accuracy_score(y_test, gnb.predict(X_test_trans))\n",
    "    \n",
    "    rf = RandomForestClassifier(random_state=137)\n",
    "    rf.fit(X_train_trans, y_train)\n",
    "    temp_BACs[3] = balanced_accuracy_score(y_test, rf.predict(X_test_trans))\n",
    "    \n",
    "    sgd = make_pipeline(StandardScaler(), SGDClassifier(max_iter=1000, tol=1e-3))\n",
    "    sgd.fit(X_train_trans, y_train)\n",
    "    temp_BACs[4] = balanced_accuracy_score(y_test, sgd.predict(X_test_trans))\n",
    "    \n",
    "    lda = LinearDiscriminantAnalysis()\n",
    "    lda.fit(X_train_trans, y_train)\n",
    "    temp_BACs[5] = balanced_accuracy_score(y_test, lda.predict(X_test_trans))\n",
    "    \n",
    "    return temp_BACs\n",
    "    "
   ]
  },
  {
   "cell_type": "code",
   "execution_count": 6,
   "id": "24563a22",
   "metadata": {},
   "outputs": [],
   "source": [
    "#checks out bc 50 total iterations from for loops and each iteration conducts 30 ML experiments\n",
    "def runexperiments_full_6(g1_samples, g2_samples, g3_samples, g4_samples, g5_samples, g6_samples):\n",
    "    \n",
    "    x = pd.concat([g1_samples.T, g2_samples.T, g3_samples.T, g4_samples.T, g5_samples.T, g6_samples.T]) #add together all postiive and negative labels \n",
    "    x = StandardScaler().fit_transform(x) #standardize values in x (z-score standardization)\n",
    "\n",
    "    target_g1 = pd.DataFrame(np.zeros((len(g1_samples.T), 1))) #get number of target group 1\n",
    "    target_g2 = pd.DataFrame(np.ones((len(g2_samples.T), 1))) #get number of target group 2\n",
    "    target_g3 = pd.DataFrame(2*np.ones((len(g3_samples.T), 1))) #get number of target group 3\n",
    "    target_g4 = pd.DataFrame(3*np.ones((len(g4_samples.T), 1))) #get number of target group 4\n",
    "    target_g5 = pd.DataFrame(4*np.ones((len(g5_samples.T), 1))) #get number of target group 5\n",
    "    target_g6 = pd.DataFrame(5*np.ones((len(g6_samples.T), 1))) #get number of target group 6\n",
    "\n",
    "    target = pd.concat([target_g1, target_g2, target_g3, target_g4, target_g5, target_g6]) #concatenate target zeros ones twos etc together\n",
    "    target = target.reset_index(drop=True)\n",
    "    \n",
    "    splits_rats = np.array([.1, .15, .2, .25, .3])\n",
    "\n",
    "    #BAC_sums_cst = np.zeros(6)\n",
    "    BAC_sums_pca = np.zeros(6)\n",
    "    BAC_sums_mi = np.zeros(6)\n",
    "    BAC_sums_umap = np.zeros(6)\n",
    "    BAC_sums_kpca = np.zeros(6)\n",
    "    \n",
    "    \n",
    "    for i in splits_rats:\n",
    "        #split the data into test and train\n",
    "        X_train, X_test, y_train, y_test = train_test_split(x, target.to_numpy(), test_size=i, random_state=42)\n",
    "        y_train = y_train.ravel()\n",
    "        y_test = y_test.ravel()\n",
    "            \n",
    "        t2, t3, t4, t5 = experiments_BACs(X_train, X_test, y_train, y_test, 6)\n",
    "        #BAC_sums_cst += t1\n",
    "        BAC_sums_pca += t2\n",
    "        BAC_sums_mi += t3\n",
    "        BAC_sums_umap += t4\n",
    "        BAC_sums_kpca += t5\n",
    "    \n",
    "    numIter = splits_rats.shape[0]\n",
    "    #BAC_sums_cst /= numIter\n",
    "    BAC_sums_pca /= numIter\n",
    "    BAC_sums_mi /= numIter\n",
    "    BAC_sums_umap /= numIter\n",
    "    BAC_sums_kpca /= numIter    \n",
    "    \n",
    "    return BAC_sums_pca, BAC_sums_mi, BAC_sums_umap, BAC_sums_kpca\n",
    "    "
   ]
  },
  {
   "cell_type": "code",
   "execution_count": null,
   "id": "841410ed",
   "metadata": {},
   "outputs": [],
   "source": []
  },
  {
   "cell_type": "code",
   "execution_count": 7,
   "id": "d809c33f",
   "metadata": {},
   "outputs": [],
   "source": [
    "#checks out bc 50 total iterations from for loops and each iteration conducts 30 ML experiments\n",
    "def runexperiments_full_4(g1_samples, g2_samples, g3_samples, g4_samples):\n",
    "    \n",
    "    x = pd.concat([g1_samples.T, g2_samples.T, g3_samples.T, g4_samples.T]) #add together all postiive and negative labels \n",
    "    x = StandardScaler().fit_transform(x) #standardize values in x (z-score standardization)\n",
    "\n",
    "    target_g1 = pd.DataFrame(np.zeros((len(g1_samples.T), 1))) #get number of target group 1\n",
    "    target_g2 = pd.DataFrame(np.ones((len(g2_samples.T), 1))) #get number of target group 2\n",
    "    target_g3 = pd.DataFrame(2*np.ones((len(g3_samples.T), 1))) #get number of target group 3\n",
    "    target_g4 = pd.DataFrame(3*np.ones((len(g4_samples.T), 1))) #get number of target group 4\n",
    "\n",
    "    target = pd.concat([target_g1, target_g2, target_g3, target_g4]) #concatenate target zeros ones twos etc together\n",
    "    target = target.reset_index(drop=True)\n",
    "    \n",
    "    splits_rats = np.array([.1, .15, .2, .25, .3])\n",
    "\n",
    "    #BAC_sums_cst = np.zeros(6)\n",
    "    BAC_sums_pca = np.zeros(6)\n",
    "    BAC_sums_mi = np.zeros(6)\n",
    "    BAC_sums_umap = np.zeros(6)\n",
    "    BAC_sums_kpca = np.zeros(6)\n",
    "    \n",
    "    \n",
    "    for i in splits_rats:\n",
    "        #split the data into test and train\n",
    "        X_train, X_test, y_train, y_test = train_test_split(x, target.to_numpy(), test_size=i, random_state=42)\n",
    "        y_train = y_train.ravel()\n",
    "        y_test = y_test.ravel()\n",
    "            \n",
    "        t2, t3, t4, t5 = experiments_BACs(X_train, X_test, y_train, y_test, 4)\n",
    "        #BAC_sums_cst += t1\n",
    "        BAC_sums_pca += t2\n",
    "        BAC_sums_mi += t3\n",
    "        BAC_sums_umap += t4\n",
    "        BAC_sums_kpca += t5\n",
    "    \n",
    "    numIter = splits_rats.shape[0]\n",
    "    #BAC_sums_cst /= numIter\n",
    "    BAC_sums_pca /= numIter\n",
    "    BAC_sums_mi /= numIter\n",
    "    BAC_sums_umap /= numIter\n",
    "    BAC_sums_kpca /= numIter    \n",
    "    \n",
    "    return BAC_sums_pca, BAC_sums_mi, BAC_sums_umap, BAC_sums_kpca\n",
    "    "
   ]
  },
  {
   "cell_type": "code",
   "execution_count": null,
   "id": "53ec6f13",
   "metadata": {},
   "outputs": [],
   "source": []
  },
  {
   "cell_type": "code",
   "execution_count": 1,
   "id": "44548784",
   "metadata": {},
   "outputs": [],
   "source": [
    "#checks out bc 50 total iterations from for loops and each iteration conducts 30 ML experiments\n",
    "def runexperiments_full_2(g1_samples, g2_samples):\n",
    "    \n",
    "    x = pd.concat([g1_samples, g2_samples]) #add together all postiive and negative labels \n",
    "    x = StandardScaler().fit_transform(x) #standardize values in x (z-score standardization)\n",
    "\n",
    "    target_g1 = pd.DataFrame(np.zeros((len(g1_samples), 1))) #get number of target group 1\n",
    "    target_g2 = pd.DataFrame(np.ones((len(g2_samples), 1))) #get number of target group 2\n",
    "\n",
    "    target = pd.concat([target_g1, target_g2]) #concatenate target zeros ones twos etc together\n",
    "    target = target.reset_index(drop=True)\n",
    "    \n",
    "    splits_rats = np.array([.1, .15, .2, .25, .3])\n",
    "\n",
    "    #BAC_sums_cst = np.zeros(6)\n",
    "    BAC_sums_pca = np.zeros(6)\n",
    "    BAC_sums_mi = np.zeros(6)\n",
    "    BAC_sums_umap = np.zeros(6)\n",
    "    BAC_sums_kpca = np.zeros(6)\n",
    "    \n",
    "    \n",
    "    for i in splits_rats:\n",
    "        #split the data into test and train\n",
    "        X_train, X_test, y_train, y_test = train_test_split(x, target.to_numpy(), test_size=i, random_state=42)\n",
    "        y_train = y_train.ravel()\n",
    "        y_test = y_test.ravel()\n",
    "            \n",
    "        t2, t3, t4, t5 = experiments_BACs(X_train, X_test, y_train, y_test, 2)\n",
    "        #BAC_sums_cst += t1\n",
    "        BAC_sums_pca += t2\n",
    "        BAC_sums_mi += t3\n",
    "        BAC_sums_umap += t4\n",
    "        BAC_sums_kpca += t5\n",
    "    \n",
    "    numIter = splits_rats.shape[0]\n",
    "    #BAC_sums_cst /= numIter\n",
    "    BAC_sums_pca /= numIter\n",
    "    BAC_sums_mi /= numIter\n",
    "    BAC_sums_umap /= numIter\n",
    "    BAC_sums_kpca /= numIter    \n",
    "    \n",
    "    return BAC_sums_pca, BAC_sums_mi, BAC_sums_umap, BAC_sums_kpca\n",
    "    "
   ]
  },
  {
   "cell_type": "code",
   "execution_count": null,
   "id": "b716738e",
   "metadata": {},
   "outputs": [],
   "source": []
  },
  {
   "cell_type": "code",
   "execution_count": null,
   "id": "207aa6e3",
   "metadata": {},
   "outputs": [],
   "source": []
  },
  {
   "cell_type": "markdown",
   "id": "7c848bd6",
   "metadata": {},
   "source": [
    "### Get all data organized for each experimental permutation (1-7):"
   ]
  },
  {
   "cell_type": "code",
   "execution_count": null,
   "id": "7af63606",
   "metadata": {},
   "outputs": [],
   "source": [
    "#1). Classifying between 6 types of carcinomas (6-way classification)"
   ]
  },
  {
   "cell_type": "code",
   "execution_count": 72,
   "id": "cf671954",
   "metadata": {},
   "outputs": [],
   "source": [
    "samples1 = df[df['disease']=='lung squamous cell carcinoma']['th_sampleid'] \n",
    "g1_samples = df2.loc[:,list(samples1)]\n",
    "\n",
    "samples2 = df[df['disease']=='kidney clear cell carcinoma']['th_sampleid'] \n",
    "g2_samples = df2.loc[:,list(samples2)]\n",
    "\n",
    "samples3 = df[df['disease']=='thyroid carcinoma']['th_sampleid'] \n",
    "g3_samples = df2.loc[:,list(samples3)]\n",
    "\n",
    "samples4 = df[df['disease']=='head & neck squamous cell carcinoma']['th_sampleid'] \n",
    "g4_samples = df2.loc[:,list(samples4)]\n",
    "\n",
    "samples5 = df[df['disease']=='kidney papillary cell carcinoma']['th_sampleid'] \n",
    "g5_samples = df2.loc[:,list(samples5)]\n",
    "\n",
    "samples6 = df[df['disease']=='bladder urothelial carcinoma']['th_sampleid'] \n",
    "g6_samples = df2.loc[:,list(samples6)]"
   ]
  },
  {
   "cell_type": "code",
   "execution_count": null,
   "id": "305fecbd",
   "metadata": {},
   "outputs": [],
   "source": [
    "ex1_cst, ex1_pca, ex1_mi, ex1_umap, ex1_kpca = runexperiments_full_6(g1_samples, g2_samples, g3_samples, g4_samples, g5_samples, g6_samples)"
   ]
  },
  {
   "cell_type": "code",
   "execution_count": null,
   "id": "8904518a",
   "metadata": {},
   "outputs": [],
   "source": []
  },
  {
   "cell_type": "code",
   "execution_count": null,
   "id": "22fb1517",
   "metadata": {},
   "outputs": [],
   "source": []
  },
  {
   "cell_type": "code",
   "execution_count": null,
   "id": "195afc9a",
   "metadata": {},
   "outputs": [],
   "source": [
    "#2). Classifying between 4 types of adenocarcinomas (4-way classification)"
   ]
  },
  {
   "cell_type": "code",
   "execution_count": 73,
   "id": "b7fa3c85",
   "metadata": {},
   "outputs": [],
   "source": [
    "samples7 = df[df['disease']=='lung adenocarcinoma']['th_sampleid'] \n",
    "g7_samples = df2.loc[:,list(samples7)]\n",
    "\n",
    "samples8 = df[df['disease']=='stomach adenocarcinoma']['th_sampleid'] \n",
    "g8_samples = df2.loc[:,list(samples8)]\n",
    "\n",
    "samples9 = df[df['disease']=='prostate adenocarcinoma']['th_sampleid'] \n",
    "g9_samples = df2.loc[:,list(samples9)]\n",
    "\n",
    "samples10 = df[df['disease']=='colon adenocarcinoma']['th_sampleid'] \n",
    "g10_samples = df2.loc[:,list(samples10)]"
   ]
  },
  {
   "cell_type": "code",
   "execution_count": null,
   "id": "aa31b74d",
   "metadata": {},
   "outputs": [],
   "source": [
    "ex2_cst, ex2_pca, ex2_mi, ex2_umap, ex2_kpca = runexperiments_full_4(g7_samples, g8_samples, g9_samples, g10_samples)"
   ]
  },
  {
   "cell_type": "code",
   "execution_count": null,
   "id": "b7dd788c",
   "metadata": {},
   "outputs": [],
   "source": []
  },
  {
   "cell_type": "code",
   "execution_count": null,
   "id": "8af33ad7",
   "metadata": {},
   "outputs": [],
   "source": []
  },
  {
   "cell_type": "code",
   "execution_count": null,
   "id": "28a08770",
   "metadata": {},
   "outputs": [],
   "source": [
    "#3). Classifying between male/female within 6 types of carcinomas (2-way classification)"
   ]
  },
  {
   "cell_type": "code",
   "execution_count": 74,
   "id": "9867bf8c",
   "metadata": {},
   "outputs": [],
   "source": [
    "df_samples = df[df['disease']=='lung squamous cell carcinoma']\n",
    "samples = df_samples[df_samples['gender']=='male']['th_sampleid']\n",
    "pos_samples11 = df2.loc[:,list(samples)]\n",
    "samples = df_samples[df_samples['gender']=='female']['th_sampleid'] \n",
    "neg_samples11 = df2.loc[:,list(samples)]\n",
    "\n",
    "df_samples = df[df['disease']=='kidney clear cell carcinoma']\n",
    "samples = df_samples[df_samples['gender']=='male']['th_sampleid']\n",
    "pos_samples12 = df2.loc[:,list(samples)]\n",
    "samples = df_samples[df_samples['gender']=='female']['th_sampleid'] \n",
    "neg_samples12 = df2.loc[:,list(samples)]\n",
    "\n",
    "df_samples = df[df['disease']=='thyroid carcinoma']\n",
    "samples = df_samples[df_samples['gender']=='male']['th_sampleid']\n",
    "pos_samples13 = df2.loc[:,list(samples)]\n",
    "samples = df_samples[df_samples['gender']=='female']['th_sampleid'] \n",
    "neg_samples13 = df2.loc[:,list(samples)]\n",
    "\n",
    "df_samples = df[df['disease']=='head & neck squamous cell carcinoma']\n",
    "samples = df_samples[df_samples['gender']=='male']['th_sampleid']\n",
    "pos_samples14 = df2.loc[:,list(samples)]\n",
    "samples = df_samples[df_samples['gender']=='female']['th_sampleid'] \n",
    "neg_samples14 = df2.loc[:,list(samples)]\n",
    "\n",
    "df_samples = df[df['disease']=='kidney papillary cell carcinoma']\n",
    "samples = df_samples[df_samples['gender']=='male']['th_sampleid']\n",
    "pos_samples15 = df2.loc[:,list(samples)]\n",
    "samples = df_samples[df_samples['gender']=='female']['th_sampleid'] \n",
    "neg_samples15 = df2.loc[:,list(samples)]\n",
    "\n",
    "df_samples = df[df['disease']=='bladder urothelial carcinoma']\n",
    "samples = df_samples[df_samples['gender']=='male']['th_sampleid']\n",
    "pos_samples16 = df2.loc[:,list(samples)]\n",
    "samples = df_samples[df_samples['gender']=='female']['th_sampleid'] \n",
    "neg_samples16 = df2.loc[:,list(samples)]"
   ]
  },
  {
   "cell_type": "code",
   "execution_count": 75,
   "id": "dcbaa584",
   "metadata": {},
   "outputs": [],
   "source": [
    "pos_samples3 = pd.concat([pos_samples11.T, pos_samples12.T, pos_samples13.T, pos_samples14.T, pos_samples15.T, pos_samples16.T])\n",
    "neg_samples3 = pd.concat([neg_samples11.T, neg_samples12.T, neg_samples13.T, neg_samples14.T, neg_samples15.T, neg_samples16.T])"
   ]
  },
  {
   "cell_type": "code",
   "execution_count": null,
   "id": "d65fd36a",
   "metadata": {},
   "outputs": [],
   "source": [
    "ex3_cst, ex3_pca, ex3_mi, ex3_umap, ex3_kpca = runexperiments_full_2(pos_samples3, neg_samples3)"
   ]
  },
  {
   "cell_type": "code",
   "execution_count": null,
   "id": "12c21cfa",
   "metadata": {},
   "outputs": [],
   "source": []
  },
  {
   "cell_type": "code",
   "execution_count": null,
   "id": "7d31216a",
   "metadata": {},
   "outputs": [],
   "source": [
    "#4). Classifying between male/female within 4 types of adenocarcinomas (2-way classification)"
   ]
  },
  {
   "cell_type": "code",
   "execution_count": 76,
   "id": "c183757a",
   "metadata": {},
   "outputs": [],
   "source": [
    "df_samples = df[df['disease']=='lung adenocarcinoma']\n",
    "samples = df_samples[df_samples['gender']=='male']['th_sampleid']\n",
    "pos_samples17 = df2.loc[:,list(samples)]\n",
    "samples = df_samples[df_samples['gender']=='female']['th_sampleid'] \n",
    "neg_samples17 = df2.loc[:,list(samples)]\n",
    "\n",
    "df_samples = df[df['disease']=='stomach adenocarcinoma']\n",
    "samples = df_samples[df_samples['gender']=='male']['th_sampleid']\n",
    "pos_samples18 = df2.loc[:,list(samples)]\n",
    "samples = df_samples[df_samples['gender']=='female']['th_sampleid'] \n",
    "neg_samples18 = df2.loc[:,list(samples)]\n",
    "\n",
    "df_samples = df[df['disease']=='prostate adenocarcinoma']\n",
    "samples = df_samples[df_samples['gender']=='male']['th_sampleid']\n",
    "pos_samples19 = df2.loc[:,list(samples)]\n",
    "samples = df_samples[df_samples['gender']=='female']['th_sampleid'] \n",
    "neg_samples19 = df2.loc[:,list(samples)]\n",
    "\n",
    "df_samples = df[df['disease']=='colon adenocarcinoma']\n",
    "samples = df_samples[df_samples['gender']=='male']['th_sampleid']\n",
    "pos_samples20 = df2.loc[:,list(samples)]\n",
    "samples = df_samples[df_samples['gender']=='female']['th_sampleid'] \n",
    "neg_samples20 = df2.loc[:,list(samples)]"
   ]
  },
  {
   "cell_type": "code",
   "execution_count": 77,
   "id": "0be45ab2",
   "metadata": {},
   "outputs": [],
   "source": [
    "pos_samples4 = pd.concat([pos_samples17.T, pos_samples18.T, pos_samples19.T, pos_samples20.T])\n",
    "neg_samples4 = pd.concat([neg_samples17.T, neg_samples18.T, neg_samples19.T, neg_samples20.T])"
   ]
  },
  {
   "cell_type": "code",
   "execution_count": null,
   "id": "9765c539",
   "metadata": {},
   "outputs": [],
   "source": [
    "ex4_cst, ex4_pca, ex4_mi, ex4_umap, ex4_kpca = runexperiments_full_2(pos_samples4, neg_samples4)"
   ]
  },
  {
   "cell_type": "code",
   "execution_count": null,
   "id": "15b49b4c",
   "metadata": {},
   "outputs": [],
   "source": []
  },
  {
   "cell_type": "code",
   "execution_count": null,
   "id": "a4556b3c",
   "metadata": {},
   "outputs": [],
   "source": [
    "#5). Classifying between ped/non-ped within 6 types of carcinomas (2-way classification)"
   ]
  },
  {
   "cell_type": "code",
   "execution_count": 78,
   "id": "b155b98f",
   "metadata": {},
   "outputs": [],
   "source": [
    "df_samples = df[df['disease']=='lung squamous cell carcinoma']\n",
    "samples = df_samples[df_samples['pedaya']=='Yes, age < 30 years']['th_sampleid']\n",
    "pos_samples21 = df2.loc[:,list(samples)]\n",
    "samples = df_samples[df_samples['pedaya']=='No']['th_sampleid'] \n",
    "neg_samples21 = df2.loc[:,list(samples)]\n",
    "\n",
    "df_samples = df[df['disease']=='kidney clear cell carcinoma']\n",
    "samples = df_samples[df_samples['pedaya']=='Yes, age < 30 years']['th_sampleid']\n",
    "pos_samples22 = df2.loc[:,list(samples)]\n",
    "samples = df_samples[df_samples['pedaya']=='No']['th_sampleid'] \n",
    "neg_samples22 = df2.loc[:,list(samples)]\n",
    "\n",
    "df_samples = df[df['disease']=='thyroid carcinoma']\n",
    "samples = df_samples[df_samples['pedaya']=='Yes, age < 30 years']['th_sampleid']\n",
    "pos_samples23 = df2.loc[:,list(samples)]\n",
    "samples = df_samples[df_samples['pedaya']=='No']['th_sampleid'] \n",
    "neg_samples23 = df2.loc[:,list(samples)]\n",
    "\n",
    "df_samples = df[df['disease']=='head & neck squamous cell carcinoma']\n",
    "samples = df_samples[df_samples['pedaya']=='Yes, age < 30 years']['th_sampleid']\n",
    "pos_samples24 = df2.loc[:,list(samples)]\n",
    "samples = df_samples[df_samples['pedaya']=='No']['th_sampleid'] \n",
    "neg_samples24 = df2.loc[:,list(samples)]\n",
    "\n",
    "df_samples = df[df['disease']=='kidney papillary cell carcinoma']\n",
    "samples = df_samples[df_samples['pedaya']=='Yes, age < 30 years']['th_sampleid']\n",
    "pos_samples25 = df2.loc[:,list(samples)]\n",
    "samples = df_samples[df_samples['pedaya']=='No']['th_sampleid'] \n",
    "neg_samples25 = df2.loc[:,list(samples)]\n",
    "\n",
    "df_samples = df[df['disease']=='bladder urothelial carcinoma']\n",
    "samples = df_samples[df_samples['pedaya']=='Yes, age < 30 years']['th_sampleid']\n",
    "pos_samples26 = df2.loc[:,list(samples)]\n",
    "samples = df_samples[df_samples['pedaya']=='No']['th_sampleid'] \n",
    "neg_samples26 = df2.loc[:,list(samples)]"
   ]
  },
  {
   "cell_type": "code",
   "execution_count": 79,
   "id": "9b0cfc3b",
   "metadata": {},
   "outputs": [],
   "source": [
    "pos_samples5 = pd.concat([pos_samples21.T, pos_samples22.T, pos_samples23.T, pos_samples24.T, pos_samples25.T, pos_samples26.T])\n",
    "neg_samples5 = pd.concat([neg_samples21.T, neg_samples22.T, neg_samples23.T, neg_samples24.T, neg_samples25.T, neg_samples26.T])"
   ]
  },
  {
   "cell_type": "code",
   "execution_count": null,
   "id": "02e6bf4d",
   "metadata": {},
   "outputs": [],
   "source": [
    "ex5_cst, ex5_pca, ex5_mi, ex5_umap, ex5_kpca = runexperiments_full_2(pos_samples5, neg_samples5)"
   ]
  },
  {
   "cell_type": "code",
   "execution_count": null,
   "id": "b2d7edae",
   "metadata": {},
   "outputs": [],
   "source": []
  },
  {
   "cell_type": "code",
   "execution_count": null,
   "id": "dad7ccce",
   "metadata": {},
   "outputs": [],
   "source": [
    "#6). Classifying between ped-non-ped within 4 types of adenocarcinomas (2-way classification)"
   ]
  },
  {
   "cell_type": "code",
   "execution_count": 80,
   "id": "40ad1cf8",
   "metadata": {},
   "outputs": [],
   "source": [
    "df_samples = df[df['disease']=='lung adenocarcinoma']\n",
    "samples = df_samples[df_samples['pedaya']=='Yes, age < 30 years']['th_sampleid']\n",
    "pos_samples27 = df2.loc[:,list(samples)]\n",
    "samples = df_samples[df_samples['pedaya']=='No']['th_sampleid'] \n",
    "neg_samples27 = df2.loc[:,list(samples)]\n",
    "\n",
    "df_samples = df[df['disease']=='stomach adenocarcinoma']\n",
    "samples = df_samples[df_samples['pedaya']=='Yes, age < 30 years']['th_sampleid']\n",
    "pos_samples28 = df2.loc[:,list(samples)]\n",
    "samples = df_samples[df_samples['pedaya']=='No']['th_sampleid'] \n",
    "neg_samples28 = df2.loc[:,list(samples)]\n",
    "\n",
    "df_samples = df[df['disease']=='prostate adenocarcinoma']\n",
    "samples = df_samples[df_samples['pedaya']=='Yes, age < 30 years']['th_sampleid']\n",
    "pos_samples29 = df2.loc[:,list(samples)]\n",
    "samples = df_samples[df_samples['pedaya']=='No']['th_sampleid'] \n",
    "neg_samples29 = df2.loc[:,list(samples)]\n",
    "\n",
    "df_samples = df[df['disease']=='colon adenocarcinoma']\n",
    "samples = df_samples[df_samples['pedaya']=='Yes, age < 30 years']['th_sampleid']\n",
    "pos_samples30 = df2.loc[:,list(samples)]\n",
    "samples = df_samples[df_samples['pedaya']=='No']['th_sampleid'] \n",
    "neg_samples30 = df2.loc[:,list(samples)]"
   ]
  },
  {
   "cell_type": "code",
   "execution_count": 81,
   "id": "db529460",
   "metadata": {},
   "outputs": [],
   "source": [
    "pos_samples6 = pd.concat([pos_samples27.T, pos_samples28.T, pos_samples29.T, pos_samples30.T])\n",
    "neg_samples6 = pd.concat([neg_samples27.T, neg_samples28.T, neg_samples29.T, neg_samples30.T])"
   ]
  },
  {
   "cell_type": "code",
   "execution_count": null,
   "id": "3f9e38bf",
   "metadata": {},
   "outputs": [],
   "source": [
    "ex6_cst, ex6_pca, ex6_mi, ex6_umap, ex6_kpca = runexperiments_full_2(pos_samples6, neg_samples6)"
   ]
  },
  {
   "cell_type": "code",
   "execution_count": null,
   "id": "cb57fb98",
   "metadata": {},
   "outputs": [],
   "source": []
  },
  {
   "cell_type": "code",
   "execution_count": null,
   "id": "387323cd",
   "metadata": {},
   "outputs": [],
   "source": [
    "#7). Classifying between carcinomas (6 types) and adenocarcinomas (4 types) (2-way classification)"
   ]
  },
  {
   "cell_type": "code",
   "execution_count": 83,
   "id": "a4da4929",
   "metadata": {},
   "outputs": [
    {
     "ename": "MemoryError",
     "evalue": "Unable to allocate 1.21 GiB for an array with shape (58581, 2762) and data type float64",
     "output_type": "error",
     "traceback": [
      "\u001b[1;31m---------------------------------------------------------------------------\u001b[0m",
      "\u001b[1;31mMemoryError\u001b[0m                               Traceback (most recent call last)",
      "\u001b[1;32m<ipython-input-83-7ed813dce374>\u001b[0m in \u001b[0;36m<module>\u001b[1;34m\u001b[0m\n\u001b[1;32m----> 1\u001b[1;33m \u001b[0mpos_samples7\u001b[0m \u001b[1;33m=\u001b[0m \u001b[0mpd\u001b[0m\u001b[1;33m.\u001b[0m\u001b[0mconcat\u001b[0m\u001b[1;33m(\u001b[0m\u001b[1;33m[\u001b[0m\u001b[0mg1_samples\u001b[0m\u001b[1;33m.\u001b[0m\u001b[0mT\u001b[0m\u001b[1;33m,\u001b[0m \u001b[0mg2_samples\u001b[0m\u001b[1;33m.\u001b[0m\u001b[0mT\u001b[0m\u001b[1;33m,\u001b[0m \u001b[0mg3_samples\u001b[0m\u001b[1;33m.\u001b[0m\u001b[0mT\u001b[0m\u001b[1;33m,\u001b[0m \u001b[0mg4_samples\u001b[0m\u001b[1;33m.\u001b[0m\u001b[0mT\u001b[0m\u001b[1;33m,\u001b[0m \u001b[0mg5_samples\u001b[0m\u001b[1;33m.\u001b[0m\u001b[0mT\u001b[0m\u001b[1;33m,\u001b[0m \u001b[0mg6_samples\u001b[0m\u001b[1;33m.\u001b[0m\u001b[0mT\u001b[0m\u001b[1;33m]\u001b[0m\u001b[1;33m)\u001b[0m\u001b[1;33m\u001b[0m\u001b[1;33m\u001b[0m\u001b[0m\n\u001b[0m\u001b[0;32m      2\u001b[0m \u001b[0mneg_samples7\u001b[0m \u001b[1;33m=\u001b[0m \u001b[0mpd\u001b[0m\u001b[1;33m.\u001b[0m\u001b[0mconcat\u001b[0m\u001b[1;33m(\u001b[0m\u001b[1;33m[\u001b[0m\u001b[0mg7_samples\u001b[0m\u001b[1;33m.\u001b[0m\u001b[0mT\u001b[0m\u001b[1;33m,\u001b[0m \u001b[0mg8_samples\u001b[0m\u001b[1;33m.\u001b[0m\u001b[0mT\u001b[0m\u001b[1;33m,\u001b[0m \u001b[0mg9_samples\u001b[0m\u001b[1;33m.\u001b[0m\u001b[0mT\u001b[0m\u001b[1;33m,\u001b[0m \u001b[0mg10_samples\u001b[0m\u001b[1;33m.\u001b[0m\u001b[0mT\u001b[0m\u001b[1;33m]\u001b[0m\u001b[1;33m)\u001b[0m\u001b[1;33m\u001b[0m\u001b[1;33m\u001b[0m\u001b[0m\n",
      "\u001b[1;32m~\\anaconda3\\lib\\site-packages\\pandas\\core\\reshape\\concat.py\u001b[0m in \u001b[0;36mconcat\u001b[1;34m(objs, axis, join, ignore_index, keys, levels, names, verify_integrity, sort, copy)\u001b[0m\n\u001b[0;32m    296\u001b[0m     )\n\u001b[0;32m    297\u001b[0m \u001b[1;33m\u001b[0m\u001b[0m\n\u001b[1;32m--> 298\u001b[1;33m     \u001b[1;32mreturn\u001b[0m \u001b[0mop\u001b[0m\u001b[1;33m.\u001b[0m\u001b[0mget_result\u001b[0m\u001b[1;33m(\u001b[0m\u001b[1;33m)\u001b[0m\u001b[1;33m\u001b[0m\u001b[1;33m\u001b[0m\u001b[0m\n\u001b[0m\u001b[0;32m    299\u001b[0m \u001b[1;33m\u001b[0m\u001b[0m\n\u001b[0;32m    300\u001b[0m \u001b[1;33m\u001b[0m\u001b[0m\n",
      "\u001b[1;32m~\\anaconda3\\lib\\site-packages\\pandas\\core\\reshape\\concat.py\u001b[0m in \u001b[0;36mget_result\u001b[1;34m(self)\u001b[0m\n\u001b[0;32m    518\u001b[0m                 \u001b[0mmgrs_indexers\u001b[0m\u001b[1;33m.\u001b[0m\u001b[0mappend\u001b[0m\u001b[1;33m(\u001b[0m\u001b[1;33m(\u001b[0m\u001b[0mobj\u001b[0m\u001b[1;33m.\u001b[0m\u001b[0m_mgr\u001b[0m\u001b[1;33m,\u001b[0m \u001b[0mindexers\u001b[0m\u001b[1;33m)\u001b[0m\u001b[1;33m)\u001b[0m\u001b[1;33m\u001b[0m\u001b[1;33m\u001b[0m\u001b[0m\n\u001b[0;32m    519\u001b[0m \u001b[1;33m\u001b[0m\u001b[0m\n\u001b[1;32m--> 520\u001b[1;33m             new_data = concatenate_block_managers(\n\u001b[0m\u001b[0;32m    521\u001b[0m                 \u001b[0mmgrs_indexers\u001b[0m\u001b[1;33m,\u001b[0m \u001b[0mself\u001b[0m\u001b[1;33m.\u001b[0m\u001b[0mnew_axes\u001b[0m\u001b[1;33m,\u001b[0m \u001b[0mconcat_axis\u001b[0m\u001b[1;33m=\u001b[0m\u001b[0mself\u001b[0m\u001b[1;33m.\u001b[0m\u001b[0mbm_axis\u001b[0m\u001b[1;33m,\u001b[0m \u001b[0mcopy\u001b[0m\u001b[1;33m=\u001b[0m\u001b[0mself\u001b[0m\u001b[1;33m.\u001b[0m\u001b[0mcopy\u001b[0m\u001b[1;33m\u001b[0m\u001b[1;33m\u001b[0m\u001b[0m\n\u001b[0;32m    522\u001b[0m             )\n",
      "\u001b[1;32m~\\anaconda3\\lib\\site-packages\\pandas\\core\\internals\\concat.py\u001b[0m in \u001b[0;36mconcatenate_block_managers\u001b[1;34m(mgrs_indexers, axes, concat_axis, copy)\u001b[0m\n\u001b[0;32m     71\u001b[0m \u001b[1;33m\u001b[0m\u001b[0m\n\u001b[0;32m     72\u001b[0m             \u001b[1;32mif\u001b[0m \u001b[1;32mnot\u001b[0m \u001b[0mblk\u001b[0m\u001b[1;33m.\u001b[0m\u001b[0mis_extension\u001b[0m\u001b[1;33m:\u001b[0m\u001b[1;33m\u001b[0m\u001b[1;33m\u001b[0m\u001b[0m\n\u001b[1;32m---> 73\u001b[1;33m                 \u001b[0mvalues\u001b[0m \u001b[1;33m=\u001b[0m \u001b[0mconcat_compat\u001b[0m\u001b[1;33m(\u001b[0m\u001b[0mvals\u001b[0m\u001b[1;33m,\u001b[0m \u001b[0maxis\u001b[0m\u001b[1;33m=\u001b[0m\u001b[0mblk\u001b[0m\u001b[1;33m.\u001b[0m\u001b[0mndim\u001b[0m \u001b[1;33m-\u001b[0m \u001b[1;36m1\u001b[0m\u001b[1;33m)\u001b[0m\u001b[1;33m\u001b[0m\u001b[1;33m\u001b[0m\u001b[0m\n\u001b[0m\u001b[0;32m     74\u001b[0m             \u001b[1;32melse\u001b[0m\u001b[1;33m:\u001b[0m\u001b[1;33m\u001b[0m\u001b[1;33m\u001b[0m\u001b[0m\n\u001b[0;32m     75\u001b[0m                 \u001b[1;31m# TODO(EA2D): special-casing not needed with 2D EAs\u001b[0m\u001b[1;33m\u001b[0m\u001b[1;33m\u001b[0m\u001b[1;33m\u001b[0m\u001b[0m\n",
      "\u001b[1;32m~\\anaconda3\\lib\\site-packages\\pandas\\core\\dtypes\\concat.py\u001b[0m in \u001b[0;36mconcat_compat\u001b[1;34m(to_concat, axis)\u001b[0m\n\u001b[0;32m    169\u001b[0m                 \u001b[0mto_concat\u001b[0m \u001b[1;33m=\u001b[0m \u001b[1;33m[\u001b[0m\u001b[0mx\u001b[0m\u001b[1;33m.\u001b[0m\u001b[0mastype\u001b[0m\u001b[1;33m(\u001b[0m\u001b[1;34m\"object\"\u001b[0m\u001b[1;33m)\u001b[0m \u001b[1;32mfor\u001b[0m \u001b[0mx\u001b[0m \u001b[1;32min\u001b[0m \u001b[0mto_concat\u001b[0m\u001b[1;33m]\u001b[0m\u001b[1;33m\u001b[0m\u001b[1;33m\u001b[0m\u001b[0m\n\u001b[0;32m    170\u001b[0m \u001b[1;33m\u001b[0m\u001b[0m\n\u001b[1;32m--> 171\u001b[1;33m     \u001b[1;32mreturn\u001b[0m \u001b[0mnp\u001b[0m\u001b[1;33m.\u001b[0m\u001b[0mconcatenate\u001b[0m\u001b[1;33m(\u001b[0m\u001b[0mto_concat\u001b[0m\u001b[1;33m,\u001b[0m \u001b[0maxis\u001b[0m\u001b[1;33m=\u001b[0m\u001b[0maxis\u001b[0m\u001b[1;33m)\u001b[0m\u001b[1;33m\u001b[0m\u001b[1;33m\u001b[0m\u001b[0m\n\u001b[0m\u001b[0;32m    172\u001b[0m \u001b[1;33m\u001b[0m\u001b[0m\n\u001b[0;32m    173\u001b[0m \u001b[1;33m\u001b[0m\u001b[0m\n",
      "\u001b[1;32m<__array_function__ internals>\u001b[0m in \u001b[0;36mconcatenate\u001b[1;34m(*args, **kwargs)\u001b[0m\n",
      "\u001b[1;31mMemoryError\u001b[0m: Unable to allocate 1.21 GiB for an array with shape (58581, 2762) and data type float64"
     ]
    }
   ],
   "source": [
    "pos_samples7 = pd.concat([g1_samples.T, g2_samples.T, g3_samples.T, g4_samples.T, g5_samples.T, g6_samples.T])\n",
    "neg_samples7 = pd.concat([g7_samples.T, g8_samples.T, g9_samples.T, g10_samples.T])"
   ]
  },
  {
   "cell_type": "code",
   "execution_count": null,
   "id": "af7cbb8c",
   "metadata": {},
   "outputs": [],
   "source": [
    "ex7_cst, ex7_pca, ex7_mi, ex7_umap, ex7_kpca = runexperiments_full_2(pos_samples7, neg_samples7)"
   ]
  },
  {
   "cell_type": "code",
   "execution_count": null,
   "id": "80d6b458",
   "metadata": {},
   "outputs": [],
   "source": []
  },
  {
   "cell_type": "code",
   "execution_count": null,
   "id": "0565c787",
   "metadata": {},
   "outputs": [],
   "source": []
  },
  {
   "cell_type": "markdown",
   "id": "132203e0",
   "metadata": {},
   "source": [
    "### Graphs of All Results\n"
   ]
  },
  {
   "cell_type": "code",
   "execution_count": 70,
   "id": "801abcd0",
   "metadata": {},
   "outputs": [],
   "source": [
    "#method that takes in the arrays of BAC values to display\n",
    "\n",
    "def graph_BAC_results(cstBACs, pcaBACs, miBACs, umapBACs, kpcaBACs, experiment):\n",
    "    \n",
    "    x = np.arange(6)\n",
    "    cstBACs = np.ndarray.tolist(cstBACs)\n",
    "    pcaBACs = np.ndarray.tolist(pcaBACs)\n",
    "    miBACs = np.ndarray.tolist(miBACs)\n",
    "    umapBACs = np.ndarray.tolist(umapBACs)\n",
    "    kpcaBACs = np.ndarray.tolist(kpcaBACs)\n",
    "\n",
    "    width = 0.86 / len(Groups[0])\n",
    "\n",
    "    colors = ['#000000', '#404040', '#7f7f7f', '#bfbfbf', '#ffffff']\n",
    "    DR = ['CST', 'PCA', 'MI', 'UMAP', 'kPCA']\n",
    "    classifiers = [\"kNN\", \"SVM\", \"GNB\", \"RF\", \"SGD\", \"LDA\"]\n",
    "\n",
    "    plt.figure(figsize=(15, 10))\n",
    "    plt.bar(x-2*width, cstBACs, width, color='#000000', edgecolor='black')\n",
    "    plt.bar(x-width, pcaBACs, width, color='#404040', edgecolor='black')\n",
    "    plt.bar(x, miBACs, width, color='#7f7f7f', edgecolor='black')\n",
    "    plt.bar(x+width, umapBACs, width, color='#bfbfbf', edgecolor='black')\n",
    "    plt.bar(x+2*width, kpcaBACs, width, color='#ffffff', edgecolor='black')\n",
    "\n",
    "    plt.xticks(x, classifiers)\n",
    "    plt.xlabel(\"DR / Feature Selection\")\n",
    "    plt.ylabel(\"Balanced Accuracy scores\")\n",
    "    plt.legend(DR, fontsize=12)\n",
    "    plt.title(experiment)\n",
    "    plt.show()\n",
    "    return\n"
   ]
  },
  {
   "cell_type": "code",
   "execution_count": null,
   "id": "7b3cdfc4",
   "metadata": {},
   "outputs": [],
   "source": [
    "experiment1 = \"Classifying Between\\n6 Types of Carcinomas\"\n",
    "graph_BAC_results(ex1_cst, ex1_pca, ex1_mi, ex1_umap, ex1_kpca, experiment1)"
   ]
  },
  {
   "cell_type": "code",
   "execution_count": null,
   "id": "5f235bef",
   "metadata": {},
   "outputs": [],
   "source": [
    "experiment2 = \"Classifying Between\\n4 Types of Adenocarcinomas\"\n",
    "graph_BAC_results(ex2_cst, ex2_pca, ex2_mi, ex2_umap, ex2_kpca, experiment2)"
   ]
  },
  {
   "cell_type": "code",
   "execution_count": null,
   "id": "92f5a6b0",
   "metadata": {},
   "outputs": [],
   "source": [
    "experiment3 = \"Classifying Between Male/Female\\nwithin 6 Types of Carcinomas\"\n",
    "graph_BAC_results(ex3_cst, ex3_pca, ex3_mi, ex3_umap, ex3_kpca, experiment3)"
   ]
  },
  {
   "cell_type": "code",
   "execution_count": null,
   "id": "5d1b3d95",
   "metadata": {},
   "outputs": [],
   "source": [
    "experiment4 = \"Classifying Between Male/Female\\nwithin 4 Types of Adenocarcinomas\"\n",
    "graph_BAC_results(ex4_cst, ex4_pca, ex4_mi, ex4_umap, ex4_kpca, experiment4)"
   ]
  },
  {
   "cell_type": "code",
   "execution_count": null,
   "id": "e9e596dc",
   "metadata": {},
   "outputs": [],
   "source": [
    "experiment5 = \"Classifying Between Ped/Non-ped\\nwithin 6 Types of Carcinomas\"\n",
    "graph_BAC_results(ex5_cst, ex5_pca, ex5_mi, ex5_umap, ex5_kpca, experiment5)"
   ]
  },
  {
   "cell_type": "code",
   "execution_count": null,
   "id": "e088eee6",
   "metadata": {},
   "outputs": [],
   "source": [
    "experiment6 = \"Classifying Between Ped/Non-ped\\nwithin 4 Types of Adenocarcinomas\"\n",
    "graph_BAC_results(ex6_cst, ex6_pca, ex6_mi, ex6_umap, ex6_kpca, experiment6)"
   ]
  },
  {
   "cell_type": "code",
   "execution_count": null,
   "id": "5f8754d0",
   "metadata": {},
   "outputs": [],
   "source": [
    "experiment7 = \"Classifying Between Carcinomas (6 Types)\\nand Adenocarcinomas (4 Types)\"\n",
    "graph_BAC_results(ex7_cst, ex7_pca, ex7_mi, ex7_umap, ex7_kpca, experiment7)"
   ]
  }
 ],
 "metadata": {
  "kernelspec": {
   "display_name": "Python 3",
   "language": "python",
   "name": "python3"
  },
  "language_info": {
   "codemirror_mode": {
    "name": "ipython",
    "version": 3
   },
   "file_extension": ".py",
   "mimetype": "text/x-python",
   "name": "python",
   "nbconvert_exporter": "python",
   "pygments_lexer": "ipython3",
   "version": "3.8.8"
  }
 },
 "nbformat": 4,
 "nbformat_minor": 5
}
