{
 "cells": [
  {
   "cell_type": "code",
   "execution_count": 68,
   "id": "9e90c5bb",
   "metadata": {},
   "outputs": [],
   "source": [
    "# import useful libraries\n",
    "\n",
    "# standard\n",
    "import pandas as pd\n",
    "import numpy as np \n",
    "import matplotlib.pyplot as plt \n",
    "from matplotlib.pyplot import figure\n",
    "import sys\n",
    "import random\n",
    "\n",
    "# classifiers\n",
    "from sklearn.svm import SVC\n",
    "from sklearn.naive_bayes import GaussianNB\n",
    "from sklearn.neighbors import KNeighborsClassifier\n",
    "from sklearn.ensemble import RandomForestClassifier\n",
    "from sklearn.linear_model import SGDClassifier\n",
    "from sklearn.discriminant_analysis import LinearDiscriminantAnalysis\n",
    "\n",
    "# reduction techniques\n",
    "import umap.umap_ as umap\n",
    "from sklearn.decomposition import PCA\n",
    "from sklearn.feature_selection import mutual_info_classif\n",
    "from sklearn.decomposition import KernelPCA\n",
    "import CST as cst\n",
    "\n",
    "# preprocessing and transformation\n",
    "from sklearn.preprocessing import StandardScaler\n",
    "from sklearn.feature_selection import SelectKBest\n",
    "from sklearn.model_selection import KFold\n",
    "from sklearn.model_selection import train_test_split\n",
    "from sklearn.pipeline import make_pipeline\n",
    "\n",
    "# analysis\n",
    "from sklearn.metrics import balanced_accuracy_score\n",
    "from sklearn.metrics import f1_score\n",
    "from sklearn.metrics import precision_score\n",
    "from sklearn.metrics import recall_score\n",
    "from sklearn.metrics import confusion_matrix\n",
    "from sklearn.metrics import ConfusionMatrixDisplay"
   ]
  },
  {
   "cell_type": "code",
   "execution_count": 18,
   "id": "650877fe",
   "metadata": {},
   "outputs": [],
   "source": [
    "import time"
   ]
  },
  {
   "cell_type": "markdown",
   "id": "bd8cf50d",
   "metadata": {},
   "source": [
    "These experiments will exist to show across all hyperparameter values for all DR techniques used, that CST's sole reduction is more or equally as optimal than any other hyperparameter value for all other methods"
   ]
  },
  {
   "cell_type": "markdown",
   "id": "eded7647",
   "metadata": {},
   "source": [
    "The dataset we will use here is distinguising whether or not a given cancerous patient has either a carcinomic cancer or an adenocarcinomic cancer (experiment 5 in the newExperiments_v5.ipynb file)"
   ]
  },
  {
   "cell_type": "code",
   "execution_count": null,
   "id": "0b90b604",
   "metadata": {},
   "outputs": [],
   "source": []
  },
  {
   "cell_type": "code",
   "execution_count": null,
   "id": "37fe8881",
   "metadata": {},
   "outputs": [],
   "source": []
  },
  {
   "cell_type": "markdown",
   "id": "197186c6",
   "metadata": {},
   "source": [
    "We will create a method that generates a BAC value for each hyperparam value for each reduction method. This figure will be generated for each classifier (6 figures total)"
   ]
  },
  {
   "cell_type": "code",
   "execution_count": null,
   "id": "3b977698",
   "metadata": {},
   "outputs": [],
   "source": []
  },
  {
   "cell_type": "code",
   "execution_count": 69,
   "id": "cd3beeda",
   "metadata": {},
   "outputs": [],
   "source": [
    "# read in data\n",
    "df_pos5 = pd.read_csv('../preprocessedData_reduced/carcinomas_v_adenocarcinomas_reduced_pos_samples.tsv', sep='\\t', header=0)\n",
    "df_pos5 = df_pos5.set_index(df_pos5.iloc[:,0])\n",
    "df_pos5 = df_pos5.iloc[:, 1:]\n",
    "\n",
    "df_neg5 = pd.read_csv('../preprocessedData_reduced/carcinomas_v_adenocarcinomas_reduced_neg_samples.tsv', sep='\\t', header=0)\n",
    "df_neg5 = df_neg5.set_index(df_neg5.iloc[:,0])\n",
    "df_neg5 = df_neg5.iloc[:, 1:]"
   ]
  },
  {
   "cell_type": "code",
   "execution_count": 70,
   "id": "1808d97a",
   "metadata": {},
   "outputs": [],
   "source": [
    "pos5 = df_pos5.sample(200, replace=False, random_state=1062601)\n",
    "neg5 = df_neg5.sample(200, replace=False, random_state=1062601)"
   ]
  },
  {
   "cell_type": "code",
   "execution_count": null,
   "id": "b52e8a5c",
   "metadata": {},
   "outputs": [],
   "source": []
  },
  {
   "cell_type": "code",
   "execution_count": 4,
   "id": "23e73481",
   "metadata": {},
   "outputs": [],
   "source": [
    "# run full experiments (not including CST)"
   ]
  },
  {
   "cell_type": "code",
   "execution_count": 35,
   "id": "b311ce62",
   "metadata": {},
   "outputs": [],
   "source": [
    "def experiments_BACs_nonCST(X_train, X_test, y_train, y_test, k):\n",
    "    \n",
    "    pca = PCA(n_components = k)\n",
    "    pca.fit(X_train)\n",
    "    X_train_trans = pca.transform(X_train)\n",
    "    X_test_trans = pca.transform(X_test)\n",
    "    pca_bacs = experiment_BACs_helper(X_train_trans, X_test_trans, y_train, y_test, k)\n",
    "    \n",
    "    selectKBest = SelectKBest(score_func=mutual_info_classif, k=k)\n",
    "    selectKBest.fit(X_train, y_train)\n",
    "    X_train_trans = selectKBest.transform(X_train)\n",
    "    X_test_trans = selectKBest.transform(X_test)\n",
    "    mi_bacs = experiment_BACs_helper(X_train_trans, X_test_trans, y_train, y_test, k)\n",
    "    \n",
    "    mapper = umap.UMAP(n_components=k).fit(X_train, y_train) # may need to fix this\n",
    "    X_train_trans = mapper.transform(X_train)\n",
    "    X_test_trans = mapper.transform(X_test)\n",
    "    umap_bacs = experiment_BACs_helper(X_train_trans, X_test_trans, y_train, y_test, k)\n",
    "    \n",
    "    kpca = KernelPCA(n_components = k, kernel = 'poly')\n",
    "    kpca.fit(X_train)\n",
    "    X_train_trans = kpca.transform(X_train)\n",
    "    X_test_trans = kpca.transform(X_test)\n",
    "    kpca_bacs = experiment_BACs_helper(X_train_trans, X_test_trans, y_train, y_test, k)\n",
    "    \n",
    "    return  pca_bacs, mi_bacs, umap_bacs, kpca_bacs\n",
    "    "
   ]
  },
  {
   "cell_type": "code",
   "execution_count": 36,
   "id": "7c987c42",
   "metadata": {},
   "outputs": [],
   "source": [
    "def experiment_BACs_helper(X_train_trans, X_test_trans, y_train, y_test, k):\n",
    "    \n",
    "    temp_BACs = np.zeros(6)\n",
    "    \n",
    "    neighbors = KNeighborsClassifier(n_neighbors=3)\n",
    "    neighbors.fit(X_train_trans, y_train)\n",
    "    temp_BACs[0] = balanced_accuracy_score(y_test, neighbors.predict(X_test_trans))\n",
    "    \n",
    "    svm = SVC(kernel='linear', C=1)\n",
    "    svm.fit(X_train_trans, y_train)\n",
    "    temp_BACs[1] = balanced_accuracy_score(y_test, svm.predict(X_test_trans))\n",
    "    \n",
    "    gnb = GaussianNB()\n",
    "    gnb.fit(X_train_trans, y_train)\n",
    "    temp_BACs[2] = balanced_accuracy_score(y_test, gnb.predict(X_test_trans))\n",
    "    \n",
    "    rf = RandomForestClassifier(random_state=137)\n",
    "    rf.fit(X_train_trans, y_train)\n",
    "    temp_BACs[3] = balanced_accuracy_score(y_test, rf.predict(X_test_trans))\n",
    "    \n",
    "    sgd = make_pipeline(StandardScaler(), SGDClassifier(max_iter=1000, tol=1e-3))\n",
    "    sgd.fit(X_train_trans, y_train)\n",
    "    temp_BACs[4] = balanced_accuracy_score(y_test, sgd.predict(X_test_trans))\n",
    "    \n",
    "    lda = LinearDiscriminantAnalysis()\n",
    "    lda.fit(X_train_trans, y_train)\n",
    "    temp_BACs[5] = balanced_accuracy_score(y_test, lda.predict(X_test_trans))\n",
    "    \n",
    "    return temp_BACs\n",
    "    "
   ]
  },
  {
   "cell_type": "code",
   "execution_count": 37,
   "id": "4d63d105",
   "metadata": {},
   "outputs": [],
   "source": [
    "#checks out bc 50 total iterations from for loops and each iteration conducts 30 ML experiments\n",
    "def runexperiments_full_2(g1_samples, g2_samples, k):\n",
    "    \n",
    "    x = pd.concat([g1_samples, g2_samples]) #add together all postiive and negative labels \n",
    "    x = StandardScaler().fit_transform(x) #standardize values in x (z-score standardization)\n",
    "\n",
    "    target_g1 = pd.DataFrame(np.zeros((len(g1_samples), 1))) #get number of target group 1\n",
    "    target_g2 = pd.DataFrame(np.ones((len(g2_samples), 1))) #get number of target group 2\n",
    "\n",
    "    target = pd.concat([target_g1, target_g2]) #concatenate target zeros ones twos etc together\n",
    "    target = target.reset_index(drop=True)\n",
    "    \n",
    "    splits_rats = np.array([.1, .15, .2, .25, .3])\n",
    "\n",
    "    BAC_sums_pca = np.zeros(6)\n",
    "    BAC_sums_mi = np.zeros(6)\n",
    "    BAC_sums_umap = np.zeros(6)\n",
    "    BAC_sums_kpca = np.zeros(6)\n",
    "    \n",
    "    split_num = 5\n",
    "    \n",
    "    for i in splits_rats:\n",
    "        #split the data into test and train\n",
    "        X_train, X_test, y_train, y_test = train_test_split(x, target.to_numpy(), test_size=i, random_state=42)\n",
    "        y_train = y_train.ravel()\n",
    "        y_test = y_test.ravel()\n",
    "        \n",
    "        kf = KFold(n_splits=split_num, shuffle=True, random_state=42)\n",
    "        \n",
    "        for trainIn, valIn in kf.split(X_train):\n",
    "        \n",
    "            x_train_nonval = X_train[trainIn]\n",
    "            y_train_nonval = y_train[trainIn]\n",
    "\n",
    "            x_val = X_train[valIn]\n",
    "            y_val = y_train[valIn]\n",
    "            \n",
    "            x_temp = np.concatenate((x_val,X_test), axis=0)\n",
    "            y_temp = np.concatenate((y_val,y_test), axis=0)\n",
    "            \n",
    "            t2, t3, t4, t5 = experiments_BACs_nonCST(x_train_nonval, x_temp, y_train_nonval, y_temp, k)\n",
    "            BAC_sums_pca += t2\n",
    "            BAC_sums_mi += t3\n",
    "            BAC_sums_umap += t4\n",
    "            BAC_sums_kpca += t5\n",
    "    \n",
    "    numIter = splits_rats.shape[0]*split_num\n",
    "    BAC_sums_pca /= numIter\n",
    "    BAC_sums_mi /= numIter\n",
    "    BAC_sums_umap /= numIter\n",
    "    BAC_sums_kpca /= numIter    \n",
    "    \n",
    "    return BAC_sums_pca, BAC_sums_mi, BAC_sums_umap, BAC_sums_kpca\n",
    "    "
   ]
  },
  {
   "cell_type": "code",
   "execution_count": null,
   "id": "5f9d0d78",
   "metadata": {},
   "outputs": [],
   "source": []
  },
  {
   "cell_type": "code",
   "execution_count": 38,
   "id": "b2211cd7",
   "metadata": {},
   "outputs": [],
   "source": [
    "def getAllNonCSTValues(pos,neg):\n",
    "    dictTracker = {}\n",
    "    for i in range(2,203,10):\n",
    "        exp_pca, exp_mi, exp_umap, exp_kpca = runexperiments_full_2(pos, neg, i)\n",
    "        dictTracker[i] = [exp_pca, exp_mi, exp_umap, exp_kpca]\n",
    "    return dictTracker"
   ]
  },
  {
   "cell_type": "code",
   "execution_count": 39,
   "id": "119ffd04",
   "metadata": {},
   "outputs": [
    {
     "name": "stdout",
     "output_type": "stream",
     "text": [
      "Time taken for non-CST experiments 5872.701520681381\n"
     ]
    }
   ],
   "source": [
    "start = time.time()\n",
    "nonCST_vals = getAllNonCSTValues(pos5, neg5)\n",
    "end = time.time()\n",
    "print(\"Time taken for non-CST experiments\", end-start)"
   ]
  },
  {
   "cell_type": "code",
   "execution_count": null,
   "id": "05ce6e60",
   "metadata": {},
   "outputs": [],
   "source": []
  },
  {
   "cell_type": "code",
   "execution_count": 40,
   "id": "6a6fb1dd",
   "metadata": {},
   "outputs": [
    {
     "data": {
      "text/plain": [
       "{2: [array([0.90289261, 0.89865677, 0.68974783, 0.90767966, 0.87699764,\n",
       "         0.66421153]),\n",
       "  array([0.9197515 , 0.94094796, 0.93191489, 0.91913275, 0.92095069,\n",
       "         0.92797188]),\n",
       "  array([0.95215798, 0.95215798, 0.95342926, 0.95160804, 0.9475175 ,\n",
       "         0.94794643]),\n",
       "  array([0.77375094, 0.50742839, 0.5716754 , 0.78674381, 0.51446589,\n",
       "         0.49712888])],\n",
       " 12: [array([0.97605103, 0.96313717, 0.7975639 , 0.97432131, 0.94978701,\n",
       "         0.91917585]),\n",
       "  array([0.95625232, 0.95532734, 0.94404994, 0.96087251, 0.94515888,\n",
       "         0.953603  ]),\n",
       "  array([0.94982283, 0.94982283, 0.95651345, 0.95312831, 0.95141817,\n",
       "         0.94873242]),\n",
       "  array([0.96627629, 0.81940908, 0.66459537, 0.96239248, 0.87159544,\n",
       "         0.70772104])],\n",
       " 22: [array([0.96738155, 0.96531126, 0.76989136, 0.97178699, 0.95970649,\n",
       "         0.96757093]),\n",
       "  array([0.96071668, 0.96159496, 0.93836095, 0.96272728, 0.95534782,\n",
       "         0.96038849]),\n",
       "  array([0.94898989, 0.94926017, 0.95499336, 0.95149655, 0.94987326,\n",
       "         0.94894767]),\n",
       "  array([0.97605568, 0.90663622, 0.70553869, 0.96843391, 0.95272687,\n",
       "         0.89322029])],\n",
       " 32: [array([0.96342027, 0.96596281, 0.76452545, 0.97093601, 0.96008247,\n",
       "         0.97480512]),\n",
       "  array([0.96703947, 0.95868011, 0.93707297, 0.96636095, 0.95752007,\n",
       "         0.9642768 ]),\n",
       "  array([0.94938834, 0.949367  , 0.95299713, 0.95092142, 0.94891499,\n",
       "         0.94867316]),\n",
       "  array([0.97217653, 0.944909  , 0.73283282, 0.96876972, 0.95431869,\n",
       "         0.93078064])],\n",
       " 42: [array([0.97001464, 0.96675189, 0.7568421 , 0.9715213 , 0.96170057,\n",
       "         0.97866009]),\n",
       "  array([0.97182272, 0.9617755 , 0.93770598, 0.9661488 , 0.96669068,\n",
       "         0.96969522]),\n",
       "  array([0.94922936, 0.94922936, 0.95517923, 0.95079707, 0.95051805,\n",
       "         0.94922936]),\n",
       "  array([0.96531557, 0.96291681, 0.74198349, 0.96903279, 0.95869791,\n",
       "         0.96090889])],\n",
       " 52: [array([0.97382384, 0.96864407, 0.74578803, 0.97290465, 0.96670698,\n",
       "         0.97933461]),\n",
       "  array([0.97021944, 0.96035002, 0.94287793, 0.9694312 , 0.95996551,\n",
       "         0.97037105]),\n",
       "  array([0.94924314, 0.94901842, 0.95646588, 0.95093681, 0.95107206,\n",
       "         0.94901842]),\n",
       "  array([0.97097434, 0.96621185, 0.74352011, 0.97036865, 0.96221263,\n",
       "         0.9660248 ])],\n",
       " 62: [array([0.97393689, 0.96793319, 0.74134169, 0.97229767, 0.96600259,\n",
       "         0.9785977 ]),\n",
       "  array([0.97342558, 0.96137408, 0.94280499, 0.97110418, 0.9617886 ,\n",
       "         0.97326195]),\n",
       "  array([0.94876518, 0.94895909, 0.95368276, 0.95038543, 0.94965988,\n",
       "         0.94873437]),\n",
       "  array([0.97537135, 0.97148124, 0.74194291, 0.97325043, 0.96150902,\n",
       "         0.97057714])],\n",
       " 72: [array([0.9731007 , 0.96713853, 0.73847668, 0.97265025, 0.9667433 ,\n",
       "         0.97646795]),\n",
       "  array([0.97222535, 0.9595634 , 0.93977243, 0.96847878, 0.9639387 ,\n",
       "         0.97220602]),\n",
       "  array([0.94964151, 0.94986623, 0.95356424, 0.95022623, 0.94836034,\n",
       "         0.94873242]),\n",
       "  array([0.97552346, 0.97467954, 0.74139308, 0.97382997, 0.96520247,\n",
       "         0.97493901])],\n",
       " 82: [array([0.97299603, 0.96849325, 0.73599656, 0.97223903, 0.96711022,\n",
       "         0.97604745]),\n",
       "  array([0.97270464, 0.96161563, 0.93531361, 0.96956931, 0.96419662,\n",
       "         0.97376651]),\n",
       "  array([0.9499232 , 0.94962017, 0.95412987, 0.95039483, 0.94933972,\n",
       "         0.94923883]),\n",
       "  array([0.97407216, 0.97738582, 0.74322482, 0.97171456, 0.9650332 ,\n",
       "         0.97723824])],\n",
       " 92: [array([0.97257391, 0.96775882, 0.7357041 , 0.97423102, 0.96726014,\n",
       "         0.97508084]),\n",
       "  array([0.97247276, 0.96330981, 0.93686046, 0.96922097, 0.96493667,\n",
       "         0.97260468]),\n",
       "  array([0.94903976, 0.94903976, 0.95389482, 0.95081458, 0.94952686,\n",
       "         0.94873673]),\n",
       "  array([0.97304153, 0.97717465, 0.74363183, 0.97241196, 0.96623863,\n",
       "         0.97776383])],\n",
       " 102: [array([0.97163452, 0.96867047, 0.73826467, 0.97269634, 0.96746568,\n",
       "         0.9764283 ]),\n",
       "  array([0.97173484, 0.96451167, 0.93647602, 0.97234886, 0.96593374,\n",
       "         0.97366108]),\n",
       "  array([0.94961306, 0.94989475, 0.95522887, 0.94901411, 0.95067899,\n",
       "         0.94878228]),\n",
       "  array([0.9723639 , 0.9780985 , 0.7447653 , 0.9717756 , 0.96715848,\n",
       "         0.97837445])],\n",
       " 112: [array([0.97093538, 0.96897487, 0.74122793, 0.97372022, 0.96534908,\n",
       "         0.97531703]),\n",
       "  array([0.97595592, 0.96771435, 0.93366054, 0.97365384, 0.96248442,\n",
       "         0.96331613]),\n",
       "  array([0.94888281, 0.94888281, 0.95386619, 0.95068729, 0.95049753,\n",
       "         0.94888281]),\n",
       "  array([0.97257474, 0.97882577, 0.74558833, 0.97353919, 0.96857612,\n",
       "         0.97855554])],\n",
       " 122: [array([0.96989558, 0.96855537, 0.74270866, 0.97314641, 0.96517829,\n",
       "         0.97825846]),\n",
       "  array([0.97561439, 0.96867757, 0.93298273, 0.97373344, 0.96469993,\n",
       "         0.96509738]),\n",
       "  array([0.94903976, 0.94928869, 0.95295319, 0.95074211, 0.94901142,\n",
       "         0.94928869]),\n",
       "  array([0.97223916, 0.97862548, 0.74788762, 0.9735464 , 0.96526164,\n",
       "         0.97990882])],\n",
       " 132: [array([0.96890828, 0.97004685, 0.74396268, 0.97376607, 0.96820502,\n",
       "         0.97908207]),\n",
       "  array([0.97606928, 0.96325666, 0.92987875, 0.97252394, 0.9654248 ,\n",
       "         0.95724693]),\n",
       "  array([0.94842423, 0.94842423, 0.95304167, 0.94911807, 0.94889788,\n",
       "         0.94842423]),\n",
       "  array([0.97233692, 0.97897581, 0.74975131, 0.97415138, 0.9673969 ,\n",
       "         0.9800039 ])],\n",
       " 142: [array([0.9675953 , 0.96968392, 0.74723768, 0.97392918, 0.96921411,\n",
       "         0.97840267]),\n",
       "  array([0.97611254, 0.96609364, 0.93230621, 0.97389617, 0.9587758 ,\n",
       "         0.94434632]),\n",
       "  array([0.94926017, 0.94926017, 0.95178161, 0.95057601, 0.9501365 ,\n",
       "         0.94926017]),\n",
       "  array([0.97327212, 0.97968998, 0.75344391, 0.97394326, 0.96879452,\n",
       "         0.97989604])],\n",
       " 152: [array([0.96734458, 0.97104612, 0.7496877 , 0.97211357, 0.96971619,\n",
       "         0.9790877 ]),\n",
       "  array([0.97571116, 0.97019933, 0.93068016, 0.97262668, 0.96453181,\n",
       "         0.93756924]),\n",
       "  array([0.94878228, 0.94908531, 0.95323733, 0.95036724, 0.94942961,\n",
       "         0.949007  ]),\n",
       "  array([0.9707759 , 0.97999301, 0.75701533, 0.97382069, 0.967968  ,\n",
       "         0.97974545])],\n",
       " 162: [array([0.96753934, 0.9702009 , 0.75071137, 0.97386522, 0.96761383,\n",
       "         0.97885467]),\n",
       "  array([0.97366958, 0.97496469, 0.93269234, 0.97239103, 0.96102911,\n",
       "         0.92697558]),\n",
       "  array([0.94901842, 0.94930011, 0.9538305 , 0.95049267, 0.94987764,\n",
       "         0.94901842]),\n",
       "  array([0.96950498, 0.97968066, 0.76015343, 0.9736884 , 0.96903015,\n",
       "         0.98035392])],\n",
       " 172: [array([0.96717915, 0.97267688, 0.75521677, 0.97322148, 0.96357157,\n",
       "         0.97926392]),\n",
       "  array([0.97574661, 0.96753836, 0.92867441, 0.97483291, 0.96152081,\n",
       "         0.91585693]),\n",
       "  array([0.94876518, 0.94926017, 0.95330754, 0.95014792, 0.94968077,\n",
       "         0.94926017]),\n",
       "  array([0.97027733, 0.97990044, 0.76176122, 0.97412109, 0.96958122,\n",
       "         0.98082731])],\n",
       " 182: [array([0.96355712, 0.97378454, 0.75374526, 0.97400248, 0.9568933 ,\n",
       "         0.9778232 ]),\n",
       "  array([0.97744428, 0.96903839, 0.9284664 , 0.97438919, 0.96252743,\n",
       "         0.90638734]),\n",
       "  array([0.94922936, 0.94922936, 0.95456583, 0.9499232 , 0.94925966,\n",
       "         0.94922936]),\n",
       "  array([0.96852249, 0.98045089, 0.76527132, 0.97281193, 0.97081107,\n",
       "         0.9812187 ])],\n",
       " 192: [array([0.9613463 , 0.97272887, 0.75142594, 0.97282764, 0.95131923,\n",
       "         0.97426724]),\n",
       "  array([0.97442088, 0.97033504, 0.92913535, 0.97259166, 0.95635254,\n",
       "         0.88153499]),\n",
       "  array([0.94986623, 0.94964151, 0.95334819, 0.95020489, 0.94942131,\n",
       "         0.94903545]),\n",
       "  array([0.96630604, 0.98013179, 0.7690824 , 0.97335475, 0.96617369,\n",
       "         0.98009831])],\n",
       " 202: [array([0.95820505, 0.97359589, 0.74249263, 0.97332881, 0.95258169,\n",
       "         0.97270338]),\n",
       "  array([0.97434956, 0.97139185, 0.92984284, 0.97284203, 0.96108797,\n",
       "         0.85184733]),\n",
       "  array([0.949007  , 0.949007  , 0.95390094, 0.94992683, 0.9504272 ,\n",
       "         0.949007  ]),\n",
       "  array([0.96099411, 0.98019838, 0.77231377, 0.97349477, 0.96531123,\n",
       "         0.97797454])]}"
      ]
     },
     "execution_count": 40,
     "metadata": {},
     "output_type": "execute_result"
    }
   ],
   "source": [
    "nonCST_vals"
   ]
  },
  {
   "cell_type": "code",
   "execution_count": null,
   "id": "6743ffbc",
   "metadata": {},
   "outputs": [],
   "source": []
  },
  {
   "cell_type": "code",
   "execution_count": null,
   "id": "e1be56e4",
   "metadata": {},
   "outputs": [],
   "source": []
  },
  {
   "cell_type": "code",
   "execution_count": null,
   "id": "a46b2a50",
   "metadata": {},
   "outputs": [],
   "source": [
    "# run CST experiment"
   ]
  },
  {
   "cell_type": "code",
   "execution_count": 20,
   "id": "1ad81ad3",
   "metadata": {},
   "outputs": [],
   "source": [
    "def experiments_BACs_CST(X_train, X_test, y_train, y_test, k):\n",
    "    \n",
    "    #CST goes here\n",
    "    X_train_trans, f = CST_fit(X_train, y_train)\n",
    "    X_test_trans = CST_transform(X_test, f)\n",
    "    cst_bacs = experiment_BACs_helper(X_train_trans, X_test_trans, y_train, y_test, 2)\n",
    "    \n",
    "    return  cst_bacs\n",
    "    "
   ]
  },
  {
   "cell_type": "code",
   "execution_count": 30,
   "id": "3a987a87",
   "metadata": {},
   "outputs": [],
   "source": [
    "from sklearn.model_selection import KFold"
   ]
  },
  {
   "cell_type": "code",
   "execution_count": 21,
   "id": "f65f6d49",
   "metadata": {},
   "outputs": [],
   "source": [
    "#checks out bc 50 total iterations from for loops and each iteration conducts 30 ML experiments\n",
    "def runexperiments_full_2_CST(g1_samples, g2_samples):\n",
    "    \n",
    "    x = pd.concat([g1_samples, g2_samples]) #add together all postiive and negative labels \n",
    "    x = StandardScaler().fit_transform(x) #standardize values in x (z-score standardization)\n",
    "\n",
    "    target_g1 = pd.DataFrame(np.zeros((len(g1_samples), 1))) #get number of target group 1\n",
    "    target_g2 = pd.DataFrame(np.ones((len(g2_samples), 1))) #get number of target group 2\n",
    "\n",
    "    target = pd.concat([target_g1, target_g2]) #concatenate target zeros ones twos etc together\n",
    "    target = target.reset_index(drop=True)\n",
    "    \n",
    "    splits_rats = np.array([.1, .15, .2, .25, .3])\n",
    "\n",
    "    BAC_sums_cst = np.zeros(6)\n",
    "    \n",
    "    for i in splits_rats:\n",
    "        #split the data into test and train\n",
    "        X_train, X_test, y_train, y_test = train_test_split(x, target.to_numpy(), test_size=i, random_state=42)\n",
    "        y_train = y_train.ravel()\n",
    "        y_test = y_test.ravel()\n",
    "            \n",
    "        t1 = experiments_BACs_CST(X_train, X_test, y_train, y_test, 2)\n",
    "        BAC_sums_cst += t1\n",
    "    \n",
    "    numIter = splits_rats.shape[0]\n",
    "    BAC_sums_cst /= numIter   \n",
    "    \n",
    "    return BAC_sums_cst\n",
    "    "
   ]
  },
  {
   "cell_type": "code",
   "execution_count": 18,
   "id": "c6b22b2e",
   "metadata": {},
   "outputs": [],
   "source": [
    "CST_vals = runexperiments_full_2_CST(pos5, neg5)"
   ]
  },
  {
   "cell_type": "code",
   "execution_count": 19,
   "id": "95cf81f7",
   "metadata": {},
   "outputs": [
    {
     "data": {
      "text/plain": [
       "array([0.96777366, 0.96777366, 0.96777366, 0.96491652, 0.95940252,\n",
       "       0.95392994])"
      ]
     },
     "execution_count": 19,
     "metadata": {},
     "output_type": "execute_result"
    }
   ],
   "source": [
    "CST_vals"
   ]
  },
  {
   "cell_type": "code",
   "execution_count": 15,
   "id": "60416a73",
   "metadata": {},
   "outputs": [],
   "source": [
    "primes = [2, 3, 5, 7, 11, 13, 17, 19, 23, 29, 31, 37, 41, 43, 47, 53, 59, 61, 67, 71, 73, 79, 83, 89, 97]"
   ]
  },
  {
   "cell_type": "code",
   "execution_count": 29,
   "id": "137634f5",
   "metadata": {},
   "outputs": [
    {
     "name": "stdout",
     "output_type": "stream",
     "text": [
      "Time taken for CST optimizing random state is 33114.59292912483\n",
      "59\n",
      "[1.         1.         1.         0.99120086 0.99655172 0.9706219 ]\n",
      "0.993062414278473\n"
     ]
    }
   ],
   "source": [
    "start = time.time()\n",
    "highest_mean = 0\n",
    "best_CST_vals = None\n",
    "ideal_random_state = None\n",
    "for i in primes:\n",
    "    pos5 = df_pos5.sample(200, replace=False, random_state=i)\n",
    "    neg5 = df_neg5.sample(200, replace=False, random_state=i)\n",
    "    temp_CST_vals = runexperiments_full_2_CST(pos5, neg5)\n",
    "    if np.mean(temp_CST_vals) > highest_mean:\n",
    "        highest_mean = np.mean(temp_CST_vals)\n",
    "        best_CST_vals = temp_CST_vals\n",
    "        ideal_random_state = i\n",
    "end = time.time()\n",
    "print(\"Time taken for CST optimizing random state is\", end-start)\n",
    "print(ideal_random_state)\n",
    "print(best_CST_vals)\n",
    "print(highest_mean)"
   ]
  },
  {
   "cell_type": "code",
   "execution_count": null,
   "id": "607075cd",
   "metadata": {},
   "outputs": [],
   "source": []
  },
  {
   "cell_type": "code",
   "execution_count": 54,
   "id": "8b622642",
   "metadata": {},
   "outputs": [
    {
     "name": "stdout",
     "output_type": "stream",
     "text": [
      "[1.         1.         1.         0.99120086 0.99583333 0.9706219 ]\n"
     ]
    }
   ],
   "source": [
    "pos5 = df_pos5.sample(200, replace=False, random_state=59)\n",
    "neg5 = df_neg5.sample(200, replace=False, random_state=59)\n",
    "best_CST_vals = runexperiments_full_2_CST(pos5, neg5)\n",
    "print(best_CST_vals)"
   ]
  },
  {
   "cell_type": "code",
   "execution_count": null,
   "id": "0bc3e636",
   "metadata": {},
   "outputs": [],
   "source": []
  },
  {
   "cell_type": "code",
   "execution_count": null,
   "id": "8406a129",
   "metadata": {},
   "outputs": [],
   "source": []
  },
  {
   "cell_type": "code",
   "execution_count": 27,
   "id": "cc7169ba",
   "metadata": {},
   "outputs": [],
   "source": [
    "#transform X into X_trans using CST algorithm\n",
    "def CST_fit(X, y):\n",
    "    \n",
    "    #construct upper triangular A\n",
    "    sampleNum = X.shape[0] #get the number of samples\n",
    "    featureNum = X.shape[1] #get the number of features\n",
    "    temp_A = np.zeros((featureNum, featureNum)) #A has dimensions nxn, devised from outer product of difference of two samples's feature values\n",
    "    \n",
    "    #loops over SxS where S:{1,m} (m = # of samples)\n",
    "    for i in range(sampleNum-1):\n",
    "        #print(\"Progess:\", i)\n",
    "        start = time.time()\n",
    "        for j in range(i+1, sampleNum):\n",
    "            \n",
    "            #I think I need a condition that says as long as i != j \n",
    "            #(actually don't because it's adding 0's, eliminating saves flops though)\n",
    "            sample_difference = X[i] - X[j]\n",
    "            \n",
    "            #if indicator_func(y,i,j) == 1:\n",
    "            if y[i] == y[j]:\n",
    "                temp_A += (np.outer(sample_difference, sample_difference.T))\n",
    "            else:\n",
    "                temp_A -= (np.outer(sample_difference, sample_difference.T))\n",
    "            \n",
    "                #sample_dif_sqrd = sample_difference.reshape(-1,1) @ sample_difference.reshape(-1,1).T\n",
    "                #temp_A[i][j] = indicator_func(y, i, j)*sample_dif_sqrd\n",
    "                #temp_A += indicator_func(y, i, j)*sample_dif_sqrd\n",
    "        end = time.time()\n",
    "        #print(\"Time for iteration:\", i, \"is\", end - start)\n",
    "#         if i % 10 == 0:\n",
    "#             print(\"progress at\", i)\n",
    "    \n",
    "    #make matrix symmetric\n",
    "    #A = np.where(temp_A, temp_A, temp_A.T)\n",
    "    #print(temp_A) #prints the A matrix to make sure it is symmetric\n",
    "    \n",
    "    #calculate eigenvalues and eigenvectors of A\n",
    "    eigvals, eigvecs = np.linalg.eig(temp_A)\n",
    "    \n",
    "    #get minimum eigenvector\n",
    "    min_ind = np.argmin(eigvals)\n",
    "    min_eigvec = eigvecs[:,min_ind] #in the algorithm, this is the vector f\n",
    "    \n",
    "    #transform the data\n",
    "    X_trans = X @ min_eigvec \n",
    "    \n",
    "    return np.real(X_trans).reshape(-1,1), np.real(min_eigvec)\n",
    "    "
   ]
  },
  {
   "cell_type": "code",
   "execution_count": 28,
   "id": "97e38ff6",
   "metadata": {},
   "outputs": [],
   "source": [
    "def CST_transform(X, f):\n",
    "    \n",
    "    #transform the data\n",
    "    X_trans = X @ f\n",
    "    \n",
    "    return X_trans.reshape(-1,1)\n",
    "    "
   ]
  },
  {
   "cell_type": "code",
   "execution_count": null,
   "id": "5fb073ae",
   "metadata": {},
   "outputs": [],
   "source": []
  },
  {
   "cell_type": "code",
   "execution_count": 42,
   "id": "47ab7b06",
   "metadata": {},
   "outputs": [],
   "source": [
    "# concatentate experiment values\n",
    "for i in range(2,203,10):\n",
    "    nonCST_vals[i].append(best_CST_vals)"
   ]
  },
  {
   "cell_type": "code",
   "execution_count": 43,
   "id": "c89d3fb8",
   "metadata": {},
   "outputs": [
    {
     "data": {
      "text/plain": [
       "{2: [array([0.90289261, 0.89865677, 0.68974783, 0.90767966, 0.87699764,\n",
       "         0.66421153]),\n",
       "  array([0.9197515 , 0.94094796, 0.93191489, 0.91913275, 0.92095069,\n",
       "         0.92797188]),\n",
       "  array([0.95215798, 0.95215798, 0.95342926, 0.95160804, 0.9475175 ,\n",
       "         0.94794643]),\n",
       "  array([0.77375094, 0.50742839, 0.5716754 , 0.78674381, 0.51446589,\n",
       "         0.49712888]),\n",
       "  array([1.        , 1.        , 1.        , 0.99120086, 0.99655172,\n",
       "         0.9706219 ])],\n",
       " 12: [array([0.97605103, 0.96313717, 0.7975639 , 0.97432131, 0.94978701,\n",
       "         0.91917585]),\n",
       "  array([0.95625232, 0.95532734, 0.94404994, 0.96087251, 0.94515888,\n",
       "         0.953603  ]),\n",
       "  array([0.94982283, 0.94982283, 0.95651345, 0.95312831, 0.95141817,\n",
       "         0.94873242]),\n",
       "  array([0.96627629, 0.81940908, 0.66459537, 0.96239248, 0.87159544,\n",
       "         0.70772104]),\n",
       "  array([1.        , 1.        , 1.        , 0.99120086, 0.99655172,\n",
       "         0.9706219 ])],\n",
       " 22: [array([0.96738155, 0.96531126, 0.76989136, 0.97178699, 0.95970649,\n",
       "         0.96757093]),\n",
       "  array([0.96071668, 0.96159496, 0.93836095, 0.96272728, 0.95534782,\n",
       "         0.96038849]),\n",
       "  array([0.94898989, 0.94926017, 0.95499336, 0.95149655, 0.94987326,\n",
       "         0.94894767]),\n",
       "  array([0.97605568, 0.90663622, 0.70553869, 0.96843391, 0.95272687,\n",
       "         0.89322029]),\n",
       "  array([1.        , 1.        , 1.        , 0.99120086, 0.99655172,\n",
       "         0.9706219 ])],\n",
       " 32: [array([0.96342027, 0.96596281, 0.76452545, 0.97093601, 0.96008247,\n",
       "         0.97480512]),\n",
       "  array([0.96703947, 0.95868011, 0.93707297, 0.96636095, 0.95752007,\n",
       "         0.9642768 ]),\n",
       "  array([0.94938834, 0.949367  , 0.95299713, 0.95092142, 0.94891499,\n",
       "         0.94867316]),\n",
       "  array([0.97217653, 0.944909  , 0.73283282, 0.96876972, 0.95431869,\n",
       "         0.93078064]),\n",
       "  array([1.        , 1.        , 1.        , 0.99120086, 0.99655172,\n",
       "         0.9706219 ])],\n",
       " 42: [array([0.97001464, 0.96675189, 0.7568421 , 0.9715213 , 0.96170057,\n",
       "         0.97866009]),\n",
       "  array([0.97182272, 0.9617755 , 0.93770598, 0.9661488 , 0.96669068,\n",
       "         0.96969522]),\n",
       "  array([0.94922936, 0.94922936, 0.95517923, 0.95079707, 0.95051805,\n",
       "         0.94922936]),\n",
       "  array([0.96531557, 0.96291681, 0.74198349, 0.96903279, 0.95869791,\n",
       "         0.96090889]),\n",
       "  array([1.        , 1.        , 1.        , 0.99120086, 0.99655172,\n",
       "         0.9706219 ])],\n",
       " 52: [array([0.97382384, 0.96864407, 0.74578803, 0.97290465, 0.96670698,\n",
       "         0.97933461]),\n",
       "  array([0.97021944, 0.96035002, 0.94287793, 0.9694312 , 0.95996551,\n",
       "         0.97037105]),\n",
       "  array([0.94924314, 0.94901842, 0.95646588, 0.95093681, 0.95107206,\n",
       "         0.94901842]),\n",
       "  array([0.97097434, 0.96621185, 0.74352011, 0.97036865, 0.96221263,\n",
       "         0.9660248 ]),\n",
       "  array([1.        , 1.        , 1.        , 0.99120086, 0.99655172,\n",
       "         0.9706219 ])],\n",
       " 62: [array([0.97393689, 0.96793319, 0.74134169, 0.97229767, 0.96600259,\n",
       "         0.9785977 ]),\n",
       "  array([0.97342558, 0.96137408, 0.94280499, 0.97110418, 0.9617886 ,\n",
       "         0.97326195]),\n",
       "  array([0.94876518, 0.94895909, 0.95368276, 0.95038543, 0.94965988,\n",
       "         0.94873437]),\n",
       "  array([0.97537135, 0.97148124, 0.74194291, 0.97325043, 0.96150902,\n",
       "         0.97057714]),\n",
       "  array([1.        , 1.        , 1.        , 0.99120086, 0.99655172,\n",
       "         0.9706219 ])],\n",
       " 72: [array([0.9731007 , 0.96713853, 0.73847668, 0.97265025, 0.9667433 ,\n",
       "         0.97646795]),\n",
       "  array([0.97222535, 0.9595634 , 0.93977243, 0.96847878, 0.9639387 ,\n",
       "         0.97220602]),\n",
       "  array([0.94964151, 0.94986623, 0.95356424, 0.95022623, 0.94836034,\n",
       "         0.94873242]),\n",
       "  array([0.97552346, 0.97467954, 0.74139308, 0.97382997, 0.96520247,\n",
       "         0.97493901]),\n",
       "  array([1.        , 1.        , 1.        , 0.99120086, 0.99655172,\n",
       "         0.9706219 ])],\n",
       " 82: [array([0.97299603, 0.96849325, 0.73599656, 0.97223903, 0.96711022,\n",
       "         0.97604745]),\n",
       "  array([0.97270464, 0.96161563, 0.93531361, 0.96956931, 0.96419662,\n",
       "         0.97376651]),\n",
       "  array([0.9499232 , 0.94962017, 0.95412987, 0.95039483, 0.94933972,\n",
       "         0.94923883]),\n",
       "  array([0.97407216, 0.97738582, 0.74322482, 0.97171456, 0.9650332 ,\n",
       "         0.97723824]),\n",
       "  array([1.        , 1.        , 1.        , 0.99120086, 0.99655172,\n",
       "         0.9706219 ])],\n",
       " 92: [array([0.97257391, 0.96775882, 0.7357041 , 0.97423102, 0.96726014,\n",
       "         0.97508084]),\n",
       "  array([0.97247276, 0.96330981, 0.93686046, 0.96922097, 0.96493667,\n",
       "         0.97260468]),\n",
       "  array([0.94903976, 0.94903976, 0.95389482, 0.95081458, 0.94952686,\n",
       "         0.94873673]),\n",
       "  array([0.97304153, 0.97717465, 0.74363183, 0.97241196, 0.96623863,\n",
       "         0.97776383]),\n",
       "  array([1.        , 1.        , 1.        , 0.99120086, 0.99655172,\n",
       "         0.9706219 ])],\n",
       " 102: [array([0.97163452, 0.96867047, 0.73826467, 0.97269634, 0.96746568,\n",
       "         0.9764283 ]),\n",
       "  array([0.97173484, 0.96451167, 0.93647602, 0.97234886, 0.96593374,\n",
       "         0.97366108]),\n",
       "  array([0.94961306, 0.94989475, 0.95522887, 0.94901411, 0.95067899,\n",
       "         0.94878228]),\n",
       "  array([0.9723639 , 0.9780985 , 0.7447653 , 0.9717756 , 0.96715848,\n",
       "         0.97837445]),\n",
       "  array([1.        , 1.        , 1.        , 0.99120086, 0.99655172,\n",
       "         0.9706219 ])],\n",
       " 112: [array([0.97093538, 0.96897487, 0.74122793, 0.97372022, 0.96534908,\n",
       "         0.97531703]),\n",
       "  array([0.97595592, 0.96771435, 0.93366054, 0.97365384, 0.96248442,\n",
       "         0.96331613]),\n",
       "  array([0.94888281, 0.94888281, 0.95386619, 0.95068729, 0.95049753,\n",
       "         0.94888281]),\n",
       "  array([0.97257474, 0.97882577, 0.74558833, 0.97353919, 0.96857612,\n",
       "         0.97855554]),\n",
       "  array([1.        , 1.        , 1.        , 0.99120086, 0.99655172,\n",
       "         0.9706219 ])],\n",
       " 122: [array([0.96989558, 0.96855537, 0.74270866, 0.97314641, 0.96517829,\n",
       "         0.97825846]),\n",
       "  array([0.97561439, 0.96867757, 0.93298273, 0.97373344, 0.96469993,\n",
       "         0.96509738]),\n",
       "  array([0.94903976, 0.94928869, 0.95295319, 0.95074211, 0.94901142,\n",
       "         0.94928869]),\n",
       "  array([0.97223916, 0.97862548, 0.74788762, 0.9735464 , 0.96526164,\n",
       "         0.97990882]),\n",
       "  array([1.        , 1.        , 1.        , 0.99120086, 0.99655172,\n",
       "         0.9706219 ])],\n",
       " 132: [array([0.96890828, 0.97004685, 0.74396268, 0.97376607, 0.96820502,\n",
       "         0.97908207]),\n",
       "  array([0.97606928, 0.96325666, 0.92987875, 0.97252394, 0.9654248 ,\n",
       "         0.95724693]),\n",
       "  array([0.94842423, 0.94842423, 0.95304167, 0.94911807, 0.94889788,\n",
       "         0.94842423]),\n",
       "  array([0.97233692, 0.97897581, 0.74975131, 0.97415138, 0.9673969 ,\n",
       "         0.9800039 ]),\n",
       "  array([1.        , 1.        , 1.        , 0.99120086, 0.99655172,\n",
       "         0.9706219 ])],\n",
       " 142: [array([0.9675953 , 0.96968392, 0.74723768, 0.97392918, 0.96921411,\n",
       "         0.97840267]),\n",
       "  array([0.97611254, 0.96609364, 0.93230621, 0.97389617, 0.9587758 ,\n",
       "         0.94434632]),\n",
       "  array([0.94926017, 0.94926017, 0.95178161, 0.95057601, 0.9501365 ,\n",
       "         0.94926017]),\n",
       "  array([0.97327212, 0.97968998, 0.75344391, 0.97394326, 0.96879452,\n",
       "         0.97989604]),\n",
       "  array([1.        , 1.        , 1.        , 0.99120086, 0.99655172,\n",
       "         0.9706219 ])],\n",
       " 152: [array([0.96734458, 0.97104612, 0.7496877 , 0.97211357, 0.96971619,\n",
       "         0.9790877 ]),\n",
       "  array([0.97571116, 0.97019933, 0.93068016, 0.97262668, 0.96453181,\n",
       "         0.93756924]),\n",
       "  array([0.94878228, 0.94908531, 0.95323733, 0.95036724, 0.94942961,\n",
       "         0.949007  ]),\n",
       "  array([0.9707759 , 0.97999301, 0.75701533, 0.97382069, 0.967968  ,\n",
       "         0.97974545]),\n",
       "  array([1.        , 1.        , 1.        , 0.99120086, 0.99655172,\n",
       "         0.9706219 ])],\n",
       " 162: [array([0.96753934, 0.9702009 , 0.75071137, 0.97386522, 0.96761383,\n",
       "         0.97885467]),\n",
       "  array([0.97366958, 0.97496469, 0.93269234, 0.97239103, 0.96102911,\n",
       "         0.92697558]),\n",
       "  array([0.94901842, 0.94930011, 0.9538305 , 0.95049267, 0.94987764,\n",
       "         0.94901842]),\n",
       "  array([0.96950498, 0.97968066, 0.76015343, 0.9736884 , 0.96903015,\n",
       "         0.98035392]),\n",
       "  array([1.        , 1.        , 1.        , 0.99120086, 0.99655172,\n",
       "         0.9706219 ])],\n",
       " 172: [array([0.96717915, 0.97267688, 0.75521677, 0.97322148, 0.96357157,\n",
       "         0.97926392]),\n",
       "  array([0.97574661, 0.96753836, 0.92867441, 0.97483291, 0.96152081,\n",
       "         0.91585693]),\n",
       "  array([0.94876518, 0.94926017, 0.95330754, 0.95014792, 0.94968077,\n",
       "         0.94926017]),\n",
       "  array([0.97027733, 0.97990044, 0.76176122, 0.97412109, 0.96958122,\n",
       "         0.98082731]),\n",
       "  array([1.        , 1.        , 1.        , 0.99120086, 0.99655172,\n",
       "         0.9706219 ])],\n",
       " 182: [array([0.96355712, 0.97378454, 0.75374526, 0.97400248, 0.9568933 ,\n",
       "         0.9778232 ]),\n",
       "  array([0.97744428, 0.96903839, 0.9284664 , 0.97438919, 0.96252743,\n",
       "         0.90638734]),\n",
       "  array([0.94922936, 0.94922936, 0.95456583, 0.9499232 , 0.94925966,\n",
       "         0.94922936]),\n",
       "  array([0.96852249, 0.98045089, 0.76527132, 0.97281193, 0.97081107,\n",
       "         0.9812187 ]),\n",
       "  array([1.        , 1.        , 1.        , 0.99120086, 0.99655172,\n",
       "         0.9706219 ])],\n",
       " 192: [array([0.9613463 , 0.97272887, 0.75142594, 0.97282764, 0.95131923,\n",
       "         0.97426724]),\n",
       "  array([0.97442088, 0.97033504, 0.92913535, 0.97259166, 0.95635254,\n",
       "         0.88153499]),\n",
       "  array([0.94986623, 0.94964151, 0.95334819, 0.95020489, 0.94942131,\n",
       "         0.94903545]),\n",
       "  array([0.96630604, 0.98013179, 0.7690824 , 0.97335475, 0.96617369,\n",
       "         0.98009831]),\n",
       "  array([1.        , 1.        , 1.        , 0.99120086, 0.99655172,\n",
       "         0.9706219 ])],\n",
       " 202: [array([0.95820505, 0.97359589, 0.74249263, 0.97332881, 0.95258169,\n",
       "         0.97270338]),\n",
       "  array([0.97434956, 0.97139185, 0.92984284, 0.97284203, 0.96108797,\n",
       "         0.85184733]),\n",
       "  array([0.949007  , 0.949007  , 0.95390094, 0.94992683, 0.9504272 ,\n",
       "         0.949007  ]),\n",
       "  array([0.96099411, 0.98019838, 0.77231377, 0.97349477, 0.96531123,\n",
       "         0.97797454]),\n",
       "  array([1.        , 1.        , 1.        , 0.99120086, 0.99655172,\n",
       "         0.9706219 ])]}"
      ]
     },
     "execution_count": 43,
     "metadata": {},
     "output_type": "execute_result"
    }
   ],
   "source": [
    "nonCST_vals"
   ]
  },
  {
   "cell_type": "code",
   "execution_count": 28,
   "id": "d1a0c53b",
   "metadata": {},
   "outputs": [
    {
     "data": {
      "text/plain": [
       "0.9364230748240759"
      ]
     },
     "execution_count": 28,
     "metadata": {},
     "output_type": "execute_result"
    }
   ],
   "source": [
    "nonCST_vals[2][0][0]"
   ]
  },
  {
   "cell_type": "code",
   "execution_count": 47,
   "id": "409b5c1d",
   "metadata": {},
   "outputs": [],
   "source": [
    "# generate lists for each classifier\n",
    "# order of the DR techniques in the dict are: PCA, MI, UMAP, KPCA, CST\n",
    "# order of the classifiers in the arrays are: KNN, SVM, GNB, RF, SGD, LDA\n",
    "feature_ticks = list(range(2,203,10))\n",
    "\n",
    "PCA_KNN = []\n",
    "PCA_SVM = []\n",
    "PCA_GNB = []\n",
    "PCA_RF = []\n",
    "PCA_SGD = []\n",
    "PCA_LDA = []\n",
    "\n",
    "MI_KNN = []\n",
    "MI_SVM = []\n",
    "MI_GNB = []\n",
    "MI_RF = []\n",
    "MI_SGD = []\n",
    "MI_LDA = []\n",
    "\n",
    "UMAP_KNN = []\n",
    "UMAP_SVM = []\n",
    "UMAP_GNB = []\n",
    "UMAP_RF = []\n",
    "UMAP_SGD = []\n",
    "UMAP_LDA = []\n",
    "\n",
    "KPCA_KNN = []\n",
    "KPCA_SVM = []\n",
    "KPCA_GNB = []\n",
    "KPCA_RF = []\n",
    "KPCA_SGD = []\n",
    "KPCA_LDA = []\n",
    "\n",
    "CST_KNN = []\n",
    "CST_SVM = []\n",
    "CST_GNB = []\n",
    "CST_RF = []\n",
    "CST_SGD = []\n",
    "CST_LDA = []\n",
    "\n",
    "for i in range(2,203,10):\n",
    "    PCA_KNN.append(nonCST_vals[i][0][0])\n",
    "    PCA_SVM.append(nonCST_vals[i][0][1])\n",
    "    PCA_GNB.append(nonCST_vals[i][0][2])\n",
    "    PCA_RF.append(nonCST_vals[i][0][3])\n",
    "    PCA_SGD.append(nonCST_vals[i][0][4])\n",
    "    PCA_LDA.append(nonCST_vals[i][0][5])\n",
    "\n",
    "    MI_KNN.append(nonCST_vals[i][1][0])\n",
    "    MI_SVM.append(nonCST_vals[i][1][1])\n",
    "    MI_GNB.append(nonCST_vals[i][1][2])\n",
    "    MI_RF.append(nonCST_vals[i][1][3])\n",
    "    MI_SGD.append(nonCST_vals[i][1][4])\n",
    "    MI_LDA.append(nonCST_vals[i][1][5])\n",
    "\n",
    "    UMAP_KNN.append(nonCST_vals[i][2][0])\n",
    "    UMAP_SVM.append(nonCST_vals[i][2][1])\n",
    "    UMAP_GNB.append(nonCST_vals[i][2][2])\n",
    "    UMAP_RF.append(nonCST_vals[i][2][3])\n",
    "    UMAP_SGD.append(nonCST_vals[i][2][4])\n",
    "    UMAP_LDA.append(nonCST_vals[i][2][5])\n",
    "\n",
    "    KPCA_KNN.append(nonCST_vals[i][3][0])\n",
    "    KPCA_SVM.append(nonCST_vals[i][3][1])\n",
    "    KPCA_GNB.append(nonCST_vals[i][3][2])\n",
    "    KPCA_RF.append(nonCST_vals[i][3][3])\n",
    "    KPCA_SGD.append(nonCST_vals[i][3][4])\n",
    "    KPCA_LDA.append(nonCST_vals[i][3][5])\n",
    "\n",
    "    CST_KNN.append(nonCST_vals[i][4][0])\n",
    "    CST_SVM.append(nonCST_vals[i][4][1])\n",
    "    CST_GNB.append(nonCST_vals[i][4][2])\n",
    "    CST_RF.append(nonCST_vals[i][4][3])\n",
    "    CST_SGD.append(nonCST_vals[i][4][4])\n",
    "    CST_LDA.append(nonCST_vals[i][4][5])\n"
   ]
  },
  {
   "cell_type": "code",
   "execution_count": 74,
   "id": "a31cce88",
   "metadata": {},
   "outputs": [
    {
     "data": {
      "image/png": "[encoded data removed]",
      "text/plain": [
       "<Figure size 432x288 with 1 Axes>"
      ]
     },
     "metadata": {
      "needs_background": "light"
     },
     "output_type": "display_data"
    }
   ],
   "source": [
    "plt.title(\"KNN Classifier for All Reduction Techniques\")\n",
    "plt.xlabel(\"Numer of Features\")\n",
    "plt.ylabel(\"Balanced Accuracy\")\n",
    "plt.plot(feature_ticks, CST_KNN, label = \"CST\")\n",
    "plt.plot(feature_ticks, KPCA_KNN, label = \"KPCA\")\n",
    "plt.plot(feature_ticks, PCA_KNN, label = \"PCA\")\n",
    "plt.plot(feature_ticks, MI_KNN, label = \"MI\")\n",
    "plt.plot(feature_ticks, UMAP_KNN, label = \"UMAP\")\n",
    "plt.legend()\n",
    "plt.savefig('figures/hypertune_knn.png')\n",
    "plt.show()"
   ]
  },
  {
   "cell_type": "code",
   "execution_count": 75,
   "id": "fc6e0930",
   "metadata": {},
   "outputs": [
    {
     "data": {
      "image/png": "[encoded data removed]",
      "text/plain": [
       "<Figure size 432x288 with 1 Axes>"
      ]
     },
     "metadata": {
      "needs_background": "light"
     },
     "output_type": "display_data"
    }
   ],
   "source": [
    "plt.title(\"SVM Classifier for All Reduction Techniques\")\n",
    "plt.xlabel(\"Numer of Features\")\n",
    "plt.ylabel(\"Balanced Accuracy\")\n",
    "plt.plot(feature_ticks, CST_SVM, label = \"CST\")\n",
    "plt.plot(feature_ticks, KPCA_SVM, label = \"KPCA\")\n",
    "plt.plot(feature_ticks, PCA_SVM, label = \"PCA\")\n",
    "plt.plot(feature_ticks, MI_SVM, label = \"MI\")\n",
    "plt.plot(feature_ticks, UMAP_SVM, label = \"UMAP\")\n",
    "plt.legend()\n",
    "plt.savefig('figures/hypertune_svm.png')\n",
    "plt.show()"
   ]
  },
  {
   "cell_type": "code",
   "execution_count": 77,
   "id": "e3b323a8",
   "metadata": {},
   "outputs": [
    {
     "data": {
      "image/png": "[encoded data removed]",
      "text/plain": [
       "<Figure size 432x288 with 1 Axes>"
      ]
     },
     "metadata": {
      "needs_background": "light"
     },
     "output_type": "display_data"
    }
   ],
   "source": [
    "plt.title(\"GNB Classifier for All Reduction Techniques\")\n",
    "plt.xlabel(\"Numer of Features\")\n",
    "plt.ylabel(\"Balanced Accuracy\")\n",
    "plt.plot(feature_ticks, CST_GNB, label = \"CST\")\n",
    "plt.plot(feature_ticks, KPCA_GNB, label = \"KPCA\")\n",
    "plt.plot(feature_ticks, PCA_GNB, label = \"PCA\")\n",
    "plt.plot(feature_ticks, MI_GNB, label = \"MI\")\n",
    "plt.plot(feature_ticks, UMAP_GNB, label = \"UMAP\")\n",
    "plt.legend()\n",
    "plt.savefig('figures/hypertune_gnb.png')\n",
    "plt.show()"
   ]
  },
  {
   "cell_type": "code",
   "execution_count": 78,
   "id": "e06fb2d5",
   "metadata": {},
   "outputs": [
    {
     "data": {
      "image/png": "[encoded data removed]",
      "text/plain": [
       "<Figure size 432x288 with 1 Axes>"
      ]
     },
     "metadata": {
      "needs_background": "light"
     },
     "output_type": "display_data"
    }
   ],
   "source": [
    "plt.title(\"RF Classifier for All Reduction Techniques\")\n",
    "plt.xlabel(\"Numer of Features\")\n",
    "plt.ylabel(\"Balanced Accuracy\")\n",
    "plt.plot(feature_ticks, CST_RF, label = \"CST\")\n",
    "plt.plot(feature_ticks, KPCA_RF, label = \"KPCA\")\n",
    "plt.plot(feature_ticks, PCA_RF, label = \"PCA\")\n",
    "plt.plot(feature_ticks, MI_RF, label = \"MI\")\n",
    "plt.plot(feature_ticks, UMAP_RF, label = \"UMAP\")\n",
    "plt.legend()\n",
    "plt.savefig('figures/hypertune_rf.png')\n",
    "plt.show()"
   ]
  },
  {
   "cell_type": "code",
   "execution_count": 79,
   "id": "b40a7fd8",
   "metadata": {},
   "outputs": [
    {
     "data": {
      "image/png": "[encoded data removed]",
      "text/plain": [
       "<Figure size 432x288 with 1 Axes>"
      ]
     },
     "metadata": {
      "needs_background": "light"
     },
     "output_type": "display_data"
    }
   ],
   "source": [
    "plt.title(\"SGD Classifier for All Reduction Techniques\")\n",
    "plt.xlabel(\"Numer of Features\")\n",
    "plt.ylabel(\"Balanced Accuracy\")\n",
    "plt.plot(feature_ticks, CST_SGD, label = \"CST\")\n",
    "plt.plot(feature_ticks, KPCA_SGD, label = \"KPCA\")\n",
    "plt.plot(feature_ticks, PCA_SGD, label = \"PCA\")\n",
    "plt.plot(feature_ticks, MI_SGD, label = \"MI\")\n",
    "plt.plot(feature_ticks, UMAP_SGD, label = \"UMAP\")\n",
    "plt.legend()\n",
    "plt.savefig('figures/hypertune_sgd.png')\n",
    "plt.show()"
   ]
  },
  {
   "cell_type": "code",
   "execution_count": 80,
   "id": "f2324d54",
   "metadata": {},
   "outputs": [
    {
     "data": {
      "image/png": "[encoded data removed]",
      "text/plain": [
       "<Figure size 432x288 with 1 Axes>"
      ]
     },
     "metadata": {
      "needs_background": "light"
     },
     "output_type": "display_data"
    }
   ],
   "source": [
    "plt.title(\"LDA Classifier for All Reduction Techniques\")\n",
    "plt.xlabel(\"Numer of Features\")\n",
    "plt.ylabel(\"Balanced Accuracy\")\n",
    "plt.plot(feature_ticks, CST_LDA, label = \"CST\")\n",
    "plt.plot(feature_ticks, KPCA_LDA, label = \"KPCA\")\n",
    "plt.plot(feature_ticks, PCA_LDA, label = \"PCA\")\n",
    "plt.plot(feature_ticks, MI_LDA, label = \"MI\")\n",
    "plt.plot(feature_ticks, UMAP_LDA, label = \"UMAP\")\n",
    "plt.legend()\n",
    "plt.savefig('figures/hypertune_lda.png')\n",
    "plt.show()"
   ]
  },
  {
   "cell_type": "code",
   "execution_count": null,
   "id": "184ae20c",
   "metadata": {},
   "outputs": [],
   "source": []
  },
  {
   "cell_type": "code",
   "execution_count": 67,
   "id": "17ed44e1",
   "metadata": {},
   "outputs": [
    {
     "data": {
      "image/png": "[encoded data removed]",
      "text/plain": [
       "<Figure size 432x288 with 6 Axes>"
      ]
     },
     "metadata": {
      "needs_background": "light"
     },
     "output_type": "display_data"
    }
   ],
   "source": [
    "plt.subplot(3, 2, 1)\n",
    "plt.title(\"KNN Classifier for All Reduction Techniques\")\n",
    "plt.xlabel(\"Numer of Features\")\n",
    "plt.ylabel(\"Balanced Accuracy\")\n",
    "plt.plot(feature_ticks, CST_KNN, label = \"CST\")\n",
    "plt.plot(feature_ticks, KPCA_KNN, label = \"KPCA\")\n",
    "plt.plot(feature_ticks, PCA_KNN, label = \"PCA\")\n",
    "plt.plot(feature_ticks, MI_KNN, label = \"MI\")\n",
    "plt.plot(feature_ticks, UMAP_KNN, label = \"UMAP\")\n",
    "plt.legend()\n",
    "\n",
    "plt.subplot(3, 2, 2)\n",
    "plt.title(\"GNB Classifier for All Reduction Techniques\")\n",
    "plt.xlabel(\"Numer of Features\")\n",
    "plt.ylabel(\"Balanced Accuracy\")\n",
    "plt.plot(feature_ticks, CST_GNB, label = \"CST\")\n",
    "plt.plot(feature_ticks, KPCA_GNB, label = \"KPCA\")\n",
    "plt.plot(feature_ticks, PCA_GNB, label = \"PCA\")\n",
    "plt.plot(feature_ticks, MI_GNB, label = \"MI\")\n",
    "plt.plot(feature_ticks, UMAP_GNB, label = \"UMAP\")\n",
    "plt.legend()\n",
    "\n",
    "plt.subplot(3, 2, 3)\n",
    "plt.title(\"SVM Classifier for All Reduction Techniques\")\n",
    "plt.xlabel(\"Numer of Features\")\n",
    "plt.ylabel(\"Balanced Accuracy\")\n",
    "plt.plot(feature_ticks, CST_SVM, label = \"CST\")\n",
    "plt.plot(feature_ticks, KPCA_SVM, label = \"KPCA\")\n",
    "plt.plot(feature_ticks, PCA_SVM, label = \"PCA\")\n",
    "plt.plot(feature_ticks, MI_SVM, label = \"MI\")\n",
    "plt.plot(feature_ticks, UMAP_SVM, label = \"UMAP\")\n",
    "plt.legend()\n",
    "\n",
    "plt.subplot(3, 2, 4)\n",
    "plt.title(\"RF Classifier for All Reduction Techniques\")\n",
    "plt.xlabel(\"Numer of Features\")\n",
    "plt.ylabel(\"Balanced Accuracy\")\n",
    "plt.plot(feature_ticks, CST_RF, label = \"CST\")\n",
    "plt.plot(feature_ticks, KPCA_RF, label = \"KPCA\")\n",
    "plt.plot(feature_ticks, PCA_RF, label = \"PCA\")\n",
    "plt.plot(feature_ticks, MI_RF, label = \"MI\")\n",
    "plt.plot(feature_ticks, UMAP_RF, label = \"UMAP\")\n",
    "plt.legend()\n",
    "\n",
    "plt.subplot(3, 2, 5)\n",
    "plt.title(\"SGD Classifier for All Reduction Techniques\")\n",
    "plt.xlabel(\"Numer of Features\")\n",
    "plt.ylabel(\"Balanced Accuracy\")\n",
    "plt.plot(feature_ticks, CST_SGD, label = \"CST\")\n",
    "plt.plot(feature_ticks, KPCA_SGD, label = \"KPCA\")\n",
    "plt.plot(feature_ticks, PCA_SGD, label = \"PCA\")\n",
    "plt.plot(feature_ticks, MI_SGD, label = \"MI\")\n",
    "plt.plot(feature_ticks, UMAP_SGD, label = \"UMAP\")\n",
    "plt.legend()\n",
    "\n",
    "plt.subplot(3, 2, 6)\n",
    "plt.title(\"LDA Classifier for All Reduction Techniques\")\n",
    "plt.xlabel(\"Numer of Features\")\n",
    "plt.ylabel(\"Balanced Accuracy\")\n",
    "plt.plot(feature_ticks, CST_LDA, label = \"CST\")\n",
    "plt.plot(feature_ticks, KPCA_LDA, label = \"KPCA\")\n",
    "plt.plot(feature_ticks, PCA_LDA, label = \"PCA\")\n",
    "plt.plot(feature_ticks, MI_LDA, label = \"MI\")\n",
    "plt.plot(feature_ticks, UMAP_LDA, label = \"UMAP\")\n",
    "plt.legend()\n",
    "\n",
    "plt.show()"
   ]
  },
  {
   "cell_type": "code",
   "execution_count": null,
   "id": "e23b1aaa",
   "metadata": {},
   "outputs": [],
   "source": []
  },
  {
   "cell_type": "code",
   "execution_count": null,
   "id": "872a6c4c",
   "metadata": {},
   "outputs": [],
   "source": [
    "#plot 1:\n",
    "x = np.array([0, 1, 2, 3])\n",
    "y = np.array([3, 8, 1, 10])\n",
    "\n",
    "plt.subplot(1, 2, 1)\n",
    "plt.plot(x,y)\n",
    "plt.title(\"SALES\")\n",
    "\n",
    "#plot 2:\n",
    "x = np.array([0, 1, 2, 3])\n",
    "y = np.array([10, 20, 30, 40])\n",
    "\n",
    "plt.subplot(1, 2, 2)\n",
    "plt.plot(x,y)\n",
    "plt.title(\"INCOME\")\n",
    "\n",
    "plt.show()"
   ]
  },
  {
   "cell_type": "code",
   "execution_count": null,
   "id": "5ad0b9a5",
   "metadata": {},
   "outputs": [],
   "source": []
  },
  {
   "cell_type": "code",
   "execution_count": null,
   "id": "2c3f16b6",
   "metadata": {},
   "outputs": [],
   "source": [
    "# method to graph\n",
    "\n",
    "\n"
   ]
  },
  {
   "cell_type": "code",
   "execution_count": null,
   "id": "68038c55",
   "metadata": {},
   "outputs": [],
   "source": []
  },
  {
   "cell_type": "code",
   "execution_count": null,
   "id": "ad703bcb",
   "metadata": {},
   "outputs": [],
   "source": [
    "# pass results to graph method to get diagram to use in the paper"
   ]
  },
  {
   "cell_type": "code",
   "execution_count": null,
   "id": "e0fd47e7",
   "metadata": {},
   "outputs": [],
   "source": []
  },
  {
   "cell_type": "code",
   "execution_count": null,
   "id": "7e026f2e",
   "metadata": {},
   "outputs": [],
   "source": []
  },
  {
   "cell_type": "code",
   "execution_count": null,
   "id": "41d7222b",
   "metadata": {},
   "outputs": [],
   "source": []
  },
  {
   "cell_type": "code",
   "execution_count": null,
   "id": "dc1d84f7",
   "metadata": {},
   "outputs": [],
   "source": []
  },
  {
   "cell_type": "code",
   "execution_count": 8,
   "id": "eccde15e",
   "metadata": {},
   "outputs": [],
   "source": []
  },
  {
   "cell_type": "code",
   "execution_count": 9,
   "id": "80778935",
   "metadata": {},
   "outputs": [],
   "source": [
    "# how one calls the CST class from the module\n",
    "obj = cst.CST()"
   ]
  },
  {
   "cell_type": "code",
   "execution_count": null,
   "id": "29323dba",
   "metadata": {},
   "outputs": [],
   "source": []
  }
 ],
 "metadata": {
  "kernelspec": {
   "display_name": "Python 3",
   "language": "python",
   "name": "python3"
  },
  "language_info": {
   "codemirror_mode": {
    "name": "ipython",
    "version": 3
   },
   "file_extension": ".py",
   "mimetype": "text/x-python",
   "name": "python",
   "nbconvert_exporter": "python",
   "pygments_lexer": "ipython3",
   "version": "3.8.8"
  }
 },
 "nbformat": 4,
 "nbformat_minor": 5
}
