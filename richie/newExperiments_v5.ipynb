{
 "cells": [
  {
   "cell_type": "markdown",
   "id": "10aad504",
   "metadata": {},
   "source": [
    "# Cancer Data Experimental ML Analysis v5"
   ]
  },
  {
   "cell_type": "code",
   "execution_count": 1,
   "id": "38fe5737",
   "metadata": {},
   "outputs": [],
   "source": [
    "#import useful libraries\n",
    "import pandas as pd\n",
    "import numpy as np \n",
    "import matplotlib.pyplot as plt \n",
    "from matplotlib.pyplot import figure\n",
    "import sys\n",
    "import umap.umap_ as umap\n",
    "import random\n",
    "from sklearn.preprocessing import StandardScaler\n",
    "from sklearn.decomposition import PCA\n",
    "from sklearn.feature_selection import SelectKBest\n",
    "from sklearn.feature_selection import mutual_info_classif\n",
    "from sklearn.svm import SVC\n",
    "from sklearn.naive_bayes import GaussianNB\n",
    "from sklearn.neighbors import KNeighborsClassifier\n",
    "from sklearn.ensemble import RandomForestClassifier\n",
    "from sklearn.linear_model import SGDClassifier\n",
    "from sklearn.pipeline import make_pipeline\n",
    "from sklearn.discriminant_analysis import LinearDiscriminantAnalysis\n",
    "from sklearn.model_selection import train_test_split\n",
    "from sklearn.metrics import balanced_accuracy_score\n",
    "from sklearn.metrics import f1_score\n",
    "from sklearn.metrics import precision_score\n",
    "from sklearn.metrics import recall_score\n",
    "from sklearn.decomposition import KernelPCA\n",
    "from sklearn.metrics import confusion_matrix\n",
    "from sklearn.metrics import ConfusionMatrixDisplay\n",
    "from sklearn.model_selection import KFold"
   ]
  },
  {
   "cell_type": "code",
   "execution_count": null,
   "id": "520d575c",
   "metadata": {},
   "outputs": [],
   "source": []
  },
  {
   "cell_type": "code",
   "execution_count": 187,
   "id": "57f74350",
   "metadata": {},
   "outputs": [],
   "source": [
    "def experiments_BACs(X_train, X_test, y_train, y_test, k):\n",
    "    \n",
    "    #CST goes here\n",
    "    X_train_trans, f = CST_fit(X_train, y_train)\n",
    "    X_test_trans = CST_transform(X_test, f)\n",
    "    cst_bacs = experiment_BACs_helper(X_train_trans, X_test_trans, y_train, y_test, 2)\n",
    "    \n",
    "    pca = PCA(n_components = k)\n",
    "    pca.fit(X_train)\n",
    "    X_train_trans = pca.transform(X_train)\n",
    "    X_test_trans = pca.transform(X_test)\n",
    "    pca_bacs = experiment_BACs_helper(X_train_trans, X_test_trans, y_train, y_test, k)\n",
    "    \n",
    "    selectKBest = SelectKBest(score_func=mutual_info_classif, k=2)\n",
    "    selectKBest.fit(X_train, y_train)\n",
    "    X_train_trans = selectKBest.transform(X_train)\n",
    "    X_test_trans = selectKBest.transform(X_test)\n",
    "    mi_bacs = experiment_BACs_helper(X_train_trans, X_test_trans, y_train, y_test, k)\n",
    "    \n",
    "    mapper = umap.UMAP(n_neighbors=(3)).fit(X_train, y_train)\n",
    "    X_train_trans = mapper.transform(X_train)\n",
    "    X_test_trans = mapper.transform(X_test)\n",
    "    umap_bacs = experiment_BACs_helper(X_train_trans, X_test_trans, y_train, y_test, k)\n",
    "    \n",
    "    kpca = KernelPCA(n_components = k, kernel = 'poly')\n",
    "    kpca.fit(X_train)\n",
    "    X_train_trans = kpca.transform(X_train)\n",
    "    X_test_trans = kpca.transform(X_test)\n",
    "    kpca_bacs = experiment_BACs_helper(X_train_trans, X_test_trans, y_train, y_test, k)\n",
    "    \n",
    "    return  cst_bacs, pca_bacs, mi_bacs, umap_bacs, kpca_bacs\n",
    "    "
   ]
  },
  {
   "cell_type": "code",
   "execution_count": 188,
   "id": "a26ef767",
   "metadata": {},
   "outputs": [],
   "source": [
    "def experiment_BACs_helper(X_train_trans, X_test_trans, y_train, y_test, k):\n",
    "    \n",
    "    temp_BACs = np.zeros(6)\n",
    "    \n",
    "    neighbors = KNeighborsClassifier(n_neighbors=3)\n",
    "    neighbors.fit(X_train_trans, y_train)\n",
    "    temp_BACs[0] = balanced_accuracy_score(y_test, neighbors.predict(X_test_trans))\n",
    "    \n",
    "    svm = SVC(kernel='linear', C=1)\n",
    "    svm.fit(X_train_trans, y_train)\n",
    "    temp_BACs[1] = balanced_accuracy_score(y_test, svm.predict(X_test_trans))\n",
    "    \n",
    "    gnb = GaussianNB()\n",
    "    gnb.fit(X_train_trans, y_train)\n",
    "    temp_BACs[2] = balanced_accuracy_score(y_test, gnb.predict(X_test_trans))\n",
    "    \n",
    "    rf = RandomForestClassifier(random_state=137)\n",
    "    rf.fit(X_train_trans, y_train)\n",
    "    temp_BACs[3] = balanced_accuracy_score(y_test, rf.predict(X_test_trans))\n",
    "    \n",
    "    sgd = make_pipeline(StandardScaler(), SGDClassifier(max_iter=1000, tol=1e-3))\n",
    "    sgd.fit(X_train_trans, y_train)\n",
    "    temp_BACs[4] = balanced_accuracy_score(y_test, sgd.predict(X_test_trans))\n",
    "    \n",
    "    lda = LinearDiscriminantAnalysis()\n",
    "    lda.fit(X_train_trans, y_train)\n",
    "    temp_BACs[5] = balanced_accuracy_score(y_test, lda.predict(X_test_trans))\n",
    "    \n",
    "    return temp_BACs\n",
    "    "
   ]
  },
  {
   "cell_type": "code",
   "execution_count": 189,
   "id": "4917f98e",
   "metadata": {},
   "outputs": [],
   "source": [
    "#checks out bc 50 total iterations from for loops and each iteration conducts 30 ML experiments\n",
    "def runexperiments_full_2(g1_samples, g2_samples):\n",
    "    \n",
    "    x = pd.concat([g1_samples, g2_samples]) #add together all postiive and negative labels \n",
    "    x = StandardScaler().fit_transform(x) #standardize values in x (z-score standardization)\n",
    "\n",
    "    target_g1 = pd.DataFrame(np.zeros((len(g1_samples), 1))) #get number of target group 1\n",
    "    target_g2 = pd.DataFrame(np.ones((len(g2_samples), 1))) #get number of target group 2\n",
    "\n",
    "    target = pd.concat([target_g1, target_g2]) #concatenate target zeros ones twos etc together\n",
    "    target = target.reset_index(drop=True)\n",
    "    \n",
    "    splits_rats = np.array([.1, .15, .2, .25, .3])\n",
    "\n",
    "    BAC_sums_cst = np.zeros(6)\n",
    "    BAC_sums_pca = np.zeros(6)\n",
    "    BAC_sums_mi = np.zeros(6)\n",
    "    BAC_sums_umap = np.zeros(6)\n",
    "    BAC_sums_kpca = np.zeros(6)\n",
    "    \n",
    "    \n",
    "    for i in splits_rats:\n",
    "        #split the data into test and train\n",
    "        X_train, X_test, y_train, y_test = train_test_split(x, target.to_numpy(), test_size=i, random_state=42)\n",
    "        y_train = y_train.ravel()\n",
    "        y_test = y_test.ravel()\n",
    "            \n",
    "        t1, t2, t3, t4, t5 = experiments_BACs(X_train, X_test, y_train, y_test, 2)\n",
    "        BAC_sums_cst += t1\n",
    "        BAC_sums_pca += t2\n",
    "        BAC_sums_mi += t3\n",
    "        BAC_sums_umap += t4\n",
    "        BAC_sums_kpca += t5\n",
    "    \n",
    "    numIter = splits_rats.shape[0]\n",
    "    BAC_sums_cst /= numIter\n",
    "    BAC_sums_pca /= numIter\n",
    "    BAC_sums_mi /= numIter\n",
    "    BAC_sums_umap /= numIter\n",
    "    BAC_sums_kpca /= numIter    \n",
    "    \n",
    "    return BAC_sums_cst ,BAC_sums_pca, BAC_sums_mi, BAC_sums_umap, BAC_sums_kpca\n",
    "    "
   ]
  },
  {
   "cell_type": "code",
   "execution_count": null,
   "id": "3f3f1ac0",
   "metadata": {},
   "outputs": [],
   "source": []
  },
  {
   "cell_type": "code",
   "execution_count": 115,
   "id": "0dd17ecf",
   "metadata": {},
   "outputs": [],
   "source": [
    "#transform X into X_trans using CST algorithm\n",
    "def CST_fit(X, y):\n",
    "    \n",
    "    #construct upper triangular A\n",
    "    sampleNum = X.shape[0] #get the number of samples\n",
    "    featureNum = X.shape[1] #get the number of features\n",
    "    temp_A = np.zeros((featureNum, featureNum)) #A has dimensions nxn, devised from outer product of difference of two samples's feature values\n",
    "    \n",
    "    #loops over SxS where S:{1,m} (m = # of samples)\n",
    "    for i in range(sampleNum-1):\n",
    "        #print(\"Progess:\", i)\n",
    "        start = time.time()\n",
    "        for j in range(i+1, sampleNum):\n",
    "            \n",
    "            #I think I need a condition that says as long as i != j \n",
    "            #(actually don't because it's adding 0's, eliminating saves flops though)\n",
    "            sample_difference = X[i] - X[j]\n",
    "            \n",
    "            #if indicator_func(y,i,j) == 1:\n",
    "            if y[i] == y[j]:\n",
    "                temp_A += (np.outer(sample_difference, sample_difference.T))\n",
    "            else:\n",
    "                temp_A -= (np.outer(sample_difference, sample_difference.T))\n",
    "            \n",
    "                #sample_dif_sqrd = sample_difference.reshape(-1,1) @ sample_difference.reshape(-1,1).T\n",
    "                #temp_A[i][j] = indicator_func(y, i, j)*sample_dif_sqrd\n",
    "                #temp_A += indicator_func(y, i, j)*sample_dif_sqrd\n",
    "        end = time.time()\n",
    "        #print(\"Time for iteration:\", i, \"is\", end - start)\n",
    "#         if i % 10 == 0:\n",
    "#             print(\"progress at\", i)\n",
    "    \n",
    "    #make matrix symmetric\n",
    "    #A = np.where(temp_A, temp_A, temp_A.T)\n",
    "    #print(temp_A) #prints the A matrix to make sure it is symmetric\n",
    "    \n",
    "    #calculate eigenvalues and eigenvectors of A\n",
    "    eigvals, eigvecs = np.linalg.eig(temp_A)\n",
    "    \n",
    "    #get minimum eigenvector\n",
    "    min_ind = np.argmin(eigvals)\n",
    "    min_eigvec = eigvecs[:,min_ind] #in the algorithm, this is the vector f\n",
    "    \n",
    "    #transform the data\n",
    "    X_trans = X @ min_eigvec \n",
    "    \n",
    "    return np.real(X_trans).reshape(-1,1), np.real(min_eigvec)\n",
    "    "
   ]
  },
  {
   "cell_type": "code",
   "execution_count": 116,
   "id": "1114227f",
   "metadata": {},
   "outputs": [],
   "source": [
    "def CST_transform(X, f):\n",
    "    \n",
    "    #transform the data\n",
    "    X_trans = X @ f\n",
    "    \n",
    "    return X_trans.reshape(-1,1)\n",
    "    "
   ]
  },
  {
   "cell_type": "code",
   "execution_count": null,
   "id": "8a822220",
   "metadata": {},
   "outputs": [],
   "source": []
  },
  {
   "cell_type": "code",
   "execution_count": null,
   "id": "0165b3cc",
   "metadata": {},
   "outputs": [],
   "source": []
  },
  {
   "cell_type": "code",
   "execution_count": null,
   "id": "b20af5d9",
   "metadata": {},
   "outputs": [],
   "source": []
  },
  {
   "cell_type": "code",
   "execution_count": 6,
   "id": "1978e559",
   "metadata": {},
   "outputs": [],
   "source": [
    "#Import experiment 1 (m v f - carcinomas)"
   ]
  },
  {
   "cell_type": "code",
   "execution_count": 144,
   "id": "64e7a7da",
   "metadata": {},
   "outputs": [],
   "source": [
    "df_pos1 = pd.read_csv('../preprocessedData_reduced/male_v_female_carcinomas_reduced_pos_samples.tsv', sep='\\t', header=0)\n",
    "df_pos1 = df_pos1.set_index(df_pos1.iloc[:,0])\n",
    "df_pos1 = df_pos1.iloc[:, 1:]\n",
    "\n",
    "df_neg1 = pd.read_csv('../preprocessedData_reduced/male_v_female_carcinomas_reduced_neg_samples.tsv', sep='\\t', header=0)\n",
    "df_neg1 = df_neg1.set_index(df_neg1.iloc[:,0])\n",
    "df_neg1 = df_neg1.iloc[:, 1:]"
   ]
  },
  {
   "cell_type": "code",
   "execution_count": 145,
   "id": "938aeefb",
   "metadata": {},
   "outputs": [],
   "source": [
    "#Import experiment 2 (m v f - adenocarcinomas)"
   ]
  },
  {
   "cell_type": "code",
   "execution_count": 146,
   "id": "03c20aa7",
   "metadata": {},
   "outputs": [],
   "source": [
    "df_pos2 = pd.read_csv('../preprocessedData_reduced/male_v_female_adenocarcinomas_reduced_pos_samples.tsv', sep='\\t', header=0)\n",
    "df_pos2 = df_pos2.set_index(df_pos2.iloc[:,0])\n",
    "df_pos2 = df_pos2.iloc[:, 1:]\n",
    "\n",
    "df_neg2 = pd.read_csv('../preprocessedData_reduced/male_v_female_adenocarcinomas_reduced_neg_samples.tsv', sep='\\t', header=0)\n",
    "df_neg2 = df_neg2.set_index(df_neg2.iloc[:,0])\n",
    "df_neg2 = df_neg2.iloc[:, 1:]"
   ]
  },
  {
   "cell_type": "code",
   "execution_count": 147,
   "id": "f60895a7",
   "metadata": {},
   "outputs": [],
   "source": [
    "#Import experiment 3 (ped v nonped - carcinomas)"
   ]
  },
  {
   "cell_type": "code",
   "execution_count": 148,
   "id": "32dbbf79",
   "metadata": {},
   "outputs": [],
   "source": [
    "df_pos3 = pd.read_csv('../preprocessedData_reduced/ped_v_nonped_carcinomas_reduced_pos_samples.tsv', sep='\\t', header=0)\n",
    "df_pos3 = df_pos3.set_index(df_pos3.iloc[:,0])\n",
    "df_pos3 = df_pos3.iloc[:, 1:]\n",
    "\n",
    "df_neg3 = pd.read_csv('../preprocessedData_reduced/ped_v_nonped_carcinomas_reduced_neg_samples.tsv', sep='\\t', header=0)\n",
    "df_neg3 = df_neg3.set_index(df_neg3.iloc[:,0])\n",
    "df_neg3 = df_neg3.iloc[:, 1:]"
   ]
  },
  {
   "cell_type": "code",
   "execution_count": 149,
   "id": "58967f9f",
   "metadata": {},
   "outputs": [],
   "source": [
    "#Import experiment 4 (ped v nonped - adenocarcinomas) # SCRAPPED"
   ]
  },
  {
   "cell_type": "code",
   "execution_count": 150,
   "id": "34e0d063",
   "metadata": {},
   "outputs": [],
   "source": [
    "# df_pos4 = pd.read_csv('../preprocessedData/ped_v_nonped_adenocarcinomas_reduced_pos_samples.tsv', sep='\\t', header=0)\n",
    "# df_pos4 = df_pos4.set_index(df_pos4.iloc[:,0])\n",
    "# df_pos4 = df_pos4.iloc[:, 1:]\n",
    "\n",
    "# df_neg4 = pd.read_csv('../preprocessedData/ped_v_nonped_adenocarcinomas_reduced_neg_samples.tsv', sep='\\t', header=0)\n",
    "# df_neg4 = df_neg4.set_index(df_neg4.iloc[:,0])\n",
    "# df_neg4 = df_neg4.iloc[:, 1:]"
   ]
  },
  {
   "cell_type": "code",
   "execution_count": 151,
   "id": "7b6360f8",
   "metadata": {},
   "outputs": [],
   "source": [
    "#Import experiment 5 (carcinomas v adenocarcinomas)"
   ]
  },
  {
   "cell_type": "code",
   "execution_count": 152,
   "id": "3063ecf8",
   "metadata": {},
   "outputs": [],
   "source": [
    "df_pos5 = pd.read_csv('../preprocessedData_reduced/carcinomas_v_adenocarcinomas_reduced_pos_samples.tsv', sep='\\t', header=0)\n",
    "df_pos5 = df_pos5.set_index(df_pos5.iloc[:,0])\n",
    "df_pos5 = df_pos5.iloc[:, 1:]\n",
    "\n",
    "df_neg5 = pd.read_csv('../preprocessedData_reduced/carcinomas_v_adenocarcinomas_reduced_neg_samples.tsv', sep='\\t', header=0)\n",
    "df_neg5 = df_neg5.set_index(df_neg5.iloc[:,0])\n",
    "df_neg5 = df_neg5.iloc[:, 1:]"
   ]
  },
  {
   "cell_type": "code",
   "execution_count": null,
   "id": "453e15f4",
   "metadata": {},
   "outputs": [],
   "source": []
  },
  {
   "cell_type": "code",
   "execution_count": null,
   "id": "cbc2e073",
   "metadata": {},
   "outputs": [],
   "source": []
  },
  {
   "cell_type": "code",
   "execution_count": 190,
   "id": "b6d41993",
   "metadata": {},
   "outputs": [],
   "source": [
    "pos1 = df_pos1.sample(200, replace=False)\n",
    "neg1 = df_neg1.sample(200, replace=False)"
   ]
  },
  {
   "cell_type": "code",
   "execution_count": 191,
   "id": "caff13ac",
   "metadata": {},
   "outputs": [],
   "source": [
    "exp1_cst, exp1_pca, exp1_mi, exp1_umap, exp1_kpca = runexperiments_full_2(pos1, neg1)"
   ]
  },
  {
   "cell_type": "code",
   "execution_count": null,
   "id": "163b860a",
   "metadata": {},
   "outputs": [],
   "source": []
  },
  {
   "cell_type": "code",
   "execution_count": 192,
   "id": "b6846eba",
   "metadata": {},
   "outputs": [],
   "source": [
    "pos2 = df_pos2.sample(200, replace=False)\n",
    "neg2 = df_neg2.sample(200, replace=False)"
   ]
  },
  {
   "cell_type": "code",
   "execution_count": 193,
   "id": "aef27890",
   "metadata": {},
   "outputs": [],
   "source": [
    "exp2_cst, exp2_pca, exp2_mi, exp2_umap, exp2_kpca = runexperiments_full_2(pos2, neg2)"
   ]
  },
  {
   "cell_type": "code",
   "execution_count": null,
   "id": "6c4cee9d",
   "metadata": {},
   "outputs": [],
   "source": []
  },
  {
   "cell_type": "code",
   "execution_count": 194,
   "id": "cdbf0996",
   "metadata": {},
   "outputs": [],
   "source": [
    "pos3 = df_pos3.sample(83, replace=False)\n",
    "neg3 = df_neg3.sample(83, replace=False)"
   ]
  },
  {
   "cell_type": "code",
   "execution_count": 195,
   "id": "b41622a2",
   "metadata": {},
   "outputs": [],
   "source": [
    "exp3_cst, exp3_pca, exp3_mi, exp3_umap, exp3_kpca = runexperiments_full_2(pos3, neg3)"
   ]
  },
  {
   "cell_type": "code",
   "execution_count": null,
   "id": "616dcc22",
   "metadata": {},
   "outputs": [],
   "source": []
  },
  {
   "cell_type": "code",
   "execution_count": 196,
   "id": "fa95d8dc",
   "metadata": {},
   "outputs": [],
   "source": [
    "pos5 = df_pos5.sample(200, replace=False)\n",
    "neg5 = df_neg5.sample(200, replace=False)"
   ]
  },
  {
   "cell_type": "code",
   "execution_count": 198,
   "id": "77ca8147",
   "metadata": {},
   "outputs": [],
   "source": [
    "exp5_cst, exp5_pca, exp5_mi, exp5_umap, exp5_kpca = runexperiments_full_2(pos5, neg5)"
   ]
  },
  {
   "cell_type": "code",
   "execution_count": null,
   "id": "46f78edf",
   "metadata": {},
   "outputs": [],
   "source": []
  },
  {
   "cell_type": "code",
   "execution_count": null,
   "id": "d55687a9",
   "metadata": {},
   "outputs": [],
   "source": []
  },
  {
   "cell_type": "code",
   "execution_count": 199,
   "id": "4bb4a97b",
   "metadata": {},
   "outputs": [],
   "source": [
    "#method that takes in the arrays of BAC values to display\n",
    "\n",
    "def graph_BAC_results(cstBACs, pcaBACs, miBACs, umapBACs, kpcaBACs, experiment):\n",
    "    \n",
    "    x = np.arange(6)\n",
    "    cstBACs = np.ndarray.tolist(cstBACs)\n",
    "    pcaBACs = np.ndarray.tolist(pcaBACs)\n",
    "    miBACs = np.ndarray.tolist(miBACs)\n",
    "    umapBACs = np.ndarray.tolist(umapBACs)\n",
    "    kpcaBACs = np.ndarray.tolist(kpcaBACs)\n",
    "\n",
    "    width = 0.86 / 6\n",
    "\n",
    "    colors = ['#000000', '#404040', '#7f7f7f', '#bfbfbf', '#ffffff']\n",
    "    DR = ['CST', 'PCA', 'MI', 'UMAP', 'kPCA']\n",
    "    classifiers = [\"kNN\", \"SVM\", \"GNB\", \"RF\", \"SGD\", \"LDA\"]\n",
    "\n",
    "    plt.figure(figsize=(15, 10))\n",
    "    plt.bar(x-2*width, cstBACs, width, color='#000000', edgecolor='black')\n",
    "    plt.bar(x-width, pcaBACs, width, color='#404040', edgecolor='black')\n",
    "    plt.bar(x, miBACs, width, color='#7f7f7f', edgecolor='black')\n",
    "    plt.bar(x+width, umapBACs, width, color='#bfbfbf', edgecolor='black')\n",
    "    plt.bar(x+2*width, kpcaBACs, width, color='#ffffff', edgecolor='black')\n",
    "\n",
    "    plt.xticks(x, classifiers)\n",
    "    plt.xlabel(\"DR / Feature Selection\")\n",
    "    plt.ylabel(\"Balanced Accuracy scores\")\n",
    "    plt.legend(DR, fontsize=8)\n",
    "    plt.title(experiment)\n",
    "    plt.show()\n",
    "    return\n"
   ]
  },
  {
   "cell_type": "code",
   "execution_count": null,
   "id": "79344bcd",
   "metadata": {},
   "outputs": [],
   "source": []
  },
  {
   "cell_type": "code",
   "execution_count": 200,
   "id": "94da8616",
   "metadata": {},
   "outputs": [
    {
     "data": {
      "image/png": "[encoded data removed]",
      "text/plain": [
       "<Figure size 1080x720 with 1 Axes>"
      ]
     },
     "metadata": {
      "needs_background": "light"
     },
     "output_type": "display_data"
    }
   ],
   "source": [
    "experiment1 = \"Classifying Between Male/Female\\nwithin 6 Types of Carcinomas\"\n",
    "graph_BAC_results(exp1_cst, exp1_pca, exp1_mi, exp1_umap, exp1_kpca, experiment1)"
   ]
  },
  {
   "cell_type": "code",
   "execution_count": 201,
   "id": "7c77eb2a",
   "metadata": {},
   "outputs": [
    {
     "data": {
      "image/png": "[encoded data removed]",
      "text/plain": [
       "<Figure size 1080x720 with 1 Axes>"
      ]
     },
     "metadata": {
      "needs_background": "light"
     },
     "output_type": "display_data"
    }
   ],
   "source": [
    "experiment2 = \"Classifying Between Male/Female\\nwithin 6 Types of Adenocarcinomas\"\n",
    "graph_BAC_results(exp2_cst, exp2_pca, exp2_mi, exp2_umap, exp2_kpca, experiment2)"
   ]
  },
  {
   "cell_type": "code",
   "execution_count": 202,
   "id": "f10e888c",
   "metadata": {},
   "outputs": [
    {
     "data": {
      "image/png": "[encoded data removed]",
      "text/plain": [
       "<Figure size 1080x720 with 1 Axes>"
      ]
     },
     "metadata": {
      "needs_background": "light"
     },
     "output_type": "display_data"
    }
   ],
   "source": [
    "experiment3 = \"Classifying Between Ped/Non-ped\\nwithin 6 Types of Carcinomas\"\n",
    "graph_BAC_results(exp3_cst, exp3_pca, exp3_mi, exp3_umap, exp3_kpca, experiment3)"
   ]
  },
  {
   "cell_type": "code",
   "execution_count": 203,
   "id": "63900922",
   "metadata": {},
   "outputs": [
    {
     "data": {
      "image/png": "[encoded data removed]",
      "text/plain": [
       "<Figure size 1080x720 with 1 Axes>"
      ]
     },
     "metadata": {
      "needs_background": "light"
     },
     "output_type": "display_data"
    }
   ],
   "source": [
    "experiment5 = \"Classifying Between 6 Types of Carcinomas\\n and 4 Types of Adenocarcinomas\"\n",
    "graph_BAC_results(exp5_cst, exp5_pca, exp5_mi, exp5_umap, exp5_kpca, experiment5)"
   ]
  },
  {
   "cell_type": "code",
   "execution_count": null,
   "id": "60776efd",
   "metadata": {},
   "outputs": [],
   "source": []
  },
  {
   "cell_type": "code",
   "execution_count": null,
   "id": "c9ec44d0",
   "metadata": {},
   "outputs": [],
   "source": []
  },
  {
   "cell_type": "code",
   "execution_count": 64,
   "id": "a6178c1b",
   "metadata": {},
   "outputs": [],
   "source": [
    "import time"
   ]
  },
  {
   "cell_type": "code",
   "execution_count": 204,
   "id": "8a2020a4",
   "metadata": {},
   "outputs": [
    {
     "name": "stdout",
     "output_type": "stream",
     "text": [
      "Time to train: 33.81071639060974\n"
     ]
    }
   ],
   "source": [
    "start = time.time()\n",
    "X_train_trans, f = CST_fit(X_train, y_train)\n",
    "end = time.time()\n",
    "print(\"Time to train:\", end - start)"
   ]
  },
  {
   "cell_type": "code",
   "execution_count": 103,
   "id": "6bd80654",
   "metadata": {},
   "outputs": [],
   "source": [
    "X_test_trans = CST_transform(X_test, f)"
   ]
  },
  {
   "cell_type": "code",
   "execution_count": 104,
   "id": "0faab0c5",
   "metadata": {},
   "outputs": [
    {
     "name": "stderr",
     "output_type": "stream",
     "text": [
      "C:\\Users\\richi_afzmjq6\\anaconda3\\lib\\site-packages\\sklearn\\neighbors\\_classification.py:198: DataConversionWarning: A column-vector y was passed when a 1d array was expected. Please change the shape of y to (n_samples,), for example using ravel().\n",
      "  return self._fit(X, y)\n",
      "C:\\Users\\richi_afzmjq6\\anaconda3\\lib\\site-packages\\sklearn\\utils\\validation.py:993: DataConversionWarning: A column-vector y was passed when a 1d array was expected. Please change the shape of y to (n_samples, ), for example using ravel().\n",
      "  y = column_or_1d(y, warn=True)\n",
      "C:\\Users\\richi_afzmjq6\\anaconda3\\lib\\site-packages\\sklearn\\utils\\validation.py:993: DataConversionWarning: A column-vector y was passed when a 1d array was expected. Please change the shape of y to (n_samples, ), for example using ravel().\n",
      "  y = column_or_1d(y, warn=True)\n",
      "<ipython-input-89-90192b15556a>:21: DataConversionWarning: A column-vector y was passed when a 1d array was expected. Please change the shape of y to (n_samples,), for example using ravel().\n",
      "  rf.fit(X_train_trans, y_train)\n",
      "C:\\Users\\richi_afzmjq6\\anaconda3\\lib\\site-packages\\sklearn\\utils\\validation.py:993: DataConversionWarning: A column-vector y was passed when a 1d array was expected. Please change the shape of y to (n_samples, ), for example using ravel().\n",
      "  y = column_or_1d(y, warn=True)\n",
      "C:\\Users\\richi_afzmjq6\\anaconda3\\lib\\site-packages\\sklearn\\utils\\validation.py:993: DataConversionWarning: A column-vector y was passed when a 1d array was expected. Please change the shape of y to (n_samples, ), for example using ravel().\n",
      "  y = column_or_1d(y, warn=True)\n"
     ]
    }
   ],
   "source": [
    "cst_bacs1 = experiment_BACs_helper(X_train_trans, X_test_trans, y_train, y_test, 2)"
   ]
  },
  {
   "cell_type": "code",
   "execution_count": 101,
   "id": "ca73a9b1",
   "metadata": {},
   "outputs": [
    {
     "name": "stdout",
     "output_type": "stream",
     "text": [
      "[0.90740741 0.92592593 0.90740741 0.84219002 0.87037037 0.90740741]\n"
     ]
    }
   ],
   "source": [
    "print(cst_bacs1)"
   ]
  },
  {
   "cell_type": "code",
   "execution_count": null,
   "id": "ecc29b13",
   "metadata": {},
   "outputs": [],
   "source": []
  },
  {
   "cell_type": "code",
   "execution_count": null,
   "id": "29c07dcd",
   "metadata": {},
   "outputs": [],
   "source": []
  },
  {
   "cell_type": "code",
   "execution_count": null,
   "id": "b47ccb94",
   "metadata": {},
   "outputs": [],
   "source": []
  },
  {
   "cell_type": "code",
   "execution_count": null,
   "id": "0b040313",
   "metadata": {},
   "outputs": [],
   "source": []
  },
  {
   "cell_type": "code",
   "execution_count": null,
   "id": "481f8761",
   "metadata": {},
   "outputs": [],
   "source": []
  },
  {
   "cell_type": "code",
   "execution_count": 45,
   "id": "a496e56c",
   "metadata": {},
   "outputs": [
    {
     "data": {
      "text/plain": [
       "(2762, 850)"
      ]
     },
     "execution_count": 45,
     "metadata": {},
     "output_type": "execute_result"
    }
   ],
   "source": [
    "x.shape"
   ]
  },
  {
   "cell_type": "code",
   "execution_count": 47,
   "id": "d808279b",
   "metadata": {},
   "outputs": [
    {
     "data": {
      "text/plain": [
       "(850,)"
      ]
     },
     "execution_count": 47,
     "metadata": {},
     "output_type": "execute_result"
    }
   ],
   "source": [
    "rand_inds = np.random.choice(x.shape)\n",
    "x[0].shape"
   ]
  },
  {
   "cell_type": "code",
   "execution_count": null,
   "id": "629a49b4",
   "metadata": {},
   "outputs": [],
   "source": []
  },
  {
   "cell_type": "code",
   "execution_count": null,
   "id": "cb6208c0",
   "metadata": {},
   "outputs": [],
   "source": []
  },
  {
   "cell_type": "code",
   "execution_count": 30,
   "id": "5df2c4ae",
   "metadata": {},
   "outputs": [],
   "source": [
    "x = pd.concat([df_pos2, df_neg2]) #add together all postiive and negative labels \n",
    "x = StandardScaler().fit_transform(x) #standardize values in x (z-score standardization)\n",
    "\n",
    "target_zeros = pd.DataFrame(np.zeros((len(df_pos2), 1))) #get number of target zeros\n",
    "target_ones = pd.DataFrame(np.ones((len(df_neg2), 1))) #get number of target ones\n",
    "target = pd.concat([target_ones, target_zeros]) #concatenate target ones and zeros together\n",
    "target = target.reset_index(drop=True)\n",
    "\n",
    "#split the data into test and train\n",
    "X_train, X_test, y_train, y_test = train_test_split(x, target.to_numpy(), test_size=0.25, random_state=42)"
   ]
  },
  {
   "cell_type": "code",
   "execution_count": 33,
   "id": "aa3c10e1",
   "metadata": {},
   "outputs": [
    {
     "data": {
      "text/html": [
       "<div>\n",
       "<style scoped>\n",
       "    .dataframe tbody tr th:only-of-type {\n",
       "        vertical-align: middle;\n",
       "    }\n",
       "\n",
       "    .dataframe tbody tr th {\n",
       "        vertical-align: top;\n",
       "    }\n",
       "\n",
       "    .dataframe thead th {\n",
       "        text-align: right;\n",
       "    }\n",
       "</style>\n",
       "<table border=\"1\" class=\"dataframe\">\n",
       "  <thead>\n",
       "    <tr style=\"text-align: right;\">\n",
       "      <th></th>\n",
       "      <th>22956</th>\n",
       "      <th>22958</th>\n",
       "      <th>22959</th>\n",
       "      <th>22960</th>\n",
       "      <th>22962</th>\n",
       "      <th>22963</th>\n",
       "      <th>22964</th>\n",
       "      <th>22965</th>\n",
       "      <th>22966</th>\n",
       "      <th>22967</th>\n",
       "      <th>...</th>\n",
       "      <th>24442</th>\n",
       "      <th>24443</th>\n",
       "      <th>24444</th>\n",
       "      <th>24446</th>\n",
       "      <th>24447</th>\n",
       "      <th>24448</th>\n",
       "      <th>24449</th>\n",
       "      <th>24451</th>\n",
       "      <th>24452</th>\n",
       "      <th>24769</th>\n",
       "    </tr>\n",
       "    <tr>\n",
       "      <th>Unnamed: 0</th>\n",
       "      <th></th>\n",
       "      <th></th>\n",
       "      <th></th>\n",
       "      <th></th>\n",
       "      <th></th>\n",
       "      <th></th>\n",
       "      <th></th>\n",
       "      <th></th>\n",
       "      <th></th>\n",
       "      <th></th>\n",
       "      <th></th>\n",
       "      <th></th>\n",
       "      <th></th>\n",
       "      <th></th>\n",
       "      <th></th>\n",
       "      <th></th>\n",
       "      <th></th>\n",
       "      <th></th>\n",
       "      <th></th>\n",
       "      <th></th>\n",
       "      <th></th>\n",
       "    </tr>\n",
       "  </thead>\n",
       "  <tbody>\n",
       "    <tr>\n",
       "      <th>TCGA-18-3407-01</th>\n",
       "      <td>0.0</td>\n",
       "      <td>0.0</td>\n",
       "      <td>0.0</td>\n",
       "      <td>0.0</td>\n",
       "      <td>0.0</td>\n",
       "      <td>0.0</td>\n",
       "      <td>0.0</td>\n",
       "      <td>0.0</td>\n",
       "      <td>0.0</td>\n",
       "      <td>0.0</td>\n",
       "      <td>...</td>\n",
       "      <td>0.0</td>\n",
       "      <td>0.0</td>\n",
       "      <td>0.0</td>\n",
       "      <td>0.0</td>\n",
       "      <td>0.0</td>\n",
       "      <td>0.0</td>\n",
       "      <td>0.0</td>\n",
       "      <td>0.0</td>\n",
       "      <td>0.0</td>\n",
       "      <td>0.0</td>\n",
       "    </tr>\n",
       "    <tr>\n",
       "      <th>TCGA-18-3409-01</th>\n",
       "      <td>0.0</td>\n",
       "      <td>0.0</td>\n",
       "      <td>0.0</td>\n",
       "      <td>0.0</td>\n",
       "      <td>0.0</td>\n",
       "      <td>0.0</td>\n",
       "      <td>0.0</td>\n",
       "      <td>0.0</td>\n",
       "      <td>0.0</td>\n",
       "      <td>0.0</td>\n",
       "      <td>...</td>\n",
       "      <td>0.0</td>\n",
       "      <td>0.0</td>\n",
       "      <td>0.0</td>\n",
       "      <td>0.0</td>\n",
       "      <td>0.0</td>\n",
       "      <td>0.0</td>\n",
       "      <td>0.0</td>\n",
       "      <td>0.0</td>\n",
       "      <td>0.0</td>\n",
       "      <td>0.0</td>\n",
       "    </tr>\n",
       "    <tr>\n",
       "      <th>TCGA-18-3410-01</th>\n",
       "      <td>0.0</td>\n",
       "      <td>0.0</td>\n",
       "      <td>0.0</td>\n",
       "      <td>0.0</td>\n",
       "      <td>0.0</td>\n",
       "      <td>0.0</td>\n",
       "      <td>0.0</td>\n",
       "      <td>0.0</td>\n",
       "      <td>0.0</td>\n",
       "      <td>0.0</td>\n",
       "      <td>...</td>\n",
       "      <td>0.0</td>\n",
       "      <td>0.0</td>\n",
       "      <td>0.0</td>\n",
       "      <td>0.0</td>\n",
       "      <td>0.0</td>\n",
       "      <td>0.0</td>\n",
       "      <td>0.0</td>\n",
       "      <td>0.0</td>\n",
       "      <td>0.0</td>\n",
       "      <td>0.0</td>\n",
       "    </tr>\n",
       "    <tr>\n",
       "      <th>TCGA-18-3412-01</th>\n",
       "      <td>0.0</td>\n",
       "      <td>0.0</td>\n",
       "      <td>0.0</td>\n",
       "      <td>0.0</td>\n",
       "      <td>0.0</td>\n",
       "      <td>0.0</td>\n",
       "      <td>0.0</td>\n",
       "      <td>0.0</td>\n",
       "      <td>0.0</td>\n",
       "      <td>0.0</td>\n",
       "      <td>...</td>\n",
       "      <td>0.0</td>\n",
       "      <td>0.0</td>\n",
       "      <td>0.0</td>\n",
       "      <td>0.0</td>\n",
       "      <td>0.0</td>\n",
       "      <td>0.0</td>\n",
       "      <td>0.0</td>\n",
       "      <td>0.0</td>\n",
       "      <td>0.0</td>\n",
       "      <td>0.0</td>\n",
       "    </tr>\n",
       "    <tr>\n",
       "      <th>TCGA-18-3414-01</th>\n",
       "      <td>0.0</td>\n",
       "      <td>0.0</td>\n",
       "      <td>0.0</td>\n",
       "      <td>0.0</td>\n",
       "      <td>0.0</td>\n",
       "      <td>0.0</td>\n",
       "      <td>0.0</td>\n",
       "      <td>0.0</td>\n",
       "      <td>0.0</td>\n",
       "      <td>0.0</td>\n",
       "      <td>...</td>\n",
       "      <td>0.0</td>\n",
       "      <td>0.0</td>\n",
       "      <td>0.0</td>\n",
       "      <td>0.0</td>\n",
       "      <td>0.0</td>\n",
       "      <td>0.0</td>\n",
       "      <td>0.0</td>\n",
       "      <td>0.0</td>\n",
       "      <td>0.0</td>\n",
       "      <td>0.0</td>\n",
       "    </tr>\n",
       "    <tr>\n",
       "      <th>...</th>\n",
       "      <td>...</td>\n",
       "      <td>...</td>\n",
       "      <td>...</td>\n",
       "      <td>...</td>\n",
       "      <td>...</td>\n",
       "      <td>...</td>\n",
       "      <td>...</td>\n",
       "      <td>...</td>\n",
       "      <td>...</td>\n",
       "      <td>...</td>\n",
       "      <td>...</td>\n",
       "      <td>...</td>\n",
       "      <td>...</td>\n",
       "      <td>...</td>\n",
       "      <td>...</td>\n",
       "      <td>...</td>\n",
       "      <td>...</td>\n",
       "      <td>...</td>\n",
       "      <td>...</td>\n",
       "      <td>...</td>\n",
       "      <td>...</td>\n",
       "    </tr>\n",
       "    <tr>\n",
       "      <th>TCGA-ZF-AA4X-01</th>\n",
       "      <td>0.0</td>\n",
       "      <td>0.0</td>\n",
       "      <td>0.0</td>\n",
       "      <td>0.0</td>\n",
       "      <td>0.0</td>\n",
       "      <td>0.0</td>\n",
       "      <td>0.0</td>\n",
       "      <td>0.0</td>\n",
       "      <td>0.0</td>\n",
       "      <td>0.0</td>\n",
       "      <td>...</td>\n",
       "      <td>0.0</td>\n",
       "      <td>0.0</td>\n",
       "      <td>0.0</td>\n",
       "      <td>0.0</td>\n",
       "      <td>0.0</td>\n",
       "      <td>0.0</td>\n",
       "      <td>0.0</td>\n",
       "      <td>0.0</td>\n",
       "      <td>0.0</td>\n",
       "      <td>0.0</td>\n",
       "    </tr>\n",
       "    <tr>\n",
       "      <th>TCGA-ZF-AA52-01</th>\n",
       "      <td>0.0</td>\n",
       "      <td>0.0</td>\n",
       "      <td>0.0</td>\n",
       "      <td>0.0</td>\n",
       "      <td>0.0</td>\n",
       "      <td>0.0</td>\n",
       "      <td>0.0</td>\n",
       "      <td>0.0</td>\n",
       "      <td>0.0</td>\n",
       "      <td>0.0</td>\n",
       "      <td>...</td>\n",
       "      <td>0.0</td>\n",
       "      <td>0.0</td>\n",
       "      <td>0.0</td>\n",
       "      <td>0.0</td>\n",
       "      <td>0.0</td>\n",
       "      <td>0.0</td>\n",
       "      <td>0.0</td>\n",
       "      <td>0.0</td>\n",
       "      <td>0.0</td>\n",
       "      <td>0.0</td>\n",
       "    </tr>\n",
       "    <tr>\n",
       "      <th>TCGA-ZF-AA53-01</th>\n",
       "      <td>0.0</td>\n",
       "      <td>0.0</td>\n",
       "      <td>0.0</td>\n",
       "      <td>0.0</td>\n",
       "      <td>0.0</td>\n",
       "      <td>0.0</td>\n",
       "      <td>0.0</td>\n",
       "      <td>0.0</td>\n",
       "      <td>0.0</td>\n",
       "      <td>0.0</td>\n",
       "      <td>...</td>\n",
       "      <td>0.0</td>\n",
       "      <td>0.0</td>\n",
       "      <td>0.0</td>\n",
       "      <td>0.0</td>\n",
       "      <td>0.0</td>\n",
       "      <td>0.0</td>\n",
       "      <td>0.0</td>\n",
       "      <td>0.0</td>\n",
       "      <td>0.0</td>\n",
       "      <td>0.0</td>\n",
       "    </tr>\n",
       "    <tr>\n",
       "      <th>TCGA-ZF-AA54-01</th>\n",
       "      <td>0.0</td>\n",
       "      <td>0.0</td>\n",
       "      <td>0.0</td>\n",
       "      <td>0.0</td>\n",
       "      <td>0.0</td>\n",
       "      <td>0.0</td>\n",
       "      <td>0.0</td>\n",
       "      <td>0.0</td>\n",
       "      <td>0.0</td>\n",
       "      <td>0.0</td>\n",
       "      <td>...</td>\n",
       "      <td>0.0</td>\n",
       "      <td>0.0</td>\n",
       "      <td>0.0</td>\n",
       "      <td>0.0</td>\n",
       "      <td>0.0</td>\n",
       "      <td>0.0</td>\n",
       "      <td>0.0</td>\n",
       "      <td>0.0</td>\n",
       "      <td>0.0</td>\n",
       "      <td>0.0</td>\n",
       "    </tr>\n",
       "    <tr>\n",
       "      <th>TCGA-ZF-AA5P-01</th>\n",
       "      <td>0.0</td>\n",
       "      <td>0.0</td>\n",
       "      <td>0.0</td>\n",
       "      <td>0.0</td>\n",
       "      <td>0.0</td>\n",
       "      <td>0.0</td>\n",
       "      <td>0.0</td>\n",
       "      <td>0.0</td>\n",
       "      <td>0.0</td>\n",
       "      <td>0.0</td>\n",
       "      <td>...</td>\n",
       "      <td>0.0</td>\n",
       "      <td>0.0</td>\n",
       "      <td>0.0</td>\n",
       "      <td>0.0</td>\n",
       "      <td>0.0</td>\n",
       "      <td>0.0</td>\n",
       "      <td>0.0</td>\n",
       "      <td>0.0</td>\n",
       "      <td>0.0</td>\n",
       "      <td>0.0</td>\n",
       "    </tr>\n",
       "  </tbody>\n",
       "</table>\n",
       "<p>1755 rows × 850 columns</p>\n",
       "</div>"
      ],
      "text/plain": [
       "                 22956  22958  22959  22960  22962  22963  22964  22965  \\\n",
       "Unnamed: 0                                                                \n",
       "TCGA-18-3407-01    0.0    0.0    0.0    0.0    0.0    0.0    0.0    0.0   \n",
       "TCGA-18-3409-01    0.0    0.0    0.0    0.0    0.0    0.0    0.0    0.0   \n",
       "TCGA-18-3410-01    0.0    0.0    0.0    0.0    0.0    0.0    0.0    0.0   \n",
       "TCGA-18-3412-01    0.0    0.0    0.0    0.0    0.0    0.0    0.0    0.0   \n",
       "TCGA-18-3414-01    0.0    0.0    0.0    0.0    0.0    0.0    0.0    0.0   \n",
       "...                ...    ...    ...    ...    ...    ...    ...    ...   \n",
       "TCGA-ZF-AA4X-01    0.0    0.0    0.0    0.0    0.0    0.0    0.0    0.0   \n",
       "TCGA-ZF-AA52-01    0.0    0.0    0.0    0.0    0.0    0.0    0.0    0.0   \n",
       "TCGA-ZF-AA53-01    0.0    0.0    0.0    0.0    0.0    0.0    0.0    0.0   \n",
       "TCGA-ZF-AA54-01    0.0    0.0    0.0    0.0    0.0    0.0    0.0    0.0   \n",
       "TCGA-ZF-AA5P-01    0.0    0.0    0.0    0.0    0.0    0.0    0.0    0.0   \n",
       "\n",
       "                 22966  22967  ...  24442  24443  24444  24446  24447  24448  \\\n",
       "Unnamed: 0                     ...                                             \n",
       "TCGA-18-3407-01    0.0    0.0  ...    0.0    0.0    0.0    0.0    0.0    0.0   \n",
       "TCGA-18-3409-01    0.0    0.0  ...    0.0    0.0    0.0    0.0    0.0    0.0   \n",
       "TCGA-18-3410-01    0.0    0.0  ...    0.0    0.0    0.0    0.0    0.0    0.0   \n",
       "TCGA-18-3412-01    0.0    0.0  ...    0.0    0.0    0.0    0.0    0.0    0.0   \n",
       "TCGA-18-3414-01    0.0    0.0  ...    0.0    0.0    0.0    0.0    0.0    0.0   \n",
       "...                ...    ...  ...    ...    ...    ...    ...    ...    ...   \n",
       "TCGA-ZF-AA4X-01    0.0    0.0  ...    0.0    0.0    0.0    0.0    0.0    0.0   \n",
       "TCGA-ZF-AA52-01    0.0    0.0  ...    0.0    0.0    0.0    0.0    0.0    0.0   \n",
       "TCGA-ZF-AA53-01    0.0    0.0  ...    0.0    0.0    0.0    0.0    0.0    0.0   \n",
       "TCGA-ZF-AA54-01    0.0    0.0  ...    0.0    0.0    0.0    0.0    0.0    0.0   \n",
       "TCGA-ZF-AA5P-01    0.0    0.0  ...    0.0    0.0    0.0    0.0    0.0    0.0   \n",
       "\n",
       "                 24449  24451  24452  24769  \n",
       "Unnamed: 0                                   \n",
       "TCGA-18-3407-01    0.0    0.0    0.0    0.0  \n",
       "TCGA-18-3409-01    0.0    0.0    0.0    0.0  \n",
       "TCGA-18-3410-01    0.0    0.0    0.0    0.0  \n",
       "TCGA-18-3412-01    0.0    0.0    0.0    0.0  \n",
       "TCGA-18-3414-01    0.0    0.0    0.0    0.0  \n",
       "...                ...    ...    ...    ...  \n",
       "TCGA-ZF-AA4X-01    0.0    0.0    0.0    0.0  \n",
       "TCGA-ZF-AA52-01    0.0    0.0    0.0    0.0  \n",
       "TCGA-ZF-AA53-01    0.0    0.0    0.0    0.0  \n",
       "TCGA-ZF-AA54-01    0.0    0.0    0.0    0.0  \n",
       "TCGA-ZF-AA5P-01    0.0    0.0    0.0    0.0  \n",
       "\n",
       "[1755 rows x 850 columns]"
      ]
     },
     "execution_count": 33,
     "metadata": {},
     "output_type": "execute_result"
    }
   ],
   "source": [
    "df_pos1"
   ]
  },
  {
   "cell_type": "code",
   "execution_count": null,
   "id": "b888f36f",
   "metadata": {},
   "outputs": [],
   "source": []
  }
 ],
 "metadata": {
  "kernelspec": {
   "display_name": "Python 3",
   "language": "python",
   "name": "python3"
  },
  "language_info": {
   "codemirror_mode": {
    "name": "ipython",
    "version": 3
   },
   "file_extension": ".py",
   "mimetype": "text/x-python",
   "name": "python",
   "nbconvert_exporter": "python",
   "pygments_lexer": "ipython3",
   "version": "3.8.8"
  }
 },
 "nbformat": 4,
 "nbformat_minor": 5
}
