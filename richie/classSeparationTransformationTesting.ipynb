{
 "cells": [
  {
   "cell_type": "markdown",
   "id": "596aa632",
   "metadata": {},
   "source": [
    "# Class Separation Transformation DR/feature-selection Algorithm Testing"
   ]
  },
  {
   "cell_type": "code",
   "execution_count": 2,
   "id": "1c427c56",
   "metadata": {},
   "outputs": [],
   "source": [
    "#import useful libraries\n",
    "import pandas as pd\n",
    "import numpy as np \n",
    "import matplotlib.pyplot as plt \n",
    "from matplotlib.pyplot import figure\n",
    "import sys\n",
    "#import umap.umap_ as umap\n",
    "import random\n",
    "from sklearn.preprocessing import StandardScaler\n",
    "from sklearn.decomposition import PCA\n",
    "from sklearn.feature_selection import SelectKBest\n",
    "from sklearn.feature_selection import mutual_info_classif\n",
    "from sklearn.svm import SVC\n",
    "from sklearn.naive_bayes import GaussianNB\n",
    "from sklearn.neighbors import KNeighborsClassifier\n",
    "from sklearn.ensemble import RandomForestClassifier\n",
    "from sklearn.linear_model import SGDClassifier\n",
    "from sklearn.pipeline import make_pipeline\n",
    "from sklearn.discriminant_analysis import LinearDiscriminantAnalysis\n",
    "from sklearn.model_selection import train_test_split\n",
    "from sklearn.metrics import balanced_accuracy_score\n",
    "from sklearn.metrics import f1_score\n",
    "from sklearn.metrics import precision_score\n",
    "from sklearn.metrics import recall_score\n",
    "from sklearn.decomposition import KernelPCA\n",
    "from sklearn.metrics import confusion_matrix\n",
    "from sklearn.metrics import ConfusionMatrixDisplay\n",
    "from sklearn.model_selection import KFold"
   ]
  },
  {
   "cell_type": "code",
   "execution_count": 2,
   "id": "7aa92ce6",
   "metadata": {},
   "outputs": [
    {
     "ename": "MemoryError",
     "evalue": "Unable to allocate 5.56 GiB for an array with shape (12747, 58581) and data type float64",
     "output_type": "error",
     "traceback": [
      "\u001b[1;31m---------------------------------------------------------------------------\u001b[0m",
      "\u001b[1;31mMemoryError\u001b[0m                               Traceback (most recent call last)",
      "\u001b[1;32m<ipython-input-2-a971e11b343e>\u001b[0m in \u001b[0;36m<module>\u001b[1;34m\u001b[0m\n\u001b[0;32m      1\u001b[0m \u001b[1;31m#import data (beware, it takes around 10 minutes)\u001b[0m\u001b[1;33m\u001b[0m\u001b[1;33m\u001b[0m\u001b[1;33m\u001b[0m\u001b[0m\n\u001b[0;32m      2\u001b[0m \u001b[0mdf\u001b[0m \u001b[1;33m=\u001b[0m \u001b[0mpd\u001b[0m\u001b[1;33m.\u001b[0m\u001b[0mread_csv\u001b[0m\u001b[1;33m(\u001b[0m\u001b[1;34m'../clinical_TumorCompendium_v11_PolyA_2020-04-09.tsv'\u001b[0m\u001b[1;33m,\u001b[0m \u001b[0msep\u001b[0m\u001b[1;33m=\u001b[0m\u001b[1;34m'\\t'\u001b[0m\u001b[1;33m,\u001b[0m \u001b[0mheader\u001b[0m\u001b[1;33m=\u001b[0m\u001b[1;36m0\u001b[0m\u001b[1;33m)\u001b[0m\u001b[1;33m\u001b[0m\u001b[1;33m\u001b[0m\u001b[0m\n\u001b[1;32m----> 3\u001b[1;33m \u001b[0mdf2\u001b[0m \u001b[1;33m=\u001b[0m \u001b[0mpd\u001b[0m\u001b[1;33m.\u001b[0m\u001b[0mread_csv\u001b[0m\u001b[1;33m(\u001b[0m\u001b[1;34m'../TumorCompendium_v11_PolyA_hugo_log2tpm_58581genes_2020-04-09.tsv'\u001b[0m\u001b[1;33m,\u001b[0m \u001b[0msep\u001b[0m\u001b[1;33m=\u001b[0m\u001b[1;34m'\\t'\u001b[0m\u001b[1;33m,\u001b[0m \u001b[0mheader\u001b[0m\u001b[1;33m=\u001b[0m\u001b[1;36m0\u001b[0m\u001b[1;33m)\u001b[0m\u001b[1;33m\u001b[0m\u001b[1;33m\u001b[0m\u001b[0m\n\u001b[0m",
      "\u001b[1;32m~\\anaconda3\\lib\\site-packages\\pandas\\io\\parsers.py\u001b[0m in \u001b[0;36mread_csv\u001b[1;34m(filepath_or_buffer, sep, delimiter, header, names, index_col, usecols, squeeze, prefix, mangle_dupe_cols, dtype, engine, converters, true_values, false_values, skipinitialspace, skiprows, skipfooter, nrows, na_values, keep_default_na, na_filter, verbose, skip_blank_lines, parse_dates, infer_datetime_format, keep_date_col, date_parser, dayfirst, cache_dates, iterator, chunksize, compression, thousands, decimal, lineterminator, quotechar, quoting, doublequote, escapechar, comment, encoding, dialect, error_bad_lines, warn_bad_lines, delim_whitespace, low_memory, memory_map, float_precision, storage_options)\u001b[0m\n\u001b[0;32m    608\u001b[0m     \u001b[0mkwds\u001b[0m\u001b[1;33m.\u001b[0m\u001b[0mupdate\u001b[0m\u001b[1;33m(\u001b[0m\u001b[0mkwds_defaults\u001b[0m\u001b[1;33m)\u001b[0m\u001b[1;33m\u001b[0m\u001b[1;33m\u001b[0m\u001b[0m\n\u001b[0;32m    609\u001b[0m \u001b[1;33m\u001b[0m\u001b[0m\n\u001b[1;32m--> 610\u001b[1;33m     \u001b[1;32mreturn\u001b[0m \u001b[0m_read\u001b[0m\u001b[1;33m(\u001b[0m\u001b[0mfilepath_or_buffer\u001b[0m\u001b[1;33m,\u001b[0m \u001b[0mkwds\u001b[0m\u001b[1;33m)\u001b[0m\u001b[1;33m\u001b[0m\u001b[1;33m\u001b[0m\u001b[0m\n\u001b[0m\u001b[0;32m    611\u001b[0m \u001b[1;33m\u001b[0m\u001b[0m\n\u001b[0;32m    612\u001b[0m \u001b[1;33m\u001b[0m\u001b[0m\n",
      "\u001b[1;32m~\\anaconda3\\lib\\site-packages\\pandas\\io\\parsers.py\u001b[0m in \u001b[0;36m_read\u001b[1;34m(filepath_or_buffer, kwds)\u001b[0m\n\u001b[0;32m    466\u001b[0m \u001b[1;33m\u001b[0m\u001b[0m\n\u001b[0;32m    467\u001b[0m     \u001b[1;32mwith\u001b[0m \u001b[0mparser\u001b[0m\u001b[1;33m:\u001b[0m\u001b[1;33m\u001b[0m\u001b[1;33m\u001b[0m\u001b[0m\n\u001b[1;32m--> 468\u001b[1;33m         \u001b[1;32mreturn\u001b[0m \u001b[0mparser\u001b[0m\u001b[1;33m.\u001b[0m\u001b[0mread\u001b[0m\u001b[1;33m(\u001b[0m\u001b[0mnrows\u001b[0m\u001b[1;33m)\u001b[0m\u001b[1;33m\u001b[0m\u001b[1;33m\u001b[0m\u001b[0m\n\u001b[0m\u001b[0;32m    469\u001b[0m \u001b[1;33m\u001b[0m\u001b[0m\n\u001b[0;32m    470\u001b[0m \u001b[1;33m\u001b[0m\u001b[0m\n",
      "\u001b[1;32m~\\anaconda3\\lib\\site-packages\\pandas\\io\\parsers.py\u001b[0m in \u001b[0;36mread\u001b[1;34m(self, nrows)\u001b[0m\n\u001b[0;32m   1067\u001b[0m             \u001b[0mnew_rows\u001b[0m \u001b[1;33m=\u001b[0m \u001b[0mlen\u001b[0m\u001b[1;33m(\u001b[0m\u001b[0mindex\u001b[0m\u001b[1;33m)\u001b[0m\u001b[1;33m\u001b[0m\u001b[1;33m\u001b[0m\u001b[0m\n\u001b[0;32m   1068\u001b[0m \u001b[1;33m\u001b[0m\u001b[0m\n\u001b[1;32m-> 1069\u001b[1;33m         \u001b[0mdf\u001b[0m \u001b[1;33m=\u001b[0m \u001b[0mDataFrame\u001b[0m\u001b[1;33m(\u001b[0m\u001b[0mcol_dict\u001b[0m\u001b[1;33m,\u001b[0m \u001b[0mcolumns\u001b[0m\u001b[1;33m=\u001b[0m\u001b[0mcolumns\u001b[0m\u001b[1;33m,\u001b[0m \u001b[0mindex\u001b[0m\u001b[1;33m=\u001b[0m\u001b[0mindex\u001b[0m\u001b[1;33m)\u001b[0m\u001b[1;33m\u001b[0m\u001b[1;33m\u001b[0m\u001b[0m\n\u001b[0m\u001b[0;32m   1070\u001b[0m \u001b[1;33m\u001b[0m\u001b[0m\n\u001b[0;32m   1071\u001b[0m         \u001b[0mself\u001b[0m\u001b[1;33m.\u001b[0m\u001b[0m_currow\u001b[0m \u001b[1;33m+=\u001b[0m \u001b[0mnew_rows\u001b[0m\u001b[1;33m\u001b[0m\u001b[1;33m\u001b[0m\u001b[0m\n",
      "\u001b[1;32m~\\anaconda3\\lib\\site-packages\\pandas\\core\\frame.py\u001b[0m in \u001b[0;36m__init__\u001b[1;34m(self, data, index, columns, dtype, copy)\u001b[0m\n\u001b[0;32m    527\u001b[0m \u001b[1;33m\u001b[0m\u001b[0m\n\u001b[0;32m    528\u001b[0m         \u001b[1;32melif\u001b[0m \u001b[0misinstance\u001b[0m\u001b[1;33m(\u001b[0m\u001b[0mdata\u001b[0m\u001b[1;33m,\u001b[0m \u001b[0mdict\u001b[0m\u001b[1;33m)\u001b[0m\u001b[1;33m:\u001b[0m\u001b[1;33m\u001b[0m\u001b[1;33m\u001b[0m\u001b[0m\n\u001b[1;32m--> 529\u001b[1;33m             \u001b[0mmgr\u001b[0m \u001b[1;33m=\u001b[0m \u001b[0minit_dict\u001b[0m\u001b[1;33m(\u001b[0m\u001b[0mdata\u001b[0m\u001b[1;33m,\u001b[0m \u001b[0mindex\u001b[0m\u001b[1;33m,\u001b[0m \u001b[0mcolumns\u001b[0m\u001b[1;33m,\u001b[0m \u001b[0mdtype\u001b[0m\u001b[1;33m=\u001b[0m\u001b[0mdtype\u001b[0m\u001b[1;33m)\u001b[0m\u001b[1;33m\u001b[0m\u001b[1;33m\u001b[0m\u001b[0m\n\u001b[0m\u001b[0;32m    530\u001b[0m         \u001b[1;32melif\u001b[0m \u001b[0misinstance\u001b[0m\u001b[1;33m(\u001b[0m\u001b[0mdata\u001b[0m\u001b[1;33m,\u001b[0m \u001b[0mma\u001b[0m\u001b[1;33m.\u001b[0m\u001b[0mMaskedArray\u001b[0m\u001b[1;33m)\u001b[0m\u001b[1;33m:\u001b[0m\u001b[1;33m\u001b[0m\u001b[1;33m\u001b[0m\u001b[0m\n\u001b[0;32m    531\u001b[0m             \u001b[1;32mimport\u001b[0m \u001b[0mnumpy\u001b[0m\u001b[1;33m.\u001b[0m\u001b[0mma\u001b[0m\u001b[1;33m.\u001b[0m\u001b[0mmrecords\u001b[0m \u001b[1;32mas\u001b[0m \u001b[0mmrecords\u001b[0m\u001b[1;33m\u001b[0m\u001b[1;33m\u001b[0m\u001b[0m\n",
      "\u001b[1;32m~\\anaconda3\\lib\\site-packages\\pandas\\core\\internals\\construction.py\u001b[0m in \u001b[0;36minit_dict\u001b[1;34m(data, index, columns, dtype)\u001b[0m\n\u001b[0;32m    285\u001b[0m             \u001b[0marr\u001b[0m \u001b[1;32mif\u001b[0m \u001b[1;32mnot\u001b[0m \u001b[0mis_datetime64tz_dtype\u001b[0m\u001b[1;33m(\u001b[0m\u001b[0marr\u001b[0m\u001b[1;33m)\u001b[0m \u001b[1;32melse\u001b[0m \u001b[0marr\u001b[0m\u001b[1;33m.\u001b[0m\u001b[0mcopy\u001b[0m\u001b[1;33m(\u001b[0m\u001b[1;33m)\u001b[0m \u001b[1;32mfor\u001b[0m \u001b[0marr\u001b[0m \u001b[1;32min\u001b[0m \u001b[0marrays\u001b[0m\u001b[1;33m\u001b[0m\u001b[1;33m\u001b[0m\u001b[0m\n\u001b[0;32m    286\u001b[0m         ]\n\u001b[1;32m--> 287\u001b[1;33m     \u001b[1;32mreturn\u001b[0m \u001b[0marrays_to_mgr\u001b[0m\u001b[1;33m(\u001b[0m\u001b[0marrays\u001b[0m\u001b[1;33m,\u001b[0m \u001b[0mdata_names\u001b[0m\u001b[1;33m,\u001b[0m \u001b[0mindex\u001b[0m\u001b[1;33m,\u001b[0m \u001b[0mcolumns\u001b[0m\u001b[1;33m,\u001b[0m \u001b[0mdtype\u001b[0m\u001b[1;33m=\u001b[0m\u001b[0mdtype\u001b[0m\u001b[1;33m)\u001b[0m\u001b[1;33m\u001b[0m\u001b[1;33m\u001b[0m\u001b[0m\n\u001b[0m\u001b[0;32m    288\u001b[0m \u001b[1;33m\u001b[0m\u001b[0m\n\u001b[0;32m    289\u001b[0m \u001b[1;33m\u001b[0m\u001b[0m\n",
      "\u001b[1;32m~\\anaconda3\\lib\\site-packages\\pandas\\core\\internals\\construction.py\u001b[0m in \u001b[0;36marrays_to_mgr\u001b[1;34m(arrays, arr_names, index, columns, dtype, verify_integrity)\u001b[0m\n\u001b[0;32m     93\u001b[0m     \u001b[0maxes\u001b[0m \u001b[1;33m=\u001b[0m \u001b[1;33m[\u001b[0m\u001b[0mcolumns\u001b[0m\u001b[1;33m,\u001b[0m \u001b[0mindex\u001b[0m\u001b[1;33m]\u001b[0m\u001b[1;33m\u001b[0m\u001b[1;33m\u001b[0m\u001b[0m\n\u001b[0;32m     94\u001b[0m \u001b[1;33m\u001b[0m\u001b[0m\n\u001b[1;32m---> 95\u001b[1;33m     \u001b[1;32mreturn\u001b[0m \u001b[0mcreate_block_manager_from_arrays\u001b[0m\u001b[1;33m(\u001b[0m\u001b[0marrays\u001b[0m\u001b[1;33m,\u001b[0m \u001b[0marr_names\u001b[0m\u001b[1;33m,\u001b[0m \u001b[0maxes\u001b[0m\u001b[1;33m)\u001b[0m\u001b[1;33m\u001b[0m\u001b[1;33m\u001b[0m\u001b[0m\n\u001b[0m\u001b[0;32m     96\u001b[0m \u001b[1;33m\u001b[0m\u001b[0m\n\u001b[0;32m     97\u001b[0m \u001b[1;33m\u001b[0m\u001b[0m\n",
      "\u001b[1;32m~\\anaconda3\\lib\\site-packages\\pandas\\core\\internals\\managers.py\u001b[0m in \u001b[0;36mcreate_block_manager_from_arrays\u001b[1;34m(arrays, names, axes)\u001b[0m\n\u001b[0;32m   1699\u001b[0m     \u001b[0marrays\u001b[0m \u001b[1;33m=\u001b[0m \u001b[1;33m[\u001b[0m\u001b[0mx\u001b[0m \u001b[1;32mif\u001b[0m \u001b[1;32mnot\u001b[0m \u001b[0misinstance\u001b[0m\u001b[1;33m(\u001b[0m\u001b[0mx\u001b[0m\u001b[1;33m,\u001b[0m \u001b[0mABCPandasArray\u001b[0m\u001b[1;33m)\u001b[0m \u001b[1;32melse\u001b[0m \u001b[0mx\u001b[0m\u001b[1;33m.\u001b[0m\u001b[0mto_numpy\u001b[0m\u001b[1;33m(\u001b[0m\u001b[1;33m)\u001b[0m \u001b[1;32mfor\u001b[0m \u001b[0mx\u001b[0m \u001b[1;32min\u001b[0m \u001b[0marrays\u001b[0m\u001b[1;33m]\u001b[0m\u001b[1;33m\u001b[0m\u001b[1;33m\u001b[0m\u001b[0m\n\u001b[0;32m   1700\u001b[0m     \u001b[1;32mtry\u001b[0m\u001b[1;33m:\u001b[0m\u001b[1;33m\u001b[0m\u001b[1;33m\u001b[0m\u001b[0m\n\u001b[1;32m-> 1701\u001b[1;33m         \u001b[0mblocks\u001b[0m \u001b[1;33m=\u001b[0m \u001b[0m_form_blocks\u001b[0m\u001b[1;33m(\u001b[0m\u001b[0marrays\u001b[0m\u001b[1;33m,\u001b[0m \u001b[0mnames\u001b[0m\u001b[1;33m,\u001b[0m \u001b[0maxes\u001b[0m\u001b[1;33m)\u001b[0m\u001b[1;33m\u001b[0m\u001b[1;33m\u001b[0m\u001b[0m\n\u001b[0m\u001b[0;32m   1702\u001b[0m         \u001b[0mmgr\u001b[0m \u001b[1;33m=\u001b[0m \u001b[0mBlockManager\u001b[0m\u001b[1;33m(\u001b[0m\u001b[0mblocks\u001b[0m\u001b[1;33m,\u001b[0m \u001b[0maxes\u001b[0m\u001b[1;33m)\u001b[0m\u001b[1;33m\u001b[0m\u001b[1;33m\u001b[0m\u001b[0m\n\u001b[0;32m   1703\u001b[0m         \u001b[0mmgr\u001b[0m\u001b[1;33m.\u001b[0m\u001b[0m_consolidate_inplace\u001b[0m\u001b[1;33m(\u001b[0m\u001b[1;33m)\u001b[0m\u001b[1;33m\u001b[0m\u001b[1;33m\u001b[0m\u001b[0m\n",
      "\u001b[1;32m~\\anaconda3\\lib\\site-packages\\pandas\\core\\internals\\managers.py\u001b[0m in \u001b[0;36m_form_blocks\u001b[1;34m(arrays, names, axes)\u001b[0m\n\u001b[0;32m   1757\u001b[0m     \u001b[0mblocks\u001b[0m\u001b[1;33m:\u001b[0m \u001b[0mList\u001b[0m\u001b[1;33m[\u001b[0m\u001b[0mBlock\u001b[0m\u001b[1;33m]\u001b[0m \u001b[1;33m=\u001b[0m \u001b[1;33m[\u001b[0m\u001b[1;33m]\u001b[0m\u001b[1;33m\u001b[0m\u001b[1;33m\u001b[0m\u001b[0m\n\u001b[0;32m   1758\u001b[0m     \u001b[1;32mif\u001b[0m \u001b[0mlen\u001b[0m\u001b[1;33m(\u001b[0m\u001b[0mitems_dict\u001b[0m\u001b[1;33m[\u001b[0m\u001b[1;34m\"FloatBlock\"\u001b[0m\u001b[1;33m]\u001b[0m\u001b[1;33m)\u001b[0m\u001b[1;33m:\u001b[0m\u001b[1;33m\u001b[0m\u001b[1;33m\u001b[0m\u001b[0m\n\u001b[1;32m-> 1759\u001b[1;33m         \u001b[0mfloat_blocks\u001b[0m \u001b[1;33m=\u001b[0m \u001b[0m_multi_blockify\u001b[0m\u001b[1;33m(\u001b[0m\u001b[0mitems_dict\u001b[0m\u001b[1;33m[\u001b[0m\u001b[1;34m\"FloatBlock\"\u001b[0m\u001b[1;33m]\u001b[0m\u001b[1;33m)\u001b[0m\u001b[1;33m\u001b[0m\u001b[1;33m\u001b[0m\u001b[0m\n\u001b[0m\u001b[0;32m   1760\u001b[0m         \u001b[0mblocks\u001b[0m\u001b[1;33m.\u001b[0m\u001b[0mextend\u001b[0m\u001b[1;33m(\u001b[0m\u001b[0mfloat_blocks\u001b[0m\u001b[1;33m)\u001b[0m\u001b[1;33m\u001b[0m\u001b[1;33m\u001b[0m\u001b[0m\n\u001b[0;32m   1761\u001b[0m \u001b[1;33m\u001b[0m\u001b[0m\n",
      "\u001b[1;32m~\\anaconda3\\lib\\site-packages\\pandas\\core\\internals\\managers.py\u001b[0m in \u001b[0;36m_multi_blockify\u001b[1;34m(tuples, dtype)\u001b[0m\n\u001b[0;32m   1850\u001b[0m     \u001b[1;32mfor\u001b[0m \u001b[0mdtype\u001b[0m\u001b[1;33m,\u001b[0m \u001b[0mtup_block\u001b[0m \u001b[1;32min\u001b[0m \u001b[0mgrouper\u001b[0m\u001b[1;33m:\u001b[0m\u001b[1;33m\u001b[0m\u001b[1;33m\u001b[0m\u001b[0m\n\u001b[0;32m   1851\u001b[0m \u001b[1;33m\u001b[0m\u001b[0m\n\u001b[1;32m-> 1852\u001b[1;33m         \u001b[0mvalues\u001b[0m\u001b[1;33m,\u001b[0m \u001b[0mplacement\u001b[0m \u001b[1;33m=\u001b[0m \u001b[0m_stack_arrays\u001b[0m\u001b[1;33m(\u001b[0m\u001b[0mlist\u001b[0m\u001b[1;33m(\u001b[0m\u001b[0mtup_block\u001b[0m\u001b[1;33m)\u001b[0m\u001b[1;33m,\u001b[0m \u001b[0mdtype\u001b[0m\u001b[1;33m)\u001b[0m\u001b[1;33m\u001b[0m\u001b[1;33m\u001b[0m\u001b[0m\n\u001b[0m\u001b[0;32m   1853\u001b[0m \u001b[1;33m\u001b[0m\u001b[0m\n\u001b[0;32m   1854\u001b[0m         \u001b[0mblock\u001b[0m \u001b[1;33m=\u001b[0m \u001b[0mmake_block\u001b[0m\u001b[1;33m(\u001b[0m\u001b[0mvalues\u001b[0m\u001b[1;33m,\u001b[0m \u001b[0mplacement\u001b[0m\u001b[1;33m=\u001b[0m\u001b[0mplacement\u001b[0m\u001b[1;33m,\u001b[0m \u001b[0mndim\u001b[0m\u001b[1;33m=\u001b[0m\u001b[1;36m2\u001b[0m\u001b[1;33m)\u001b[0m\u001b[1;33m\u001b[0m\u001b[1;33m\u001b[0m\u001b[0m\n",
      "\u001b[1;32m~\\anaconda3\\lib\\site-packages\\pandas\\core\\internals\\managers.py\u001b[0m in \u001b[0;36m_stack_arrays\u001b[1;34m(tuples, dtype)\u001b[0m\n\u001b[0;32m   1878\u001b[0m     \u001b[0mshape\u001b[0m \u001b[1;33m=\u001b[0m \u001b[1;33m(\u001b[0m\u001b[0mlen\u001b[0m\u001b[1;33m(\u001b[0m\u001b[0marrays\u001b[0m\u001b[1;33m)\u001b[0m\u001b[1;33m,\u001b[0m\u001b[1;33m)\u001b[0m \u001b[1;33m+\u001b[0m \u001b[0m_shape_compat\u001b[0m\u001b[1;33m(\u001b[0m\u001b[0mfirst\u001b[0m\u001b[1;33m)\u001b[0m\u001b[1;33m\u001b[0m\u001b[1;33m\u001b[0m\u001b[0m\n\u001b[0;32m   1879\u001b[0m \u001b[1;33m\u001b[0m\u001b[0m\n\u001b[1;32m-> 1880\u001b[1;33m     \u001b[0mstacked\u001b[0m \u001b[1;33m=\u001b[0m \u001b[0mnp\u001b[0m\u001b[1;33m.\u001b[0m\u001b[0mempty\u001b[0m\u001b[1;33m(\u001b[0m\u001b[0mshape\u001b[0m\u001b[1;33m,\u001b[0m \u001b[0mdtype\u001b[0m\u001b[1;33m=\u001b[0m\u001b[0mdtype\u001b[0m\u001b[1;33m)\u001b[0m\u001b[1;33m\u001b[0m\u001b[1;33m\u001b[0m\u001b[0m\n\u001b[0m\u001b[0;32m   1881\u001b[0m     \u001b[1;32mfor\u001b[0m \u001b[0mi\u001b[0m\u001b[1;33m,\u001b[0m \u001b[0marr\u001b[0m \u001b[1;32min\u001b[0m \u001b[0menumerate\u001b[0m\u001b[1;33m(\u001b[0m\u001b[0marrays\u001b[0m\u001b[1;33m)\u001b[0m\u001b[1;33m:\u001b[0m\u001b[1;33m\u001b[0m\u001b[1;33m\u001b[0m\u001b[0m\n\u001b[0;32m   1882\u001b[0m         \u001b[0mstacked\u001b[0m\u001b[1;33m[\u001b[0m\u001b[0mi\u001b[0m\u001b[1;33m]\u001b[0m \u001b[1;33m=\u001b[0m \u001b[0m_asarray_compat\u001b[0m\u001b[1;33m(\u001b[0m\u001b[0marr\u001b[0m\u001b[1;33m)\u001b[0m\u001b[1;33m\u001b[0m\u001b[1;33m\u001b[0m\u001b[0m\n",
      "\u001b[1;31mMemoryError\u001b[0m: Unable to allocate 5.56 GiB for an array with shape (12747, 58581) and data type float64"
     ]
    }
   ],
   "source": [
    "#import data (beware, it takes around 10 minutes)\n",
    "df = pd.read_csv('../clinical_TumorCompendium_v11_PolyA_2020-04-09.tsv', sep='\\t', header=0)\n",
    "df2 = pd.read_csv('../TumorCompendium_v11_PolyA_hugo_log2tpm_58581genes_2020-04-09.tsv', sep='\\t', header=0)"
   ]
  },
  {
   "cell_type": "code",
   "execution_count": null,
   "id": "5fc9515f-d420-443d-a7d9-f54c07d6c419",
   "metadata": {},
   "outputs": [],
   "source": []
  },
  {
   "cell_type": "code",
   "execution_count": 14,
   "id": "44fe8b87",
   "metadata": {},
   "outputs": [
    {
     "data": {
      "text/plain": [
       "(8, 8)"
      ]
     },
     "execution_count": 14,
     "metadata": {},
     "output_type": "execute_result"
    }
   ],
   "source": [
    "Y.shape"
   ]
  },
  {
   "cell_type": "code",
   "execution_count": 17,
   "id": "10f2463c",
   "metadata": {},
   "outputs": [
    {
     "data": {
      "text/plain": [
       "array([ 533, 5643, 5345,  655,  145,  167,  264,  742])"
      ]
     },
     "execution_count": 17,
     "metadata": {},
     "output_type": "execute_result"
    }
   ],
   "source": [
    "Y[0]"
   ]
  },
  {
   "cell_type": "code",
   "execution_count": 15,
   "id": "42b64073",
   "metadata": {},
   "outputs": [
    {
     "data": {
      "text/plain": [
       "(array([ 2.50249299e+03, -2.09921390e+03,  2.89811522e+04, -1.81831906e+02,\n",
       "         6.91050876e+04,  4.39032228e+05,  2.57149651e+01, -2.61687243e+04,\n",
       "        -2.12199689e+03]),\n",
       " array([ 0.09308269, -0.35694523,  0.86241458, -0.1708543 , -0.23198583,\n",
       "         0.18732832, -0.03836333, -0.02438336]))"
      ]
     },
     "execution_count": 15,
     "metadata": {},
     "output_type": "execute_result"
    }
   ],
   "source": [
    "#testing the CST_fit() method\n",
    "Y = np.array([[533,5643,5345,655,145,167,264,742],[673,8743,45,6,15,6437,2664,7342],[5333,57643,57345,5,1745,67,4,72]\n",
    "              ,[8765,3453,1235,879,985,123,7654,7422],[25233,15643,85345,5655,545,127,274,7522],[5332,56243,533845,6855,1845,1674,8264,7442]\n",
    "              ,[5,53,55,6,15,17,24,42],[5383,7643,2345,7655,98245,1877,56664,1742], [6437,7347,2367,745,7684,1003,6743,6536]]) #9x8\n",
    "#tester = np.where(Y,Y,Y.T) #to make sure it is symmetric and it is\n",
    "ytester = np.array([0,0,0,0,1,1,1,1,1]) # 9x1\n",
    "CST_fit(Y, ytester) #doesn't make a difference if you pass Y or tester"
   ]
  },
  {
   "cell_type": "code",
   "execution_count": 24,
   "id": "fd2448cb",
   "metadata": {},
   "outputs": [
    {
     "data": {
      "text/plain": [
       "(array([ 2.50249299e+03, -2.09921390e+03,  2.89811522e+04, -1.81831906e+02,\n",
       "         6.91050876e+04,  4.39032228e+05,  2.57149651e+01, -2.61687243e+04,\n",
       "        -2.12199689e+03]),\n",
       " array([ 0.09308269, -0.35694523,  0.86241458, -0.1708543 , -0.23198583,\n",
       "         0.18732832, -0.03836333, -0.02438336]))"
      ]
     },
     "execution_count": 24,
     "metadata": {},
     "output_type": "execute_result"
    }
   ],
   "source": [
    "#testing the CST_fit() method\n",
    "Y = np.array([[533,5643,5345,655,145,167,264,742],[673,8743,45,6,15,6437,2664,7342],[5333,57643,57345,5,1745,67,4,72]\n",
    "              ,[8765,3453,1235,879,985,123,7654,7422],[25233,15643,85345,5655,545,127,274,7522],[5332,56243,533845,6855,1845,1674,8264,7442]\n",
    "              ,[5,53,55,6,15,17,24,42],[5383,7643,2345,7655,98245,1877,56664,1742], [6437,7347,2367,745,7684,1003,6743,6536]]) #9x8\n",
    "#tester = np.where(Y,Y,Y.T) #to make sure it is symmetric and it is\n",
    "ytester = np.array([0,0,0,0,1,1,1,1,1]) # 9x1\n",
    "CST_fit(Y, ytester) #doesn't make a difference if you pass Y or tester"
   ]
  },
  {
   "cell_type": "code",
   "execution_count": null,
   "id": "c7ff7203-4977-40cb-a9fa-4b23247624f5",
   "metadata": {},
   "outputs": [],
   "source": [
    "X_trans, f = CST_fit(X_train, y_train) #gets the transformed data and the associated vector minimizer f"
   ]
  },
  {
   "cell_type": "code",
   "execution_count": 10,
   "id": "e82b9f8e-1ae0-491c-b9c4-34f7255f328b",
   "metadata": {},
   "outputs": [],
   "source": [
    "def indicator_func(y, i, j):\n",
    "    \n",
    "    if(y[i] == y[j]):\n",
    "        return 1\n",
    "    else:\n",
    "        return -1\n",
    "    "
   ]
  },
  {
   "cell_type": "code",
   "execution_count": 14,
   "id": "4fdddd72",
   "metadata": {},
   "outputs": [],
   "source": [
    "#transform X into X_trans using CST algorithm\n",
    "def CST_fit(X, y):\n",
    "    \n",
    "    #construct upper triangular A\n",
    "    sampleNum = X.shape[0] #get the number of samples\n",
    "    featureNum = X.shape[1] #get the number of features\n",
    "    temp_A = np.zeros((featureNum, featureNum)) #A has dimensions nxn, devised from outer product of difference of two samples's feature values\n",
    "    \n",
    "    #loops over SxS where S:{1,m} (m = # of samples)\n",
    "    for i in range(sampleNum):\n",
    "        #print(\"Progess:\", i)\n",
    "        for j in range(i, sampleNum):\n",
    "            \n",
    "            #I think I need a condition that says as long as i != j \n",
    "            #(actually don't because it's adding 0's, eliminating saves flops though)\n",
    "            if i != j:\n",
    "                sample_difference = X[i] - X[j]\n",
    "                temp_A += indicator_func(y,i,j)*(np.outer(sample_difference, sample_difference.T))\n",
    "                #sample_dif_sqrd = sample_difference.reshape(-1,1) @ sample_difference.reshape(-1,1).T\n",
    "                #temp_A[i][j] = indicator_func(y, i, j)*sample_dif_sqrd\n",
    "                #temp_A += indicator_func(y, i, j)*sample_dif_sqrd\n",
    "    \n",
    "    #make matrix symmetric\n",
    "    #A = np.where(temp_A, temp_A, temp_A.T)\n",
    "    #print(temp_A) #prints the A matrix to make sure it is symmetric\n",
    "    \n",
    "    #calculate eigenvalues and eigenvectors of A\n",
    "    eigvals, eigvecs = np.linalg.eig(temp_A)\n",
    "    \n",
    "    #get minimum eigenvector\n",
    "    min_ind = np.argmin(eigvals)\n",
    "    min_eigvec = eigvecs[:,min_ind] #in the algorithm, this is the vector f\n",
    "    \n",
    "    #transform the data\n",
    "    X_trans = X @ min_eigvec \n",
    "    \n",
    "    return X_trans, min_eigvec\n",
    "    "
   ]
  },
  {
   "cell_type": "code",
   "execution_count": 12,
   "id": "95842014",
   "metadata": {},
   "outputs": [],
   "source": [
    "def CST_transform(X, y, f):\n",
    "    \n",
    "    #transform the data\n",
    "    X_trans = np.transpose(f) @ X\n",
    "    \n",
    "    return X_trans\n",
    "    "
   ]
  },
  {
   "cell_type": "code",
   "execution_count": null,
   "id": "d174b390",
   "metadata": {},
   "outputs": [],
   "source": []
  },
  {
   "cell_type": "markdown",
   "id": "edc0338e",
   "metadata": {},
   "source": [
    "### Test time for outer products of differing sizes"
   ]
  },
  {
   "cell_type": "code",
   "execution_count": 4,
   "id": "5160166f",
   "metadata": {},
   "outputs": [],
   "source": [
    "import time"
   ]
  },
  {
   "cell_type": "code",
   "execution_count": 162,
   "id": "f6702e62",
   "metadata": {},
   "outputs": [
    {
     "name": "stdout",
     "output_type": "stream",
     "text": [
      "8.30176329612732\n"
     ]
    }
   ],
   "source": [
    "#time how long it takes for one outer product in CST for this dataset\n",
    "start = time.time()\n",
    "np.outer(X_train[0], X_train[1])\n",
    "end = time.time()\n",
    "print(end - start)"
   ]
  },
  {
   "cell_type": "code",
   "execution_count": 19,
   "id": "762d9153",
   "metadata": {},
   "outputs": [
    {
     "name": "stdout",
     "output_type": "stream",
     "text": [
      "0.0\n"
     ]
    }
   ],
   "source": [
    "test1 = np.random.rand(100)\n",
    "test2 = np.random.rand(100)\n",
    "start = time.time()\n",
    "np.outer(test1, test2)\n",
    "end = time.time()\n",
    "print(end - start)"
   ]
  },
  {
   "cell_type": "code",
   "execution_count": 20,
   "id": "0a54fa0e",
   "metadata": {},
   "outputs": [
    {
     "name": "stdout",
     "output_type": "stream",
     "text": [
      "0.016012907028198242\n"
     ]
    }
   ],
   "source": [
    "test1 = np.random.rand(1000)\n",
    "test2 = np.random.rand(1000)\n",
    "start = time.time()\n",
    "np.outer(test1, test2)\n",
    "end = time.time()\n",
    "print(end - start)"
   ]
  },
  {
   "cell_type": "code",
   "execution_count": 24,
   "id": "cbc4556d",
   "metadata": {},
   "outputs": [
    {
     "name": "stdout",
     "output_type": "stream",
     "text": [
      "0.04790639877319336\n"
     ]
    }
   ],
   "source": [
    "test1 = np.random.rand(2500)\n",
    "test2 = np.random.rand(2500)\n",
    "start = time.time()\n",
    "np.outer(test1, test2)\n",
    "end = time.time()\n",
    "print(end - start)"
   ]
  },
  {
   "cell_type": "code",
   "execution_count": 25,
   "id": "0b22a92b",
   "metadata": {},
   "outputs": [
    {
     "name": "stdout",
     "output_type": "stream",
     "text": [
      "0.10765194892883301\n"
     ]
    }
   ],
   "source": [
    "test1 = np.random.rand(4000)\n",
    "test2 = np.random.rand(4000)\n",
    "start = time.time()\n",
    "np.outer(test1, test2)\n",
    "end = time.time()\n",
    "print(end - start)"
   ]
  },
  {
   "cell_type": "code",
   "execution_count": 23,
   "id": "2004c6f1",
   "metadata": {},
   "outputs": [
    {
     "name": "stdout",
     "output_type": "stream",
     "text": [
      "0.15719389915466309\n"
     ]
    }
   ],
   "source": [
    "test1 = np.random.rand(5000)\n",
    "test2 = np.random.rand(5000)\n",
    "start = time.time()\n",
    "np.outer(test1, test2)\n",
    "end = time.time()\n",
    "print(end - start)"
   ]
  },
  {
   "cell_type": "code",
   "execution_count": 22,
   "id": "fb2d7f03",
   "metadata": {},
   "outputs": [
    {
     "name": "stdout",
     "output_type": "stream",
     "text": [
      "0.40102601051330566\n"
     ]
    }
   ],
   "source": [
    "test1 = np.random.rand(8000)\n",
    "test2 = np.random.rand(8000)\n",
    "start = time.time()\n",
    "np.outer(test1, test2)\n",
    "end = time.time()\n",
    "print(end - start)"
   ]
  },
  {
   "cell_type": "code",
   "execution_count": 6,
   "id": "96c390e4",
   "metadata": {},
   "outputs": [
    {
     "name": "stdout",
     "output_type": "stream",
     "text": [
      "255.6153745651245\n"
     ]
    }
   ],
   "source": [
    "start = time.time()\n",
    "for i in range(1300): #for 1300 samples we need 720,600 outer loop iterations\n",
    "    test1 = np.random.rand(8000)\n",
    "    test2 = np.random.rand(8000)\n",
    "    np.outer(test1, test2)\n",
    "end = time.time()\n",
    "print(end - start)"
   ]
  },
  {
   "cell_type": "code",
   "execution_count": 21,
   "id": "ae6e6982",
   "metadata": {},
   "outputs": [
    {
     "name": "stdout",
     "output_type": "stream",
     "text": [
      "0.6265442371368408\n"
     ]
    }
   ],
   "source": [
    "test1 = np.random.rand(10000)\n",
    "test2 = np.random.rand(10000)\n",
    "start = time.time()\n",
    "np.outer(test1, test2)\n",
    "end = time.time()\n",
    "print(end - start)"
   ]
  },
  {
   "cell_type": "code",
   "execution_count": null,
   "id": "f8f14ecb",
   "metadata": {},
   "outputs": [],
   "source": []
  },
  {
   "cell_type": "code",
   "execution_count": null,
   "id": "6138dc8a",
   "metadata": {},
   "outputs": [],
   "source": []
  },
  {
   "cell_type": "code",
   "execution_count": null,
   "id": "9a09c335",
   "metadata": {},
   "outputs": [],
   "source": []
  },
  {
   "cell_type": "code",
   "execution_count": null,
   "id": "bf5a57f2",
   "metadata": {},
   "outputs": [],
   "source": []
  },
  {
   "cell_type": "code",
   "execution_count": null,
   "id": "b1edbf86",
   "metadata": {},
   "outputs": [],
   "source": []
  },
  {
   "cell_type": "code",
   "execution_count": null,
   "id": "07dcee8f-8002-455d-b922-c24c1ff8330d",
   "metadata": {},
   "outputs": [],
   "source": []
  },
  {
   "cell_type": "code",
   "execution_count": null,
   "id": "c6336984-993a-42ef-87f6-b1c73bca121b",
   "metadata": {},
   "outputs": [],
   "source": []
  },
  {
   "cell_type": "code",
   "execution_count": null,
   "id": "037d1653-7476-4df7-80ac-1cf9104c02a5",
   "metadata": {},
   "outputs": [],
   "source": [
    "#cells below are testing the binary classifiers to make sure the shapes are correct (they weren't but now are)"
   ]
  },
  {
   "cell_type": "code",
   "execution_count": 110,
   "id": "a955d6f0-63c1-4b32-91c3-e325bb7ff729",
   "metadata": {},
   "outputs": [],
   "source": [
    "df_samples = df[df['disease']=='acute myeloid leukemia']\n",
    "\n",
    "samples = df_samples[df_samples['pedaya']=='No']['th_sampleid']\n",
    "pos_samples = df2.loc[:,list(samples)]\n",
    "\n",
    "samples = df_samples[df_samples['pedaya']=='Yes, age < 30 years']['th_sampleid']\n",
    "neg_samples = df2.loc[:,list(samples)]\n",
    "\n",
    "pos_samples.shape\n",
    "\n",
    "x = pd.concat([pos_samples.T, neg_samples.T]) #add together all postiive and negative labels \n",
    "x = StandardScaler().fit_transform(x) #standardize values in x (z-score standardization)\n",
    "\n",
    "target_zeros = pd.DataFrame(np.zeros((len(neg_samples.T), 1))) #get number of target zeros\n",
    "target_ones = pd.DataFrame(np.ones((len(pos_samples.T), 1))) #get number of target ones\n",
    "target = pd.concat([target_ones, target_zeros]) #concatenate target ones and zeros together\n",
    "target = target.reset_index(drop=True)\n",
    "\n",
    "#split the data into test and train\n",
    "X_train, X_test, y_train, y_test = train_test_split(x, target.to_numpy(), test_size=0.3, random_state=42)"
   ]
  },
  {
   "cell_type": "code",
   "execution_count": 112,
   "id": "7ecb03df-b3d8-4193-8dcc-08ba8f434f3d",
   "metadata": {},
   "outputs": [
    {
     "name": "stdout",
     "output_type": "stream",
     "text": [
      "(58581, 160)\n",
      "(326, 58581)\n"
     ]
    }
   ],
   "source": [
    "print(pos_samples.shape)\n",
    "print(X_train.shape)"
   ]
  },
  {
   "cell_type": "code",
   "execution_count": 141,
   "id": "cd8a9b9b-2980-4e20-903b-58e0de355ba7",
   "metadata": {},
   "outputs": [],
   "source": [
    "df_samples = df[df['disease']=='lung squamous cell carcinoma']\n",
    "samples = df_samples[df_samples['gender']=='male']['th_sampleid']\n",
    "pos_samples11 = df2.loc[:,list(samples)]\n",
    "samples = df_samples[df_samples['gender']=='female']['th_sampleid'] \n",
    "neg_samples11 = df2.loc[:,list(samples)]\n",
    "\n",
    "df_samples = df[df['disease']=='kidney clear cell carcinoma']\n",
    "samples = df_samples[df_samples['gender']=='male']['th_sampleid']\n",
    "pos_samples12 = df2.loc[:,list(samples)]\n",
    "samples = df_samples[df_samples['gender']=='female']['th_sampleid'] \n",
    "neg_samples12 = df2.loc[:,list(samples)]\n",
    "\n",
    "df_samples = df[df['disease']=='thyroid carcinoma']\n",
    "samples = df_samples[df_samples['gender']=='male']['th_sampleid']\n",
    "pos_samples13 = df2.loc[:,list(samples)]\n",
    "samples = df_samples[df_samples['gender']=='female']['th_sampleid'] \n",
    "neg_samples13 = df2.loc[:,list(samples)]\n",
    "\n",
    "df_samples = df[df['disease']=='head & neck squamous cell carcinoma']\n",
    "samples = df_samples[df_samples['gender']=='male']['th_sampleid']\n",
    "pos_samples14 = df2.loc[:,list(samples)]\n",
    "samples = df_samples[df_samples['gender']=='female']['th_sampleid'] \n",
    "neg_samples14 = df2.loc[:,list(samples)]\n",
    "\n",
    "df_samples = df[df['disease']=='kidney papillary cell carcinoma']\n",
    "samples = df_samples[df_samples['gender']=='male']['th_sampleid']\n",
    "pos_samples15 = df2.loc[:,list(samples)]\n",
    "samples = df_samples[df_samples['gender']=='female']['th_sampleid'] \n",
    "neg_samples15 = df2.loc[:,list(samples)]\n",
    "\n",
    "df_samples = df[df['disease']=='bladder urothelial carcinoma']\n",
    "samples = df_samples[df_samples['gender']=='male']['th_sampleid']\n",
    "pos_samples16 = df2.loc[:,list(samples)]\n",
    "samples = df_samples[df_samples['gender']=='female']['th_sampleid'] \n",
    "neg_samples16 = df2.loc[:,list(samples)]\n",
    "\n",
    "neg_samples12.shape\n",
    "#np.concatenate(neg_samples, neg_samples13)\n",
    "temperneg = pd.concat([neg_samples11.T, neg_samples12.T, neg_samples13.T, neg_samples14.T, neg_samples15.T, neg_samples16.T])\n",
    "temperpos = pd.concat([pos_samples11.T, pos_samples12.T, pos_samples13.T, pos_samples14.T, pos_samples15.T, pos_samples16.T])"
   ]
  },
  {
   "cell_type": "code",
   "execution_count": 150,
   "id": "d3bfe3b2-676c-4b1c-8cb5-3f58449c253e",
   "metadata": {},
   "outputs": [
    {
     "data": {
      "text/plain": [
       "(2762, 58581)"
      ]
     },
     "execution_count": 150,
     "metadata": {},
     "output_type": "execute_result"
    }
   ],
   "source": [
    "x = pd.concat([temperneg, temperpos]) \n",
    "x.shape"
   ]
  },
  {
   "cell_type": "code",
   "execution_count": 152,
   "id": "2436f7a1-ce9e-49f6-9071-a3e743a1518f",
   "metadata": {},
   "outputs": [],
   "source": [
    "x = pd.concat([temperneg, temperpos]) #add together all postiive and negative labels \n",
    "x = StandardScaler().fit_transform(x) #standardize values in x (z-score standardization)\n",
    "\n",
    "target_zeros = pd.DataFrame(np.zeros((len(temperneg), 1))) #get number of target zeros\n",
    "target_ones = pd.DataFrame(np.ones((len(temperpos), 1))) #get number of target ones\n",
    "target = pd.concat([target_ones, target_zeros]) #concatenate target ones and zeros together\n",
    "target = target.reset_index(drop=True)\n",
    "\n",
    "#split the data into test and train\n",
    "X_train, X_test, y_train, y_test = train_test_split(x, target.to_numpy(), test_size=0.3, random_state=42)"
   ]
  },
  {
   "cell_type": "code",
   "execution_count": 153,
   "id": "4263788f-c166-4c5b-a9ff-a906281099d2",
   "metadata": {},
   "outputs": [
    {
     "data": {
      "text/plain": [
       "(1933, 58581)"
      ]
     },
     "execution_count": 153,
     "metadata": {},
     "output_type": "execute_result"
    }
   ],
   "source": [
    "X_train.shape"
   ]
  },
  {
   "cell_type": "code",
   "execution_count": 154,
   "id": "ee462b05-5554-41cc-971a-a094a8073bf4",
   "metadata": {},
   "outputs": [
    {
     "data": {
      "text/plain": [
       "array([[-0.14037443, -0.02683328, -0.28931516, ...,  0.        ,\n",
       "        -0.3607229 , -0.24700628],\n",
       "       [-0.14037443, -0.02683328, -0.28931516, ...,  0.        ,\n",
       "        -0.33775742, -0.24700628],\n",
       "       [-0.14037443, -0.02683328,  0.86913107, ...,  0.        ,\n",
       "         0.28057589, -0.24700628],\n",
       "       ...,\n",
       "       [-0.14037443, -0.02683328, -0.28931516, ...,  0.        ,\n",
       "        -1.41784984, -0.24700628],\n",
       "       [-0.14037443, -0.02683328, -0.28931516, ...,  0.        ,\n",
       "         0.73630094, -0.24700628],\n",
       "       [-0.14037443, -0.02683328,  1.55898756, ...,  0.        ,\n",
       "        -0.60884267, -0.24700628]])"
      ]
     },
     "execution_count": 154,
     "metadata": {},
     "output_type": "execute_result"
    }
   ],
   "source": [
    "x"
   ]
  },
  {
   "cell_type": "code",
   "execution_count": 138,
   "id": "f6bfd8bc-12f3-4f2e-8624-f5c2ef0a30db",
   "metadata": {},
   "outputs": [
    {
     "name": "stdout",
     "output_type": "stream",
     "text": [
      "27357327\n",
      "0\n"
     ]
    }
   ],
   "source": [
    "print(np.count_nonzero(~np.isnan(x)))\n",
    "print(np.count_nonzero(np.isnan(x)))"
   ]
  },
  {
   "cell_type": "code",
   "execution_count": null,
   "id": "26eb0cef-89df-4588-bd0f-d45eff604d92",
   "metadata": {},
   "outputs": [],
   "source": []
  },
  {
   "cell_type": "code",
   "execution_count": 139,
   "id": "4aee6320-2670-463a-aa89-df3cc40785a8",
   "metadata": {},
   "outputs": [],
   "source": [
    "df_samples = df[df['disease']=='lung adenocarcinoma']\n",
    "samples = df_samples[df_samples['pedaya']=='Yes, age < 30 years']['th_sampleid']\n",
    "pos_samples27 = df2.loc[:,list(samples)]\n",
    "samples = df_samples[df_samples['pedaya']=='No']['th_sampleid'] \n",
    "neg_samples27 = df2.loc[:,list(samples)]\n",
    "\n",
    "df_samples = df[df['disease']=='stomach adenocarcinoma']\n",
    "samples = df_samples[df_samples['pedaya']=='Yes, age < 30 years']['th_sampleid']\n",
    "pos_samples28 = df2.loc[:,list(samples)]\n",
    "samples = df_samples[df_samples['pedaya']=='No']['th_sampleid'] \n",
    "neg_samples28 = df2.loc[:,list(samples)]\n",
    "\n",
    "df_samples = df[df['disease']=='prostate adenocarcinoma']\n",
    "samples = df_samples[df_samples['pedaya']=='Yes, age < 30 years']['th_sampleid']\n",
    "pos_samples29 = df2.loc[:,list(samples)]\n",
    "samples = df_samples[df_samples['pedaya']=='No']['th_sampleid'] \n",
    "neg_samples29 = df2.loc[:,list(samples)]\n",
    "\n",
    "df_samples = df[df['disease']=='colon adenocarcinoma']\n",
    "samples = df_samples[df_samples['pedaya']=='Yes, age < 30 years']['th_sampleid']\n",
    "pos_samples30 = df2.loc[:,list(samples)]\n",
    "samples = df_samples[df_samples['pedaya']=='No']['th_sampleid'] \n",
    "neg_samples30 = df2.loc[:,list(samples)]"
   ]
  },
  {
   "cell_type": "code",
   "execution_count": 140,
   "id": "3364efbf-b9e8-4de6-9e80-f38005e760c1",
   "metadata": {},
   "outputs": [],
   "source": [
    "pos_samples6 = pd.concat([pos_samples27.T, pos_samples28.T, pos_samples29.T, pos_samples30.T])\n",
    "neg_samples6 = pd.concat([neg_samples27.T, neg_samples28.T, neg_samples29.T, neg_samples30.T])"
   ]
  },
  {
   "cell_type": "code",
   "execution_count": null,
   "id": "7b9d99f9-8c50-4517-ae06-04ed917b3270",
   "metadata": {},
   "outputs": [],
   "source": []
  },
  {
   "cell_type": "code",
   "execution_count": 155,
   "id": "150da94c-30a3-4fc6-8caf-616e873109a7",
   "metadata": {},
   "outputs": [],
   "source": [
    "g1_samples = pd.concat([pos_samples27.T, pos_samples28.T, pos_samples29.T, pos_samples30.T])\n",
    "g2_samples = pd.concat([neg_samples27.T, neg_samples28.T, neg_samples29.T, neg_samples30.T])\n",
    "\n",
    "x = pd.concat([g1_samples, g2_samples]) #add together all postiive and negative labels \n",
    "x = StandardScaler().fit_transform(x) #standardize values in x (z-score standardization)\n",
    "\n",
    "target_g1 = pd.DataFrame(np.zeros((len(g1_samples), 1))) #get number of target group 1\n",
    "target_g2 = pd.DataFrame(np.ones((len(g2_samples), 1))) #get number of target group 2\n",
    "\n",
    "target = pd.concat([target_g1, target_g2]) #concatenate target zeros ones twos etc together\n",
    "target = target.reset_index(drop=True)"
   ]
  },
  {
   "cell_type": "code",
   "execution_count": 156,
   "id": "91ab1597-abbe-4c1d-b6fe-6428ec989fc0",
   "metadata": {},
   "outputs": [
    {
     "data": {
      "text/plain": [
       "array([[-0.19286981, -0.02431083,  0.86393793, ...,  0.        ,\n",
       "         1.06946242,  3.28324882],\n",
       "       [ 5.44939562, -0.02431083,  0.15993541, ...,  0.        ,\n",
       "         1.37012581,  0.105719  ],\n",
       "       [-0.19286981, -0.02431083,  0.10680934, ...,  0.        ,\n",
       "         2.72669997, -0.30247536],\n",
       "       ...,\n",
       "       [-0.19286981, -0.02431083, -0.35445028, ...,  0.        ,\n",
       "         1.26255297, -0.30247536],\n",
       "       [-0.19286981, -0.02431083, -0.35445028, ...,  0.        ,\n",
       "         0.50939855, -0.30247536],\n",
       "       [-0.19286981, -0.02431083, -0.35445028, ...,  0.        ,\n",
       "         1.13081234,  1.09414353]])"
      ]
     },
     "execution_count": 156,
     "metadata": {},
     "output_type": "execute_result"
    }
   ],
   "source": [
    "x"
   ]
  },
  {
   "cell_type": "code",
   "execution_count": 157,
   "id": "fd96c331-9d3f-4f11-9c7b-82f5a4872fad",
   "metadata": {},
   "outputs": [
    {
     "name": "stdout",
     "output_type": "stream",
     "text": [
      "99177633\n",
      "0\n"
     ]
    }
   ],
   "source": [
    "print(np.count_nonzero(~np.isnan(x)))\n",
    "print(np.count_nonzero(np.isnan(x)))"
   ]
  },
  {
   "cell_type": "code",
   "execution_count": null,
   "id": "1608fe60-923a-4b15-a4ed-a17d56a49cd3",
   "metadata": {},
   "outputs": [],
   "source": []
  }
 ],
 "metadata": {
  "kernelspec": {
   "display_name": "Python 3",
   "language": "python",
   "name": "python3"
  },
  "language_info": {
   "codemirror_mode": {
    "name": "ipython",
    "version": 3
   },
   "file_extension": ".py",
   "mimetype": "text/x-python",
   "name": "python",
   "nbconvert_exporter": "python",
   "pygments_lexer": "ipython3",
   "version": "3.8.8"
  }
 },
 "nbformat": 4,
 "nbformat_minor": 5
}
